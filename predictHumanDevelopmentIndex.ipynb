{
 "cells": [
  {
   "cell_type": "markdown",
   "source": [
    "# Predicting Human Development Index "
   ],
   "metadata": {}
  },
  {
   "cell_type": "markdown",
   "source": [
    "## 0 Dependencies"
   ],
   "metadata": {}
  },
  {
   "cell_type": "code",
   "execution_count": 1,
   "source": [
    "import numpy as np\n",
    "import pandas as pd\n",
    "\n",
    "import altair as alt \n",
    "import matplotlib.pyplot as plt\n",
    "import seaborn as sns"
   ],
   "outputs": [],
   "metadata": {}
  },
  {
   "cell_type": "markdown",
   "source": [
    "## 1 Import Data"
   ],
   "metadata": {}
  },
  {
   "cell_type": "markdown",
   "source": [
    "**Data Sources**\n",
    "\n",
    "Data is sourced from multiple different pages and tables located on the OurWorldInData website.\n",
    "\n",
    "- https://ourworldindata.org/mental-health\n",
    "- https://ourworldindata.org/human-development-index\n",
    "- https://ourworldindata.org/democracy\n",
    "- https://ourworldindata.org/food-supply"
   ],
   "metadata": {}
  },
  {
   "cell_type": "code",
   "execution_count": 2,
   "source": [
    "# load data\n",
    "data_dir = \"data\" \n",
    "hdi = pd.read_csv(f\"{data_dir}/human-development-index.csv\")\n",
    "depression = pd.read_csv(f\"{data_dir}/depressive-disorders-prevalence-ihme.csv\")\n",
    "democracy = pd.read_csv(f\"{data_dir}/electoral-democracy-index.csv\")\n",
    "food = pd.read_csv(f\"{data_dir}/daily-per-capita-caloric-supply.csv\")\n",
    "\n",
    "\n",
    "# inspect datasets here   \n",
    "food.head()"
   ],
   "outputs": [
    {
     "output_type": "execute_result",
     "data": {
      "text/plain": [
       "        Entity Code  Year  \\\n",
       "0  Afghanistan  AFG  1961   \n",
       "1  Afghanistan  AFG  1962   \n",
       "2  Afghanistan  AFG  1963   \n",
       "3  Afghanistan  AFG  1964   \n",
       "4  Afghanistan  AFG  1965   \n",
       "\n",
       "   Daily caloric supply (OWID based on UN FAO & historical sources)  \n",
       "0                                             2999.0                 \n",
       "1                                             2917.0                 \n",
       "2                                             2698.0                 \n",
       "3                                             2953.0                 \n",
       "4                                             2956.0                 "
      ],
      "text/html": [
       "<div>\n",
       "<style scoped>\n",
       "    .dataframe tbody tr th:only-of-type {\n",
       "        vertical-align: middle;\n",
       "    }\n",
       "\n",
       "    .dataframe tbody tr th {\n",
       "        vertical-align: top;\n",
       "    }\n",
       "\n",
       "    .dataframe thead th {\n",
       "        text-align: right;\n",
       "    }\n",
       "</style>\n",
       "<table border=\"1\" class=\"dataframe\">\n",
       "  <thead>\n",
       "    <tr style=\"text-align: right;\">\n",
       "      <th></th>\n",
       "      <th>Entity</th>\n",
       "      <th>Code</th>\n",
       "      <th>Year</th>\n",
       "      <th>Daily caloric supply (OWID based on UN FAO &amp; historical sources)</th>\n",
       "    </tr>\n",
       "  </thead>\n",
       "  <tbody>\n",
       "    <tr>\n",
       "      <th>0</th>\n",
       "      <td>Afghanistan</td>\n",
       "      <td>AFG</td>\n",
       "      <td>1961</td>\n",
       "      <td>2999.0</td>\n",
       "    </tr>\n",
       "    <tr>\n",
       "      <th>1</th>\n",
       "      <td>Afghanistan</td>\n",
       "      <td>AFG</td>\n",
       "      <td>1962</td>\n",
       "      <td>2917.0</td>\n",
       "    </tr>\n",
       "    <tr>\n",
       "      <th>2</th>\n",
       "      <td>Afghanistan</td>\n",
       "      <td>AFG</td>\n",
       "      <td>1963</td>\n",
       "      <td>2698.0</td>\n",
       "    </tr>\n",
       "    <tr>\n",
       "      <th>3</th>\n",
       "      <td>Afghanistan</td>\n",
       "      <td>AFG</td>\n",
       "      <td>1964</td>\n",
       "      <td>2953.0</td>\n",
       "    </tr>\n",
       "    <tr>\n",
       "      <th>4</th>\n",
       "      <td>Afghanistan</td>\n",
       "      <td>AFG</td>\n",
       "      <td>1965</td>\n",
       "      <td>2956.0</td>\n",
       "    </tr>\n",
       "  </tbody>\n",
       "</table>\n",
       "</div>"
      ]
     },
     "metadata": {},
     "execution_count": 2
    }
   ],
   "metadata": {}
  },
  {
   "cell_type": "markdown",
   "source": [
    "## 2 Data Cleaning"
   ],
   "metadata": {}
  },
  {
   "cell_type": "markdown",
   "source": [
    "### 2.1 Missing Values\n",
    "\n",
    "Missing values are almost always going to be necessary to check for when dealing with a fresh dataset. \n",
    "\n",
    "What you do with those missing values may vary. There are two typical routes for handling missing values:\n",
    "- **Removal:** Simply remove all the rows missing values. \n",
    "- **Imputation:** Replace all missing values with a metric based on that column (i.e. median, mean, ...). Imputation has benefits and consequences, be sure to research first."
   ],
   "metadata": {}
  },
  {
   "cell_type": "code",
   "execution_count": 3,
   "source": [
    "# check for missing values in Code column for each dataset \n",
    "print('hdi', hdi['Code'].isna().sum())\n",
    "print('depression', depression['Code'].isna().sum())\n",
    "print('democracy', democracy['Code'].isna().sum())\n",
    "print('food', food['Code'].isna().sum())\n"
   ],
   "outputs": [
    {
     "output_type": "stream",
     "name": "stdout",
     "text": [
      "hdi 320\n",
      "depression 270\n",
      "democracy 1893\n",
      "food 586\n"
     ]
    }
   ],
   "metadata": {}
  },
  {
   "cell_type": "code",
   "execution_count": 4,
   "source": [
    "# it seems only the Code variable has missing values, inspect to figure out why\n",
    "democracy[democracy['Code'].isna()]"
   ],
   "outputs": [
    {
     "output_type": "execute_result",
     "data": {
      "text/plain": [
       "              Entity Code  Year  electdem_vdem_owid  electdem_vdem_high_owid  \\\n",
       "234           Africa  NaN  1789            0.018800                 0.025600   \n",
       "235           Africa  NaN  1790            0.018600                 0.025600   \n",
       "236           Africa  NaN  1791            0.018600                 0.025600   \n",
       "237           Africa  NaN  1792            0.018600                 0.025600   \n",
       "238           Africa  NaN  1793            0.018800                 0.025600   \n",
       "...              ...  ...   ...                 ...                      ...   \n",
       "26650  South America  NaN  2018            0.686500                 0.739583   \n",
       "26651  South America  NaN  2019            0.660667                 0.714250   \n",
       "26652  South America  NaN  2020            0.645333                 0.697917   \n",
       "26653  South America  NaN  2021            0.657000                 0.711667   \n",
       "26654  South America  NaN  2022            0.658583                 0.715917   \n",
       "\n",
       "       electdem_vdem_low_owid  \n",
       "234                  0.010400  \n",
       "235                  0.010600  \n",
       "236                  0.010600  \n",
       "237                  0.010600  \n",
       "238                  0.010400  \n",
       "...                       ...  \n",
       "26650                0.635083  \n",
       "26651                0.610167  \n",
       "26652                0.597833  \n",
       "26653                0.604500  \n",
       "26654                0.608833  \n",
       "\n",
       "[1893 rows x 6 columns]"
      ],
      "text/html": [
       "<div>\n",
       "<style scoped>\n",
       "    .dataframe tbody tr th:only-of-type {\n",
       "        vertical-align: middle;\n",
       "    }\n",
       "\n",
       "    .dataframe tbody tr th {\n",
       "        vertical-align: top;\n",
       "    }\n",
       "\n",
       "    .dataframe thead th {\n",
       "        text-align: right;\n",
       "    }\n",
       "</style>\n",
       "<table border=\"1\" class=\"dataframe\">\n",
       "  <thead>\n",
       "    <tr style=\"text-align: right;\">\n",
       "      <th></th>\n",
       "      <th>Entity</th>\n",
       "      <th>Code</th>\n",
       "      <th>Year</th>\n",
       "      <th>electdem_vdem_owid</th>\n",
       "      <th>electdem_vdem_high_owid</th>\n",
       "      <th>electdem_vdem_low_owid</th>\n",
       "    </tr>\n",
       "  </thead>\n",
       "  <tbody>\n",
       "    <tr>\n",
       "      <th>234</th>\n",
       "      <td>Africa</td>\n",
       "      <td>NaN</td>\n",
       "      <td>1789</td>\n",
       "      <td>0.018800</td>\n",
       "      <td>0.025600</td>\n",
       "      <td>0.010400</td>\n",
       "    </tr>\n",
       "    <tr>\n",
       "      <th>235</th>\n",
       "      <td>Africa</td>\n",
       "      <td>NaN</td>\n",
       "      <td>1790</td>\n",
       "      <td>0.018600</td>\n",
       "      <td>0.025600</td>\n",
       "      <td>0.010600</td>\n",
       "    </tr>\n",
       "    <tr>\n",
       "      <th>236</th>\n",
       "      <td>Africa</td>\n",
       "      <td>NaN</td>\n",
       "      <td>1791</td>\n",
       "      <td>0.018600</td>\n",
       "      <td>0.025600</td>\n",
       "      <td>0.010600</td>\n",
       "    </tr>\n",
       "    <tr>\n",
       "      <th>237</th>\n",
       "      <td>Africa</td>\n",
       "      <td>NaN</td>\n",
       "      <td>1792</td>\n",
       "      <td>0.018600</td>\n",
       "      <td>0.025600</td>\n",
       "      <td>0.010600</td>\n",
       "    </tr>\n",
       "    <tr>\n",
       "      <th>238</th>\n",
       "      <td>Africa</td>\n",
       "      <td>NaN</td>\n",
       "      <td>1793</td>\n",
       "      <td>0.018800</td>\n",
       "      <td>0.025600</td>\n",
       "      <td>0.010400</td>\n",
       "    </tr>\n",
       "    <tr>\n",
       "      <th>...</th>\n",
       "      <td>...</td>\n",
       "      <td>...</td>\n",
       "      <td>...</td>\n",
       "      <td>...</td>\n",
       "      <td>...</td>\n",
       "      <td>...</td>\n",
       "    </tr>\n",
       "    <tr>\n",
       "      <th>26650</th>\n",
       "      <td>South America</td>\n",
       "      <td>NaN</td>\n",
       "      <td>2018</td>\n",
       "      <td>0.686500</td>\n",
       "      <td>0.739583</td>\n",
       "      <td>0.635083</td>\n",
       "    </tr>\n",
       "    <tr>\n",
       "      <th>26651</th>\n",
       "      <td>South America</td>\n",
       "      <td>NaN</td>\n",
       "      <td>2019</td>\n",
       "      <td>0.660667</td>\n",
       "      <td>0.714250</td>\n",
       "      <td>0.610167</td>\n",
       "    </tr>\n",
       "    <tr>\n",
       "      <th>26652</th>\n",
       "      <td>South America</td>\n",
       "      <td>NaN</td>\n",
       "      <td>2020</td>\n",
       "      <td>0.645333</td>\n",
       "      <td>0.697917</td>\n",
       "      <td>0.597833</td>\n",
       "    </tr>\n",
       "    <tr>\n",
       "      <th>26653</th>\n",
       "      <td>South America</td>\n",
       "      <td>NaN</td>\n",
       "      <td>2021</td>\n",
       "      <td>0.657000</td>\n",
       "      <td>0.711667</td>\n",
       "      <td>0.604500</td>\n",
       "    </tr>\n",
       "    <tr>\n",
       "      <th>26654</th>\n",
       "      <td>South America</td>\n",
       "      <td>NaN</td>\n",
       "      <td>2022</td>\n",
       "      <td>0.658583</td>\n",
       "      <td>0.715917</td>\n",
       "      <td>0.608833</td>\n",
       "    </tr>\n",
       "  </tbody>\n",
       "</table>\n",
       "<p>1893 rows × 6 columns</p>\n",
       "</div>"
      ]
     },
     "metadata": {},
     "execution_count": 4
    }
   ],
   "metadata": {}
  },
  {
   "cell_type": "code",
   "execution_count": 5,
   "source": [
    "# remove continents and other entities from the datasets\n",
    "hdi.dropna(subset=['Code'], inplace=True)\n",
    "depression.dropna(subset=['Code'], inplace=True)\n",
    "democracy.dropna(subset=['Code'], inplace=True)\n",
    "food.dropna(subset=['Code'], inplace=True)\n",
    "\n",
    "print('hdi', hdi['Code'].isna().sum())\n",
    "print('depression', depression['Code'].isna().sum())\n",
    "print('democracy', democracy['Code'].isna().sum())\n",
    "print('food', food['Code'].isna().sum())"
   ],
   "outputs": [
    {
     "output_type": "stream",
     "name": "stdout",
     "text": [
      "hdi 0\n",
      "depression 0\n",
      "democracy 0\n",
      "food 0\n"
     ]
    }
   ],
   "metadata": {}
  },
  {
   "cell_type": "markdown",
   "source": [
    "### 2.2 Dropping Unnecessary Columns"
   ],
   "metadata": {}
  },
  {
   "cell_type": "code",
   "execution_count": 6,
   "source": [
    "# drop Code column from each dataset\n",
    "# drop extra democracy columns, keep the median\n",
    "hdi.drop(columns=['Code'], inplace=True)\n",
    "depression.drop(columns=['Code'], inplace=True)\n",
    "democracy.drop(columns=['Code', 'electdem_vdem_high_owid', 'electdem_vdem_low_owid'], inplace=True)\n",
    "food.drop(columns=['Code'], inplace=True)"
   ],
   "outputs": [],
   "metadata": {}
  },
  {
   "cell_type": "code",
   "execution_count": 7,
   "source": [
    "food.head()"
   ],
   "outputs": [
    {
     "output_type": "execute_result",
     "data": {
      "text/plain": [
       "        Entity  Year  \\\n",
       "0  Afghanistan  1961   \n",
       "1  Afghanistan  1962   \n",
       "2  Afghanistan  1963   \n",
       "3  Afghanistan  1964   \n",
       "4  Afghanistan  1965   \n",
       "\n",
       "   Daily caloric supply (OWID based on UN FAO & historical sources)  \n",
       "0                                             2999.0                 \n",
       "1                                             2917.0                 \n",
       "2                                             2698.0                 \n",
       "3                                             2953.0                 \n",
       "4                                             2956.0                 "
      ],
      "text/html": [
       "<div>\n",
       "<style scoped>\n",
       "    .dataframe tbody tr th:only-of-type {\n",
       "        vertical-align: middle;\n",
       "    }\n",
       "\n",
       "    .dataframe tbody tr th {\n",
       "        vertical-align: top;\n",
       "    }\n",
       "\n",
       "    .dataframe thead th {\n",
       "        text-align: right;\n",
       "    }\n",
       "</style>\n",
       "<table border=\"1\" class=\"dataframe\">\n",
       "  <thead>\n",
       "    <tr style=\"text-align: right;\">\n",
       "      <th></th>\n",
       "      <th>Entity</th>\n",
       "      <th>Year</th>\n",
       "      <th>Daily caloric supply (OWID based on UN FAO &amp; historical sources)</th>\n",
       "    </tr>\n",
       "  </thead>\n",
       "  <tbody>\n",
       "    <tr>\n",
       "      <th>0</th>\n",
       "      <td>Afghanistan</td>\n",
       "      <td>1961</td>\n",
       "      <td>2999.0</td>\n",
       "    </tr>\n",
       "    <tr>\n",
       "      <th>1</th>\n",
       "      <td>Afghanistan</td>\n",
       "      <td>1962</td>\n",
       "      <td>2917.0</td>\n",
       "    </tr>\n",
       "    <tr>\n",
       "      <th>2</th>\n",
       "      <td>Afghanistan</td>\n",
       "      <td>1963</td>\n",
       "      <td>2698.0</td>\n",
       "    </tr>\n",
       "    <tr>\n",
       "      <th>3</th>\n",
       "      <td>Afghanistan</td>\n",
       "      <td>1964</td>\n",
       "      <td>2953.0</td>\n",
       "    </tr>\n",
       "    <tr>\n",
       "      <th>4</th>\n",
       "      <td>Afghanistan</td>\n",
       "      <td>1965</td>\n",
       "      <td>2956.0</td>\n",
       "    </tr>\n",
       "  </tbody>\n",
       "</table>\n",
       "</div>"
      ]
     },
     "metadata": {},
     "execution_count": 7
    }
   ],
   "metadata": {}
  },
  {
   "cell_type": "markdown",
   "source": [
    "### 2.3 Renaming Columns"
   ],
   "metadata": {}
  },
  {
   "cell_type": "code",
   "execution_count": 8,
   "source": [
    "# rename columns to contain simpler names\n",
    "depression = depression.rename(columns={'Entity': 'Country',\n",
    "                                        'Depressive disorders (share of population) - Sex: Both - Age: Age-standardized': 'Depression'})\n",
    "\n",
    "hdi = hdi.rename(columns={'Entity': 'Country',\n",
    "                          'Human Development Index': 'HDI'})\n",
    "\n",
    "democracy = democracy.rename(columns={'Entity': 'Country',\n",
    "                                      'electdem_vdem_owid': 'Democracy'})\n",
    "\n",
    "food = food.rename(columns={'Entity': 'Country',\n",
    "                            'Daily caloric supply (OWID based on UN FAO & historical sources)': 'Food'})\n",
    "\n",
    "# preview\n",
    "democracy.head()"
   ],
   "outputs": [
    {
     "output_type": "execute_result",
     "data": {
      "text/plain": [
       "       Country  Year  Democracy\n",
       "0  Afghanistan  1789      0.019\n",
       "1  Afghanistan  1790      0.019\n",
       "2  Afghanistan  1791      0.019\n",
       "3  Afghanistan  1792      0.019\n",
       "4  Afghanistan  1793      0.019"
      ],
      "text/html": [
       "<div>\n",
       "<style scoped>\n",
       "    .dataframe tbody tr th:only-of-type {\n",
       "        vertical-align: middle;\n",
       "    }\n",
       "\n",
       "    .dataframe tbody tr th {\n",
       "        vertical-align: top;\n",
       "    }\n",
       "\n",
       "    .dataframe thead th {\n",
       "        text-align: right;\n",
       "    }\n",
       "</style>\n",
       "<table border=\"1\" class=\"dataframe\">\n",
       "  <thead>\n",
       "    <tr style=\"text-align: right;\">\n",
       "      <th></th>\n",
       "      <th>Country</th>\n",
       "      <th>Year</th>\n",
       "      <th>Democracy</th>\n",
       "    </tr>\n",
       "  </thead>\n",
       "  <tbody>\n",
       "    <tr>\n",
       "      <th>0</th>\n",
       "      <td>Afghanistan</td>\n",
       "      <td>1789</td>\n",
       "      <td>0.019</td>\n",
       "    </tr>\n",
       "    <tr>\n",
       "      <th>1</th>\n",
       "      <td>Afghanistan</td>\n",
       "      <td>1790</td>\n",
       "      <td>0.019</td>\n",
       "    </tr>\n",
       "    <tr>\n",
       "      <th>2</th>\n",
       "      <td>Afghanistan</td>\n",
       "      <td>1791</td>\n",
       "      <td>0.019</td>\n",
       "    </tr>\n",
       "    <tr>\n",
       "      <th>3</th>\n",
       "      <td>Afghanistan</td>\n",
       "      <td>1792</td>\n",
       "      <td>0.019</td>\n",
       "    </tr>\n",
       "    <tr>\n",
       "      <th>4</th>\n",
       "      <td>Afghanistan</td>\n",
       "      <td>1793</td>\n",
       "      <td>0.019</td>\n",
       "    </tr>\n",
       "  </tbody>\n",
       "</table>\n",
       "</div>"
      ]
     },
     "metadata": {},
     "execution_count": 8
    }
   ],
   "metadata": {}
  },
  {
   "cell_type": "markdown",
   "source": [
    "### 2.4 Narrowing Scope to a Single Year\n",
    "\n",
    "The datasets contain large ranges of years for each country. Rather than averaging these values out, it probably makes the most sense to take the most recent year from each dataset. \n",
    "\n",
    "An alternative to consider in the future is to average all values over the past 10 years, 20 years, etc. . This would introduce more problems as some of the countries probably don't have full date ranges to average, so we will avoid this method for now. "
   ],
   "metadata": {}
  },
  {
   "cell_type": "code",
   "execution_count": 9,
   "source": [
    "# write a function to find max year and keep only that year\n",
    "def max_year(df):\n",
    "    max_year = df['Year'].max()\n",
    "    max_year_df = df[df['Year'] == max_year]\n",
    "    return max_year_df\n",
    "\n",
    "# apply function to each dataset\n",
    "hdi = max_year(hdi)\n",
    "depression = max_year(depression)\n",
    "democracy = max_year(democracy)\n",
    "food = max_year(food)"
   ],
   "outputs": [],
   "metadata": {}
  },
  {
   "cell_type": "code",
   "execution_count": 10,
   "source": [
    "# preview \n",
    "food.head()"
   ],
   "outputs": [
    {
     "output_type": "execute_result",
     "data": {
      "text/plain": [
       "                 Country  Year    Food\n",
       "57           Afghanistan  2018  2040.0\n",
       "173              Albania  2018  3360.0\n",
       "233              Algeria  2018  3322.0\n",
       "291               Angola  2018  2385.0\n",
       "349  Antigua and Barbuda  2018  2445.0"
      ],
      "text/html": [
       "<div>\n",
       "<style scoped>\n",
       "    .dataframe tbody tr th:only-of-type {\n",
       "        vertical-align: middle;\n",
       "    }\n",
       "\n",
       "    .dataframe tbody tr th {\n",
       "        vertical-align: top;\n",
       "    }\n",
       "\n",
       "    .dataframe thead th {\n",
       "        text-align: right;\n",
       "    }\n",
       "</style>\n",
       "<table border=\"1\" class=\"dataframe\">\n",
       "  <thead>\n",
       "    <tr style=\"text-align: right;\">\n",
       "      <th></th>\n",
       "      <th>Country</th>\n",
       "      <th>Year</th>\n",
       "      <th>Food</th>\n",
       "    </tr>\n",
       "  </thead>\n",
       "  <tbody>\n",
       "    <tr>\n",
       "      <th>57</th>\n",
       "      <td>Afghanistan</td>\n",
       "      <td>2018</td>\n",
       "      <td>2040.0</td>\n",
       "    </tr>\n",
       "    <tr>\n",
       "      <th>173</th>\n",
       "      <td>Albania</td>\n",
       "      <td>2018</td>\n",
       "      <td>3360.0</td>\n",
       "    </tr>\n",
       "    <tr>\n",
       "      <th>233</th>\n",
       "      <td>Algeria</td>\n",
       "      <td>2018</td>\n",
       "      <td>3322.0</td>\n",
       "    </tr>\n",
       "    <tr>\n",
       "      <th>291</th>\n",
       "      <td>Angola</td>\n",
       "      <td>2018</td>\n",
       "      <td>2385.0</td>\n",
       "    </tr>\n",
       "    <tr>\n",
       "      <th>349</th>\n",
       "      <td>Antigua and Barbuda</td>\n",
       "      <td>2018</td>\n",
       "      <td>2445.0</td>\n",
       "    </tr>\n",
       "  </tbody>\n",
       "</table>\n",
       "</div>"
      ]
     },
     "metadata": {},
     "execution_count": 10
    }
   ],
   "metadata": {}
  },
  {
   "cell_type": "code",
   "execution_count": 11,
   "source": [
    "# print the year found in each dataset\n",
    "print('HDI:', hdi['Year'].unique())\n",
    "print('Depression:', depression['Year'].unique())\n",
    "print('Democracy:', democracy['Year'].unique())\n",
    "print('Food:', food['Year'].unique())"
   ],
   "outputs": [
    {
     "output_type": "stream",
     "name": "stdout",
     "text": [
      "HDI: [2021]\n",
      "Depression: [2019]\n",
      "Democracy: [2022]\n",
      "Food: [2018]\n"
     ]
    }
   ],
   "metadata": {}
  },
  {
   "cell_type": "markdown",
   "source": [
    "### 2.5 Merge the Datasets"
   ],
   "metadata": {}
  },
  {
   "cell_type": "code",
   "execution_count": 12,
   "source": [
    "# drop the Year column from each dataset as it is no longer needed\n",
    "hdi = hdi.drop(columns=['Year'])\n",
    "depression = depression.drop(columns=['Year'])\n",
    "food = food.drop(columns=['Year'])\n",
    "democracy = democracy.drop(columns=['Year'])"
   ],
   "outputs": [],
   "metadata": {}
  },
  {
   "cell_type": "code",
   "execution_count": 13,
   "source": [
    "# merge the datasets\n",
    "merge = pd.merge(\n",
    "    hdi, \n",
    "    depression, \n",
    "    on='Country',\n",
    "    how='inner' \n",
    ").merge(\n",
    "    food,\n",
    "    on='Country',\n",
    "    how='inner'  \n",
    ").merge(\n",
    "    democracy,\n",
    "    on='Country',\n",
    "    how='inner' \n",
    ").dropna()  # drops any rows with missing values\n",
    "\n",
    "# preview\n",
    "merge.head()\n"
   ],
   "outputs": [
    {
     "output_type": "execute_result",
     "data": {
      "text/plain": [
       "       Country    HDI  Depression    Food  Democracy\n",
       "0  Afghanistan  0.478    4.945168  2040.0      0.082\n",
       "1      Albania  0.796    2.460203  3360.0      0.484\n",
       "2      Algeria  0.745    4.129681  3322.0      0.281\n",
       "3       Angola  0.586    5.744194  2385.0      0.344\n",
       "4    Argentina  0.842    2.407510  3307.0      0.823"
      ],
      "text/html": [
       "<div>\n",
       "<style scoped>\n",
       "    .dataframe tbody tr th:only-of-type {\n",
       "        vertical-align: middle;\n",
       "    }\n",
       "\n",
       "    .dataframe tbody tr th {\n",
       "        vertical-align: top;\n",
       "    }\n",
       "\n",
       "    .dataframe thead th {\n",
       "        text-align: right;\n",
       "    }\n",
       "</style>\n",
       "<table border=\"1\" class=\"dataframe\">\n",
       "  <thead>\n",
       "    <tr style=\"text-align: right;\">\n",
       "      <th></th>\n",
       "      <th>Country</th>\n",
       "      <th>HDI</th>\n",
       "      <th>Depression</th>\n",
       "      <th>Food</th>\n",
       "      <th>Democracy</th>\n",
       "    </tr>\n",
       "  </thead>\n",
       "  <tbody>\n",
       "    <tr>\n",
       "      <th>0</th>\n",
       "      <td>Afghanistan</td>\n",
       "      <td>0.478</td>\n",
       "      <td>4.945168</td>\n",
       "      <td>2040.0</td>\n",
       "      <td>0.082</td>\n",
       "    </tr>\n",
       "    <tr>\n",
       "      <th>1</th>\n",
       "      <td>Albania</td>\n",
       "      <td>0.796</td>\n",
       "      <td>2.460203</td>\n",
       "      <td>3360.0</td>\n",
       "      <td>0.484</td>\n",
       "    </tr>\n",
       "    <tr>\n",
       "      <th>2</th>\n",
       "      <td>Algeria</td>\n",
       "      <td>0.745</td>\n",
       "      <td>4.129681</td>\n",
       "      <td>3322.0</td>\n",
       "      <td>0.281</td>\n",
       "    </tr>\n",
       "    <tr>\n",
       "      <th>3</th>\n",
       "      <td>Angola</td>\n",
       "      <td>0.586</td>\n",
       "      <td>5.744194</td>\n",
       "      <td>2385.0</td>\n",
       "      <td>0.344</td>\n",
       "    </tr>\n",
       "    <tr>\n",
       "      <th>4</th>\n",
       "      <td>Argentina</td>\n",
       "      <td>0.842</td>\n",
       "      <td>2.407510</td>\n",
       "      <td>3307.0</td>\n",
       "      <td>0.823</td>\n",
       "    </tr>\n",
       "  </tbody>\n",
       "</table>\n",
       "</div>"
      ]
     },
     "metadata": {},
     "execution_count": 13
    }
   ],
   "metadata": {}
  },
  {
   "cell_type": "code",
   "execution_count": 14,
   "source": [
    "merge.info()"
   ],
   "outputs": [
    {
     "output_type": "stream",
     "name": "stdout",
     "text": [
      "<class 'pandas.core.frame.DataFrame'>\n",
      "Int64Index: 157 entries, 0 to 156\n",
      "Data columns (total 5 columns):\n",
      " #   Column      Non-Null Count  Dtype  \n",
      "---  ------      --------------  -----  \n",
      " 0   Country     157 non-null    object \n",
      " 1   HDI         157 non-null    float64\n",
      " 2   Depression  157 non-null    float64\n",
      " 3   Food        157 non-null    float64\n",
      " 4   Democracy   157 non-null    float64\n",
      "dtypes: float64(4), object(1)\n",
      "memory usage: 7.4+ KB\n"
     ]
    }
   ],
   "metadata": {}
  },
  {
   "cell_type": "code",
   "execution_count": 15,
   "source": [
    "# double check null values\n",
    "merge.isnull().sum(axis=0)"
   ],
   "outputs": [
    {
     "output_type": "execute_result",
     "data": {
      "text/plain": [
       "Country       0\n",
       "HDI           0\n",
       "Depression    0\n",
       "Food          0\n",
       "Democracy     0\n",
       "dtype: int64"
      ]
     },
     "metadata": {},
     "execution_count": 15
    }
   ],
   "metadata": {}
  },
  {
   "cell_type": "markdown",
   "source": [
    "## 3 Data Exploration\n",
    "\n",
    "### 3.1 Defining Objectives\n",
    "\n",
    "**Goal:** Build a model for predicting Human Development Index (HDI) using a country's prevalence of depressive disorders, democracy, and caloric supply. \n",
    "\n",
    "The model will likely be more interesting if we convert HDI to a factor to increase interpretability. We will then need to use plots to explore the data. Model building should begin with a simple logistic regression model to see initial performance, then move to more complex models through machine learning pipelines to find optimal performance. "
   ],
   "metadata": {}
  },
  {
   "cell_type": "markdown",
   "source": [
    "### 3.2 Exploratory Data Plotting"
   ],
   "metadata": {}
  },
  {
   "cell_type": "code",
   "execution_count": 16,
   "source": [
    "scatter1 = alt.Chart(merge).mark_circle(color='purple').encode(\n",
    "    x=alt.X('Depression', title='Prevalence of Depression'),\n",
    "    y=alt.Y('HDI', title='Human Development Index')\n",
    ").properties(\n",
    "    title='Depression vs. HDI'\n",
    ")\n",
    "\n",
    "scatter2 = alt.Chart(merge).mark_circle(color='green').encode(\n",
    "    x=alt.X('Food', title='Food Variable'),\n",
    "    y=alt.Y('HDI', title='Human Development Index')\n",
    ").properties(\n",
    "    title='Food vs. HDI'\n",
    ")\n",
    "\n",
    "scatter3 = alt.Chart(merge).mark_circle(color='blue').encode(\n",
    "    x=alt.X('Democracy', title='Democracy Variable'),\n",
    "    y=alt.Y('HDI', title='Human Development Index')\n",
    ").properties(\n",
    "    title='Democracy vs. HDI'\n",
    ")\n",
    "\n",
    "# concatenate the plots\n",
    "scatter_all = scatter1 | scatter2 | scatter3\n",
    "\n",
    "scatter_all"
   ],
   "outputs": [
    {
     "output_type": "execute_result",
     "data": {
      "text/plain": [
       "alt.HConcatChart(...)"
      ],
      "text/html": [
       "\n",
       "<div id=\"altair-viz-80fc681825d04255b67b1922a7edca15\"></div>\n",
       "<script type=\"text/javascript\">\n",
       "  var VEGA_DEBUG = (typeof VEGA_DEBUG == \"undefined\") ? {} : VEGA_DEBUG;\n",
       "  (function(spec, embedOpt){\n",
       "    let outputDiv = document.currentScript.previousElementSibling;\n",
       "    if (outputDiv.id !== \"altair-viz-80fc681825d04255b67b1922a7edca15\") {\n",
       "      outputDiv = document.getElementById(\"altair-viz-80fc681825d04255b67b1922a7edca15\");\n",
       "    }\n",
       "    const paths = {\n",
       "      \"vega\": \"https://cdn.jsdelivr.net/npm//vega@5?noext\",\n",
       "      \"vega-lib\": \"https://cdn.jsdelivr.net/npm//vega-lib?noext\",\n",
       "      \"vega-lite\": \"https://cdn.jsdelivr.net/npm//vega-lite@4.17.0?noext\",\n",
       "      \"vega-embed\": \"https://cdn.jsdelivr.net/npm//vega-embed@6?noext\",\n",
       "    };\n",
       "\n",
       "    function maybeLoadScript(lib, version) {\n",
       "      var key = `${lib.replace(\"-\", \"\")}_version`;\n",
       "      return (VEGA_DEBUG[key] == version) ?\n",
       "        Promise.resolve(paths[lib]) :\n",
       "        new Promise(function(resolve, reject) {\n",
       "          var s = document.createElement('script');\n",
       "          document.getElementsByTagName(\"head\")[0].appendChild(s);\n",
       "          s.async = true;\n",
       "          s.onload = () => {\n",
       "            VEGA_DEBUG[key] = version;\n",
       "            return resolve(paths[lib]);\n",
       "          };\n",
       "          s.onerror = () => reject(`Error loading script: ${paths[lib]}`);\n",
       "          s.src = paths[lib];\n",
       "        });\n",
       "    }\n",
       "\n",
       "    function showError(err) {\n",
       "      outputDiv.innerHTML = `<div class=\"error\" style=\"color:red;\">${err}</div>`;\n",
       "      throw err;\n",
       "    }\n",
       "\n",
       "    function displayChart(vegaEmbed) {\n",
       "      vegaEmbed(outputDiv, spec, embedOpt)\n",
       "        .catch(err => showError(`Javascript Error: ${err.message}<br>This usually means there's a typo in your chart specification. See the javascript console for the full traceback.`));\n",
       "    }\n",
       "\n",
       "    if(typeof define === \"function\" && define.amd) {\n",
       "      requirejs.config({paths});\n",
       "      require([\"vega-embed\"], displayChart, err => showError(`Error loading script: ${err.message}`));\n",
       "    } else {\n",
       "      maybeLoadScript(\"vega\", \"5\")\n",
       "        .then(() => maybeLoadScript(\"vega-lite\", \"4.17.0\"))\n",
       "        .then(() => maybeLoadScript(\"vega-embed\", \"6\"))\n",
       "        .catch(showError)\n",
       "        .then(() => displayChart(vegaEmbed));\n",
       "    }\n",
       "  })({\"config\": {\"view\": {\"continuousWidth\": 400, \"continuousHeight\": 300}}, \"hconcat\": [{\"mark\": {\"type\": \"circle\", \"color\": \"purple\"}, \"encoding\": {\"x\": {\"field\": \"Depression\", \"title\": \"Prevalence of Depression\", \"type\": \"quantitative\"}, \"y\": {\"field\": \"HDI\", \"title\": \"Human Development Index\", \"type\": \"quantitative\"}}, \"title\": \"Depression vs. HDI\"}, {\"mark\": {\"type\": \"circle\", \"color\": \"green\"}, \"encoding\": {\"x\": {\"field\": \"Food\", \"title\": \"Food Variable\", \"type\": \"quantitative\"}, \"y\": {\"field\": \"HDI\", \"title\": \"Human Development Index\", \"type\": \"quantitative\"}}, \"title\": \"Food vs. HDI\"}, {\"mark\": {\"type\": \"circle\", \"color\": \"blue\"}, \"encoding\": {\"x\": {\"field\": \"Democracy\", \"title\": \"Democracy Variable\", \"type\": \"quantitative\"}, \"y\": {\"field\": \"HDI\", \"title\": \"Human Development Index\", \"type\": \"quantitative\"}}, \"title\": \"Democracy vs. HDI\"}], \"data\": {\"name\": \"data-db205c655887082692a0bbb5541e3c4b\"}, \"$schema\": \"https://vega.github.io/schema/vega-lite/v4.17.0.json\", \"datasets\": {\"data-db205c655887082692a0bbb5541e3c4b\": [{\"Country\": \"Afghanistan\", \"HDI\": 0.478, \"Depression\": 4.945168, \"Food\": 2040.0, \"Democracy\": 0.082}, {\"Country\": \"Albania\", \"HDI\": 0.796, \"Depression\": 2.4602032, \"Food\": 3360.0, \"Democracy\": 0.484}, {\"Country\": \"Algeria\", \"HDI\": 0.745, \"Depression\": 4.1296806, \"Food\": 3322.0, \"Democracy\": 0.281}, {\"Country\": \"Angola\", \"HDI\": 0.586, \"Depression\": 5.7441936, \"Food\": 2385.0, \"Democracy\": 0.344}, {\"Country\": \"Argentina\", \"HDI\": 0.842, \"Depression\": 2.4075098, \"Food\": 3307.0, \"Democracy\": 0.823}, {\"Country\": \"Armenia\", \"HDI\": 0.759, \"Depression\": 2.9836516, \"Food\": 2997.0, \"Democracy\": 0.645}, {\"Country\": \"Australia\", \"HDI\": 0.951, \"Depression\": 4.382458, \"Food\": 3391.0, \"Democracy\": 0.858}, {\"Country\": \"Austria\", \"HDI\": 0.916, \"Depression\": 3.125201, \"Food\": 3695.0, \"Democracy\": 0.794}, {\"Country\": \"Azerbaijan\", \"HDI\": 0.745, \"Depression\": 2.7526312, \"Food\": 3149.0, \"Democracy\": 0.188}, {\"Country\": \"Bangladesh\", \"HDI\": 0.661, \"Depression\": 4.6198096, \"Food\": 2563.0, \"Democracy\": 0.274}, {\"Country\": \"Barbados\", \"HDI\": 0.79, \"Depression\": 3.1782775, \"Food\": 2956.0, \"Democracy\": 0.782}, {\"Country\": \"Belarus\", \"HDI\": 0.808, \"Depression\": 3.824539, \"Food\": 3270.0, \"Democracy\": 0.175}, {\"Country\": \"Belgium\", \"HDI\": 0.937, \"Depression\": 3.5420222, \"Food\": 3769.0, \"Democracy\": 0.887}, {\"Country\": \"Benin\", \"HDI\": 0.525, \"Depression\": 4.447893, \"Food\": 2755.0, \"Democracy\": 0.45}, {\"Country\": \"Bolivia\", \"HDI\": 0.692, \"Depression\": 3.3994322, \"Food\": 2412.0, \"Democracy\": 0.597}, {\"Country\": \"Bosnia and Herzegovina\", \"HDI\": 0.78, \"Depression\": 2.7624497, \"Food\": 3307.0, \"Democracy\": 0.528}, {\"Country\": \"Botswana\", \"HDI\": 0.693, \"Depression\": 4.2572603, \"Food\": 2342.0, \"Democracy\": 0.577}, {\"Country\": \"Brazil\", \"HDI\": 0.754, \"Depression\": 3.8015563, \"Food\": 3301.0, \"Democracy\": 0.678}, {\"Country\": \"Bulgaria\", \"HDI\": 0.795, \"Depression\": 2.6916606, \"Food\": 2854.0, \"Democracy\": 0.688}, {\"Country\": \"Burkina Faso\", \"HDI\": 0.449, \"Depression\": 4.378302, \"Food\": 2737.0, \"Democracy\": 0.295}, {\"Country\": \"Cambodia\", \"HDI\": 0.593, \"Depression\": 2.9500995, \"Food\": 2492.0, \"Democracy\": 0.206}, {\"Country\": \"Cameroon\", \"HDI\": 0.576, \"Depression\": 4.6046395, \"Food\": 2733.0, \"Democracy\": 0.297}, {\"Country\": \"Canada\", \"HDI\": 0.936, \"Depression\": 3.2904658, \"Food\": 3566.0, \"Democracy\": 0.847}, {\"Country\": \"Cape Verde\", \"HDI\": 0.662, \"Depression\": 4.8429317, \"Food\": 2541.0, \"Democracy\": 0.75}, {\"Country\": \"Central African Republic\", \"HDI\": 0.404, \"Depression\": 5.9238467, \"Food\": 1786.0, \"Democracy\": 0.321}, {\"Country\": \"Chad\", \"HDI\": 0.394, \"Depression\": 5.1334114, \"Food\": 2115.0, \"Democracy\": 0.14}, {\"Country\": \"Chile\", \"HDI\": 0.855, \"Depression\": 3.6435125, \"Food\": 3029.0, \"Democracy\": 0.811}, {\"Country\": \"China\", \"HDI\": 0.768, \"Depression\": 2.7240157, \"Food\": 3206.0, \"Democracy\": 0.075}, {\"Country\": \"Colombia\", \"HDI\": 0.752, \"Depression\": 2.2196279, \"Food\": 3114.0, \"Democracy\": 0.689}, {\"Country\": \"Congo\", \"HDI\": 0.571, \"Depression\": 5.5257406, \"Food\": 2285.0, \"Democracy\": 0.234}, {\"Country\": \"Costa Rica\", \"HDI\": 0.809, \"Depression\": 3.2132857, \"Food\": 3029.0, \"Democracy\": 0.871}, {\"Country\": \"Cote d'Ivoire\", \"HDI\": 0.55, \"Depression\": 3.9350774, \"Food\": 2778.0, \"Democracy\": 0.437}, {\"Country\": \"Croatia\", \"HDI\": 0.858, \"Depression\": 3.0076077, \"Food\": 3074.0, \"Democracy\": 0.738}, {\"Country\": \"Cuba\", \"HDI\": 0.764, \"Depression\": 3.802294, \"Food\": 3344.0, \"Democracy\": 0.178}, {\"Country\": \"Cyprus\", \"HDI\": 0.896, \"Depression\": 3.1127021, \"Food\": 3019.0, \"Democracy\": 0.777}, {\"Country\": \"Czechia\", \"HDI\": 0.889, \"Depression\": 2.878852, \"Food\": 3277.0, \"Democracy\": 0.853}, {\"Country\": \"Denmark\", \"HDI\": 0.948, \"Depression\": 3.4828994, \"Food\": 3401.0, \"Democracy\": 0.916}, {\"Country\": \"Djibouti\", \"HDI\": 0.509, \"Depression\": 4.4612656, \"Food\": 2694.0, \"Democracy\": 0.255}, {\"Country\": \"Dominican Republic\", \"HDI\": 0.767, \"Depression\": 3.8231027, \"Food\": 2892.0, \"Democracy\": 0.679}, {\"Country\": \"East Timor\", \"HDI\": 0.607, \"Depression\": 2.804642, \"Food\": 2287.0, \"Democracy\": 0.695}, {\"Country\": \"Ecuador\", \"HDI\": 0.74, \"Depression\": 3.3306973, \"Food\": 2606.0, \"Democracy\": 0.657}, {\"Country\": \"Egypt\", \"HDI\": 0.731, \"Depression\": 3.9397578, \"Food\": 3292.0, \"Democracy\": 0.175}, {\"Country\": \"El Salvador\", \"HDI\": 0.675, \"Depression\": 3.4073691, \"Food\": 2696.0, \"Democracy\": 0.378}, {\"Country\": \"Estonia\", \"HDI\": 0.89, \"Depression\": 3.6936426, \"Food\": 3247.0, \"Democracy\": 0.893}, {\"Country\": \"Eswatini\", \"HDI\": 0.597, \"Depression\": 4.4255295, \"Food\": 2426.0, \"Democracy\": 0.12}, {\"Country\": \"Ethiopia\", \"HDI\": 0.498, \"Depression\": 4.64972, \"Food\": 2338.0, \"Democracy\": 0.319}, {\"Country\": \"Fiji\", \"HDI\": 0.73, \"Depression\": 2.917755, \"Food\": 2781.0, \"Democracy\": 0.406}, {\"Country\": \"Finland\", \"HDI\": 0.94, \"Depression\": 4.139295, \"Food\": 3343.0, \"Democracy\": 0.861}, {\"Country\": \"France\", \"HDI\": 0.903, \"Depression\": 3.835741, \"Food\": 3502.0, \"Democracy\": 0.874}, {\"Country\": \"Gabon\", \"HDI\": 0.706, \"Depression\": 5.5459714, \"Food\": 2633.0, \"Democracy\": 0.369}, {\"Country\": \"Gambia\", \"HDI\": 0.5, \"Depression\": 5.5018787, \"Food\": 2533.0, \"Democracy\": 0.62}, {\"Country\": \"Georgia\", \"HDI\": 0.802, \"Depression\": 3.3233132, \"Food\": 2835.0, \"Democracy\": 0.647}, {\"Country\": \"Germany\", \"HDI\": 0.942, \"Depression\": 3.3767943, \"Food\": 3554.0, \"Democracy\": 0.857}, {\"Country\": \"Ghana\", \"HDI\": 0.632, \"Depression\": 4.3620286, \"Food\": 3035.0, \"Democracy\": 0.633}, {\"Country\": \"Greece\", \"HDI\": 0.887, \"Depression\": 5.0422506, \"Food\": 3382.0, \"Democracy\": 0.783}, {\"Country\": \"Guatemala\", \"HDI\": 0.627, \"Depression\": 3.6679313, \"Food\": 2551.0, \"Democracy\": 0.435}, {\"Country\": \"Guinea\", \"HDI\": 0.465, \"Depression\": 4.3731165, \"Food\": 2746.0, \"Democracy\": 0.191}, {\"Country\": \"Guinea-Bissau\", \"HDI\": 0.483, \"Depression\": 4.4942803, \"Food\": 2229.0, \"Democracy\": 0.371}, {\"Country\": \"Guyana\", \"HDI\": 0.714, \"Depression\": 4.927692, \"Food\": 2913.0, \"Democracy\": 0.535}, {\"Country\": \"Haiti\", \"HDI\": 0.535, \"Depression\": 3.6351175, \"Food\": 2121.0, \"Democracy\": 0.248}, {\"Country\": \"Honduras\", \"HDI\": 0.621, \"Depression\": 3.1551142, \"Food\": 2673.0, \"Democracy\": 0.556}, {\"Country\": \"Hungary\", \"HDI\": 0.846, \"Depression\": 2.8233702, \"Food\": 3316.0, \"Democracy\": 0.445}, {\"Country\": \"Iceland\", \"HDI\": 0.959, \"Depression\": 2.9365938, \"Food\": 3654.0, \"Democracy\": 0.819}, {\"Country\": \"India\", \"HDI\": 0.633, \"Depression\": 3.6598387, \"Food\": 2533.0, \"Democracy\": 0.399}, {\"Country\": \"Indonesia\", \"HDI\": 0.705, \"Depression\": 2.4184713, \"Food\": 2884.0, \"Democracy\": 0.574}, {\"Country\": \"Iran\", \"HDI\": 0.774, \"Depression\": 4.860692, \"Food\": 3087.0, \"Democracy\": 0.182}, {\"Country\": \"Iraq\", \"HDI\": 0.686, \"Depression\": 3.9326482, \"Food\": 2608.0, \"Democracy\": 0.362}, {\"Country\": \"Ireland\", \"HDI\": 0.945, \"Depression\": 4.2169313, \"Food\": 3885.0, \"Democracy\": 0.889}, {\"Country\": \"Israel\", \"HDI\": 0.919, \"Depression\": 4.127255, \"Food\": 3528.0, \"Democracy\": 0.723}, {\"Country\": \"Italy\", \"HDI\": 0.895, \"Depression\": 3.561658, \"Food\": 3503.0, \"Democracy\": 0.844}, {\"Country\": \"Jamaica\", \"HDI\": 0.709, \"Depression\": 3.0646706, \"Food\": 2792.0, \"Democracy\": 0.797}, {\"Country\": \"Japan\", \"HDI\": 0.925, \"Depression\": 2.1032803, \"Food\": 2705.0, \"Democracy\": 0.833}, {\"Country\": \"Jordan\", \"HDI\": 0.72, \"Depression\": 4.15211, \"Food\": 2732.0, \"Democracy\": 0.259}, {\"Country\": \"Kazakhstan\", \"HDI\": 0.811, \"Depression\": 3.4412057, \"Food\": 3067.0, \"Democracy\": 0.277}, {\"Country\": \"Kenya\", \"HDI\": 0.575, \"Depression\": 4.723163, \"Food\": 2197.0, \"Democracy\": 0.522}, {\"Country\": \"Kuwait\", \"HDI\": 0.831, \"Depression\": 4.0603004, \"Food\": 3471.0, \"Democracy\": 0.317}, {\"Country\": \"Kyrgyzstan\", \"HDI\": 0.692, \"Depression\": 3.3816984, \"Food\": 2729.0, \"Democracy\": 0.382}, {\"Country\": \"Laos\", \"HDI\": 0.607, \"Depression\": 2.7468913, \"Food\": 2758.0, \"Democracy\": 0.134}, {\"Country\": \"Latvia\", \"HDI\": 0.863, \"Depression\": 3.7478287, \"Food\": 3229.0, \"Democracy\": 0.821}, {\"Country\": \"Lebanon\", \"HDI\": 0.706, \"Depression\": 4.652712, \"Food\": 2857.0, \"Democracy\": 0.426}, {\"Country\": \"Lesotho\", \"HDI\": 0.514, \"Depression\": 5.511564, \"Food\": 2323.0, \"Democracy\": 0.641}, {\"Country\": \"Liberia\", \"HDI\": 0.481, \"Depression\": 4.556289, \"Food\": 2168.0, \"Democracy\": 0.634}, {\"Country\": \"Lithuania\", \"HDI\": 0.875, \"Depression\": 3.9911947, \"Food\": 3411.0, \"Democracy\": 0.797}, {\"Country\": \"Luxembourg\", \"HDI\": 0.93, \"Depression\": 3.2193074, \"Food\": 3465.0, \"Democracy\": 0.881}, {\"Country\": \"Madagascar\", \"HDI\": 0.501, \"Depression\": 4.737187, \"Food\": 1938.0, \"Democracy\": 0.495}, {\"Country\": \"Malawi\", \"HDI\": 0.512, \"Depression\": 4.100136, \"Food\": 2392.0, \"Democracy\": 0.642}, {\"Country\": \"Malaysia\", \"HDI\": 0.803, \"Depression\": 3.6630948, \"Food\": 2845.0, \"Democracy\": 0.438}, {\"Country\": \"Maldives\", \"HDI\": 0.747, \"Depression\": 2.9122725, \"Food\": 2235.0, \"Democracy\": 0.583}, {\"Country\": \"Mali\", \"HDI\": 0.428, \"Depression\": 3.5413845, \"Food\": 2873.0, \"Democracy\": 0.235}, {\"Country\": \"Malta\", \"HDI\": 0.918, \"Depression\": 3.1311812, \"Food\": 3420.0, \"Democracy\": 0.782}, {\"Country\": \"Mauritania\", \"HDI\": 0.556, \"Depression\": 3.6558447, \"Food\": 2877.0, \"Democracy\": 0.395}, {\"Country\": \"Mauritius\", \"HDI\": 0.802, \"Depression\": 3.8047628, \"Food\": 3051.0, \"Democracy\": 0.521}, {\"Country\": \"Mexico\", \"HDI\": 0.758, \"Depression\": 3.5358298, \"Food\": 3157.0, \"Democracy\": 0.598}, {\"Country\": \"Moldova\", \"HDI\": 0.767, \"Depression\": 3.22074, \"Food\": 2383.0, \"Democracy\": 0.752}, {\"Country\": \"Mongolia\", \"HDI\": 0.739, \"Depression\": 3.9632094, \"Food\": 2579.0, \"Democracy\": 0.566}, {\"Country\": \"Montenegro\", \"HDI\": 0.832, \"Depression\": 2.8178656, \"Food\": 3500.0, \"Democracy\": 0.501}, {\"Country\": \"Morocco\", \"HDI\": 0.683, \"Depression\": 5.07854, \"Food\": 3412.0, \"Democracy\": 0.264}, {\"Country\": \"Mozambique\", \"HDI\": 0.446, \"Depression\": 4.992671, \"Food\": 2103.0, \"Democracy\": 0.362}, {\"Country\": \"Myanmar\", \"HDI\": 0.585, \"Depression\": 2.1933033, \"Food\": 2673.0, \"Democracy\": 0.093}, {\"Country\": \"Namibia\", \"HDI\": 0.615, \"Depression\": 3.6164615, \"Food\": 2469.0, \"Democracy\": 0.634}, {\"Country\": \"Nepal\", \"HDI\": 0.602, \"Depression\": 4.8975983, \"Food\": 2769.0, \"Democracy\": 0.646}, {\"Country\": \"Netherlands\", \"HDI\": 0.941, \"Depression\": 3.5344012, \"Food\": 3297.0, \"Democracy\": 0.852}, {\"Country\": \"New Zealand\", \"HDI\": 0.937, \"Depression\": 3.7238638, \"Food\": 3191.0, \"Democracy\": 0.889}, {\"Country\": \"Nicaragua\", \"HDI\": 0.667, \"Depression\": 3.2548654, \"Food\": 2582.0, \"Democracy\": 0.177}, {\"Country\": \"Niger\", \"HDI\": 0.4, \"Depression\": 4.235215, \"Food\": 2601.0, \"Democracy\": 0.511}, {\"Country\": \"Nigeria\", \"HDI\": 0.535, \"Depression\": 3.8173978, \"Food\": 2572.0, \"Democracy\": 0.49}, {\"Country\": \"North Macedonia\", \"HDI\": 0.77, \"Depression\": 2.570906, \"Food\": 3072.0, \"Democracy\": 0.551}, {\"Country\": \"Norway\", \"HDI\": 0.961, \"Depression\": 3.2382026, \"Food\": 3371.0, \"Democracy\": 0.899}, {\"Country\": \"Oman\", \"HDI\": 0.816, \"Depression\": 3.962998, \"Food\": 2940.0, \"Democracy\": 0.17}, {\"Country\": \"Pakistan\", \"HDI\": 0.544, \"Depression\": 3.9425256, \"Food\": 2486.0, \"Democracy\": 0.388}, {\"Country\": \"Panama\", \"HDI\": 0.805, \"Depression\": 2.9369144, \"Food\": 2851.0, \"Democracy\": 0.729}, {\"Country\": \"Paraguay\", \"HDI\": 0.717, \"Depression\": 3.6945765, \"Food\": 2768.0, \"Democracy\": 0.581}, {\"Country\": \"Peru\", \"HDI\": 0.762, \"Depression\": 2.2116694, \"Food\": 2775.0, \"Democracy\": 0.744}, {\"Country\": \"Philippines\", \"HDI\": 0.699, \"Depression\": 2.779254, \"Food\": 2662.0, \"Democracy\": 0.431}, {\"Country\": \"Poland\", \"HDI\": 0.876, \"Depression\": 2.2779574, \"Food\": 3537.0, \"Democracy\": 0.574}, {\"Country\": \"Portugal\", \"HDI\": 0.866, \"Depression\": 4.3940663, \"Food\": 3480.0, \"Democracy\": 0.846}, {\"Country\": \"Romania\", \"HDI\": 0.821, \"Depression\": 2.6501622, \"Food\": 3581.0, \"Democracy\": 0.689}, {\"Country\": \"Russia\", \"HDI\": 0.822, \"Depression\": 3.0799155, \"Food\": 3345.0, \"Democracy\": 0.209}, {\"Country\": \"Rwanda\", \"HDI\": 0.534, \"Depression\": 5.0970206, \"Food\": 2188.0, \"Democracy\": 0.228}, {\"Country\": \"Sao Tome and Principe\", \"HDI\": 0.618, \"Depression\": 3.7094643, \"Food\": 2446.0, \"Democracy\": 0.684}, {\"Country\": \"Saudi Arabia\", \"HDI\": 0.875, \"Depression\": 4.216069, \"Food\": 3307.0, \"Democracy\": 0.016}, {\"Country\": \"Senegal\", \"HDI\": 0.511, \"Depression\": 4.0294, \"Food\": 2545.0, \"Democracy\": 0.69}, {\"Country\": \"Serbia\", \"HDI\": 0.802, \"Depression\": 2.814907, \"Food\": 2828.0, \"Democracy\": 0.361}, {\"Country\": \"Sierra Leone\", \"HDI\": 0.477, \"Depression\": 4.392157, \"Food\": 2369.0, \"Democracy\": 0.559}, {\"Country\": \"Slovakia\", \"HDI\": 0.848, \"Depression\": 2.695262, \"Food\": 2871.0, \"Democracy\": 0.851}, {\"Country\": \"Slovenia\", \"HDI\": 0.918, \"Depression\": 3.1152232, \"Food\": 3191.0, \"Democracy\": 0.799}, {\"Country\": \"Solomon Islands\", \"HDI\": 0.564, \"Depression\": 3.0039446, \"Food\": 2415.0, \"Democracy\": 0.618}, {\"Country\": \"South Africa\", \"HDI\": 0.713, \"Depression\": 4.298678, \"Food\": 2899.0, \"Democracy\": 0.692}, {\"Country\": \"South Korea\", \"HDI\": 0.925, \"Depression\": 2.091181, \"Food\": 3420.0, \"Democracy\": 0.812}, {\"Country\": \"Spain\", \"HDI\": 0.905, \"Depression\": 4.704455, \"Food\": 3322.0, \"Democracy\": 0.873}, {\"Country\": \"Sri Lanka\", \"HDI\": 0.782, \"Depression\": 2.8662298, \"Food\": 2737.0, \"Democracy\": 0.575}, {\"Country\": \"Sudan\", \"HDI\": 0.508, \"Depression\": 4.4230967, \"Food\": 2578.0, \"Democracy\": 0.169}, {\"Country\": \"Suriname\", \"HDI\": 0.73, \"Depression\": 4.6881685, \"Food\": 2698.0, \"Democracy\": 0.77}, {\"Country\": \"Sweden\", \"HDI\": 0.947, \"Depression\": 4.116486, \"Food\": 3184.0, \"Democracy\": 0.899}, {\"Country\": \"Switzerland\", \"HDI\": 0.962, \"Depression\": 3.705447, \"Food\": 3354.0, \"Democracy\": 0.898}, {\"Country\": \"Tajikistan\", \"HDI\": 0.685, \"Depression\": 2.8172803, \"Food\": 2109.0, \"Democracy\": 0.175}, {\"Country\": \"Tanzania\", \"HDI\": 0.549, \"Depression\": 4.651242, \"Food\": 2373.0, \"Democracy\": 0.398}, {\"Country\": \"Thailand\", \"HDI\": 0.8, \"Depression\": 2.847038, \"Food\": 2804.0, \"Democracy\": 0.206}, {\"Country\": \"Togo\", \"HDI\": 0.539, \"Depression\": 4.5008154, \"Food\": 2443.0, \"Democracy\": 0.426}, {\"Country\": \"Trinidad and Tobago\", \"HDI\": 0.81, \"Depression\": 3.82637, \"Food\": 2991.0, \"Democracy\": 0.784}, {\"Country\": \"Tunisia\", \"HDI\": 0.731, \"Depression\": 5.049405, \"Food\": 3450.0, \"Democracy\": 0.307}, {\"Country\": \"Turkey\", \"HDI\": 0.838, \"Depression\": 3.9422681, \"Food\": 3711.0, \"Democracy\": 0.276}, {\"Country\": \"Turkmenistan\", \"HDI\": 0.745, \"Depression\": 3.0497415, \"Food\": 2830.0, \"Democracy\": 0.149}, {\"Country\": \"Uganda\", \"HDI\": 0.525, \"Depression\": 6.5845194, \"Food\": 1981.0, \"Democracy\": 0.285}, {\"Country\": \"Ukraine\", \"HDI\": 0.773, \"Depression\": 3.8973033, \"Food\": 3102.0, \"Democracy\": 0.406}, {\"Country\": \"United Arab Emirates\", \"HDI\": 0.911, \"Depression\": 3.5784907, \"Food\": 3314.0, \"Democracy\": 0.101}, {\"Country\": \"United Kingdom\", \"HDI\": 0.929, \"Depression\": 4.0975676, \"Food\": 3344.0, \"Democracy\": 0.843}, {\"Country\": \"United States\", \"HDI\": 0.921, \"Depression\": 4.375998, \"Food\": 3782.0, \"Democracy\": 0.819}, {\"Country\": \"Uruguay\", \"HDI\": 0.809, \"Depression\": 2.840908, \"Food\": 3202.0, \"Democracy\": 0.804}, {\"Country\": \"Uzbekistan\", \"HDI\": 0.727, \"Depression\": 3.164448, \"Food\": 3011.0, \"Democracy\": 0.221}, {\"Country\": \"Vanuatu\", \"HDI\": 0.607, \"Depression\": 2.9744234, \"Food\": 2607.0, \"Democracy\": 0.771}, {\"Country\": \"Venezuela\", \"HDI\": 0.691, \"Depression\": 3.2147944, \"Food\": 2120.0, \"Democracy\": 0.214}, {\"Country\": \"Vietnam\", \"HDI\": 0.703, \"Depression\": 2.473061, \"Food\": 3025.0, \"Democracy\": 0.157}, {\"Country\": \"World\", \"HDI\": 0.732, \"Depression\": 3.4400527, \"Food\": 2928.399523487201, \"Democracy\": 0.497}, {\"Country\": \"Yemen\", \"HDI\": 0.455, \"Depression\": 4.8953676, \"Food\": 2154.0, \"Democracy\": 0.123}, {\"Country\": \"Zambia\", \"HDI\": 0.565, \"Depression\": 4.2194896, \"Food\": 2002.0, \"Democracy\": 0.518}, {\"Country\": \"Zimbabwe\", \"HDI\": 0.593, \"Depression\": 3.3954756, \"Food\": 1908.0, \"Democracy\": 0.285}]}}, {\"mode\": \"vega-lite\"});\n",
       "</script>"
      ]
     },
     "metadata": {},
     "execution_count": 16
    }
   ],
   "metadata": {}
  },
  {
   "cell_type": "code",
   "execution_count": 17,
   "source": [
    "import seaborn as sns\n",
    "import matplotlib.pyplot as plt\n",
    "\n",
    "x_mx = merge.drop(columns=['Country'])\n",
    "corr_mx = x_mx.corr()\n",
    "plt.figure(figsize=(10,8))\n",
    "sns.heatmap(corr_mx,\n",
    "            cmap='vlag', \n",
    "            annot=True)\n",
    "plt.show()"
   ],
   "outputs": [
    {
     "output_type": "display_data",
     "data": {
      "text/plain": [
       "<Figure size 1000x800 with 2 Axes>"
      ],
      "image/png": "[encoded data removed]"
     },
     "metadata": {}
    }
   ],
   "metadata": {}
  },
  {
   "cell_type": "code",
   "execution_count": 18,
   "source": [
    "import altair as alt\n",
    "\n",
    "# Individual box plots for each variable\n",
    "bp_depression = alt.Chart(merge).mark_boxplot().encode(\n",
    "    y=alt.Y('Depression:Q', title='Prevalence of Depression')\n",
    ").properties(\n",
    "    title='Depression',\n",
    "    width = 250\n",
    ")\n",
    "\n",
    "bp_food = alt.Chart(merge).mark_boxplot().encode(\n",
    "    y=alt.Y('Food:Q', title='Daily Supply of Calories')  # Log scale due to high range\n",
    ").properties(\n",
    "    title='Food',\n",
    "    width = 250\n",
    ")\n",
    "\n",
    "bp_democracy = alt.Chart(merge).mark_boxplot().encode(\n",
    "    y=alt.Y('Democracy:Q', title='Measure of Democracy')\n",
    ").properties(\n",
    "    title='Democracy',\n",
    "    width = 250\n",
    ")\n",
    "\n",
    "bp_hdi = alt.Chart(merge).mark_boxplot().encode(\n",
    "    y=alt.Y('HDI:Q', title='Human Development Index')\n",
    ").properties(\n",
    "    title='HDI',\n",
    "    width = 250\n",
    ")\n",
    "\n",
    "# combine\n",
    "combined_boxplots = bp_depression | bp_food | bp_democracy | bp_hdi\n",
    "\n",
    "# display\n",
    "combined_boxplots\n"
   ],
   "outputs": [
    {
     "output_type": "execute_result",
     "data": {
      "text/plain": [
       "alt.HConcatChart(...)"
      ],
      "text/html": [
       "\n",
       "<div id=\"altair-viz-40bf42c65b6f44c68f7f8e8b5096d840\"></div>\n",
       "<script type=\"text/javascript\">\n",
       "  var VEGA_DEBUG = (typeof VEGA_DEBUG == \"undefined\") ? {} : VEGA_DEBUG;\n",
       "  (function(spec, embedOpt){\n",
       "    let outputDiv = document.currentScript.previousElementSibling;\n",
       "    if (outputDiv.id !== \"altair-viz-40bf42c65b6f44c68f7f8e8b5096d840\") {\n",
       "      outputDiv = document.getElementById(\"altair-viz-40bf42c65b6f44c68f7f8e8b5096d840\");\n",
       "    }\n",
       "    const paths = {\n",
       "      \"vega\": \"https://cdn.jsdelivr.net/npm//vega@5?noext\",\n",
       "      \"vega-lib\": \"https://cdn.jsdelivr.net/npm//vega-lib?noext\",\n",
       "      \"vega-lite\": \"https://cdn.jsdelivr.net/npm//vega-lite@4.17.0?noext\",\n",
       "      \"vega-embed\": \"https://cdn.jsdelivr.net/npm//vega-embed@6?noext\",\n",
       "    };\n",
       "\n",
       "    function maybeLoadScript(lib, version) {\n",
       "      var key = `${lib.replace(\"-\", \"\")}_version`;\n",
       "      return (VEGA_DEBUG[key] == version) ?\n",
       "        Promise.resolve(paths[lib]) :\n",
       "        new Promise(function(resolve, reject) {\n",
       "          var s = document.createElement('script');\n",
       "          document.getElementsByTagName(\"head\")[0].appendChild(s);\n",
       "          s.async = true;\n",
       "          s.onload = () => {\n",
       "            VEGA_DEBUG[key] = version;\n",
       "            return resolve(paths[lib]);\n",
       "          };\n",
       "          s.onerror = () => reject(`Error loading script: ${paths[lib]}`);\n",
       "          s.src = paths[lib];\n",
       "        });\n",
       "    }\n",
       "\n",
       "    function showError(err) {\n",
       "      outputDiv.innerHTML = `<div class=\"error\" style=\"color:red;\">${err}</div>`;\n",
       "      throw err;\n",
       "    }\n",
       "\n",
       "    function displayChart(vegaEmbed) {\n",
       "      vegaEmbed(outputDiv, spec, embedOpt)\n",
       "        .catch(err => showError(`Javascript Error: ${err.message}<br>This usually means there's a typo in your chart specification. See the javascript console for the full traceback.`));\n",
       "    }\n",
       "\n",
       "    if(typeof define === \"function\" && define.amd) {\n",
       "      requirejs.config({paths});\n",
       "      require([\"vega-embed\"], displayChart, err => showError(`Error loading script: ${err.message}`));\n",
       "    } else {\n",
       "      maybeLoadScript(\"vega\", \"5\")\n",
       "        .then(() => maybeLoadScript(\"vega-lite\", \"4.17.0\"))\n",
       "        .then(() => maybeLoadScript(\"vega-embed\", \"6\"))\n",
       "        .catch(showError)\n",
       "        .then(() => displayChart(vegaEmbed));\n",
       "    }\n",
       "  })({\"config\": {\"view\": {\"continuousWidth\": 400, \"continuousHeight\": 300}}, \"hconcat\": [{\"mark\": \"boxplot\", \"encoding\": {\"y\": {\"field\": \"Depression\", \"title\": \"Prevalence of Depression\", \"type\": \"quantitative\"}}, \"title\": \"Depression\", \"width\": 250}, {\"mark\": \"boxplot\", \"encoding\": {\"y\": {\"field\": \"Food\", \"title\": \"Daily Supply of Calories\", \"type\": \"quantitative\"}}, \"title\": \"Food\", \"width\": 250}, {\"mark\": \"boxplot\", \"encoding\": {\"y\": {\"field\": \"Democracy\", \"title\": \"Measure of Democracy\", \"type\": \"quantitative\"}}, \"title\": \"Democracy\", \"width\": 250}, {\"mark\": \"boxplot\", \"encoding\": {\"y\": {\"field\": \"HDI\", \"title\": \"Human Development Index\", \"type\": \"quantitative\"}}, \"title\": \"HDI\", \"width\": 250}], \"data\": {\"name\": \"data-db205c655887082692a0bbb5541e3c4b\"}, \"$schema\": \"https://vega.github.io/schema/vega-lite/v4.17.0.json\", \"datasets\": {\"data-db205c655887082692a0bbb5541e3c4b\": [{\"Country\": \"Afghanistan\", \"HDI\": 0.478, \"Depression\": 4.945168, \"Food\": 2040.0, \"Democracy\": 0.082}, {\"Country\": \"Albania\", \"HDI\": 0.796, \"Depression\": 2.4602032, \"Food\": 3360.0, \"Democracy\": 0.484}, {\"Country\": \"Algeria\", \"HDI\": 0.745, \"Depression\": 4.1296806, \"Food\": 3322.0, \"Democracy\": 0.281}, {\"Country\": \"Angola\", \"HDI\": 0.586, \"Depression\": 5.7441936, \"Food\": 2385.0, \"Democracy\": 0.344}, {\"Country\": \"Argentina\", \"HDI\": 0.842, \"Depression\": 2.4075098, \"Food\": 3307.0, \"Democracy\": 0.823}, {\"Country\": \"Armenia\", \"HDI\": 0.759, \"Depression\": 2.9836516, \"Food\": 2997.0, \"Democracy\": 0.645}, {\"Country\": \"Australia\", \"HDI\": 0.951, \"Depression\": 4.382458, \"Food\": 3391.0, \"Democracy\": 0.858}, {\"Country\": \"Austria\", \"HDI\": 0.916, \"Depression\": 3.125201, \"Food\": 3695.0, \"Democracy\": 0.794}, {\"Country\": \"Azerbaijan\", \"HDI\": 0.745, \"Depression\": 2.7526312, \"Food\": 3149.0, \"Democracy\": 0.188}, {\"Country\": \"Bangladesh\", \"HDI\": 0.661, \"Depression\": 4.6198096, \"Food\": 2563.0, \"Democracy\": 0.274}, {\"Country\": \"Barbados\", \"HDI\": 0.79, \"Depression\": 3.1782775, \"Food\": 2956.0, \"Democracy\": 0.782}, {\"Country\": \"Belarus\", \"HDI\": 0.808, \"Depression\": 3.824539, \"Food\": 3270.0, \"Democracy\": 0.175}, {\"Country\": \"Belgium\", \"HDI\": 0.937, \"Depression\": 3.5420222, \"Food\": 3769.0, \"Democracy\": 0.887}, {\"Country\": \"Benin\", \"HDI\": 0.525, \"Depression\": 4.447893, \"Food\": 2755.0, \"Democracy\": 0.45}, {\"Country\": \"Bolivia\", \"HDI\": 0.692, \"Depression\": 3.3994322, \"Food\": 2412.0, \"Democracy\": 0.597}, {\"Country\": \"Bosnia and Herzegovina\", \"HDI\": 0.78, \"Depression\": 2.7624497, \"Food\": 3307.0, \"Democracy\": 0.528}, {\"Country\": \"Botswana\", \"HDI\": 0.693, \"Depression\": 4.2572603, \"Food\": 2342.0, \"Democracy\": 0.577}, {\"Country\": \"Brazil\", \"HDI\": 0.754, \"Depression\": 3.8015563, \"Food\": 3301.0, \"Democracy\": 0.678}, {\"Country\": \"Bulgaria\", \"HDI\": 0.795, \"Depression\": 2.6916606, \"Food\": 2854.0, \"Democracy\": 0.688}, {\"Country\": \"Burkina Faso\", \"HDI\": 0.449, \"Depression\": 4.378302, \"Food\": 2737.0, \"Democracy\": 0.295}, {\"Country\": \"Cambodia\", \"HDI\": 0.593, \"Depression\": 2.9500995, \"Food\": 2492.0, \"Democracy\": 0.206}, {\"Country\": \"Cameroon\", \"HDI\": 0.576, \"Depression\": 4.6046395, \"Food\": 2733.0, \"Democracy\": 0.297}, {\"Country\": \"Canada\", \"HDI\": 0.936, \"Depression\": 3.2904658, \"Food\": 3566.0, \"Democracy\": 0.847}, {\"Country\": \"Cape Verde\", \"HDI\": 0.662, \"Depression\": 4.8429317, \"Food\": 2541.0, \"Democracy\": 0.75}, {\"Country\": \"Central African Republic\", \"HDI\": 0.404, \"Depression\": 5.9238467, \"Food\": 1786.0, \"Democracy\": 0.321}, {\"Country\": \"Chad\", \"HDI\": 0.394, \"Depression\": 5.1334114, \"Food\": 2115.0, \"Democracy\": 0.14}, {\"Country\": \"Chile\", \"HDI\": 0.855, \"Depression\": 3.6435125, \"Food\": 3029.0, \"Democracy\": 0.811}, {\"Country\": \"China\", \"HDI\": 0.768, \"Depression\": 2.7240157, \"Food\": 3206.0, \"Democracy\": 0.075}, {\"Country\": \"Colombia\", \"HDI\": 0.752, \"Depression\": 2.2196279, \"Food\": 3114.0, \"Democracy\": 0.689}, {\"Country\": \"Congo\", \"HDI\": 0.571, \"Depression\": 5.5257406, \"Food\": 2285.0, \"Democracy\": 0.234}, {\"Country\": \"Costa Rica\", \"HDI\": 0.809, \"Depression\": 3.2132857, \"Food\": 3029.0, \"Democracy\": 0.871}, {\"Country\": \"Cote d'Ivoire\", \"HDI\": 0.55, \"Depression\": 3.9350774, \"Food\": 2778.0, \"Democracy\": 0.437}, {\"Country\": \"Croatia\", \"HDI\": 0.858, \"Depression\": 3.0076077, \"Food\": 3074.0, \"Democracy\": 0.738}, {\"Country\": \"Cuba\", \"HDI\": 0.764, \"Depression\": 3.802294, \"Food\": 3344.0, \"Democracy\": 0.178}, {\"Country\": \"Cyprus\", \"HDI\": 0.896, \"Depression\": 3.1127021, \"Food\": 3019.0, \"Democracy\": 0.777}, {\"Country\": \"Czechia\", \"HDI\": 0.889, \"Depression\": 2.878852, \"Food\": 3277.0, \"Democracy\": 0.853}, {\"Country\": \"Denmark\", \"HDI\": 0.948, \"Depression\": 3.4828994, \"Food\": 3401.0, \"Democracy\": 0.916}, {\"Country\": \"Djibouti\", \"HDI\": 0.509, \"Depression\": 4.4612656, \"Food\": 2694.0, \"Democracy\": 0.255}, {\"Country\": \"Dominican Republic\", \"HDI\": 0.767, \"Depression\": 3.8231027, \"Food\": 2892.0, \"Democracy\": 0.679}, {\"Country\": \"East Timor\", \"HDI\": 0.607, \"Depression\": 2.804642, \"Food\": 2287.0, \"Democracy\": 0.695}, {\"Country\": \"Ecuador\", \"HDI\": 0.74, \"Depression\": 3.3306973, \"Food\": 2606.0, \"Democracy\": 0.657}, {\"Country\": \"Egypt\", \"HDI\": 0.731, \"Depression\": 3.9397578, \"Food\": 3292.0, \"Democracy\": 0.175}, {\"Country\": \"El Salvador\", \"HDI\": 0.675, \"Depression\": 3.4073691, \"Food\": 2696.0, \"Democracy\": 0.378}, {\"Country\": \"Estonia\", \"HDI\": 0.89, \"Depression\": 3.6936426, \"Food\": 3247.0, \"Democracy\": 0.893}, {\"Country\": \"Eswatini\", \"HDI\": 0.597, \"Depression\": 4.4255295, \"Food\": 2426.0, \"Democracy\": 0.12}, {\"Country\": \"Ethiopia\", \"HDI\": 0.498, \"Depression\": 4.64972, \"Food\": 2338.0, \"Democracy\": 0.319}, {\"Country\": \"Fiji\", \"HDI\": 0.73, \"Depression\": 2.917755, \"Food\": 2781.0, \"Democracy\": 0.406}, {\"Country\": \"Finland\", \"HDI\": 0.94, \"Depression\": 4.139295, \"Food\": 3343.0, \"Democracy\": 0.861}, {\"Country\": \"France\", \"HDI\": 0.903, \"Depression\": 3.835741, \"Food\": 3502.0, \"Democracy\": 0.874}, {\"Country\": \"Gabon\", \"HDI\": 0.706, \"Depression\": 5.5459714, \"Food\": 2633.0, \"Democracy\": 0.369}, {\"Country\": \"Gambia\", \"HDI\": 0.5, \"Depression\": 5.5018787, \"Food\": 2533.0, \"Democracy\": 0.62}, {\"Country\": \"Georgia\", \"HDI\": 0.802, \"Depression\": 3.3233132, \"Food\": 2835.0, \"Democracy\": 0.647}, {\"Country\": \"Germany\", \"HDI\": 0.942, \"Depression\": 3.3767943, \"Food\": 3554.0, \"Democracy\": 0.857}, {\"Country\": \"Ghana\", \"HDI\": 0.632, \"Depression\": 4.3620286, \"Food\": 3035.0, \"Democracy\": 0.633}, {\"Country\": \"Greece\", \"HDI\": 0.887, \"Depression\": 5.0422506, \"Food\": 3382.0, \"Democracy\": 0.783}, {\"Country\": \"Guatemala\", \"HDI\": 0.627, \"Depression\": 3.6679313, \"Food\": 2551.0, \"Democracy\": 0.435}, {\"Country\": \"Guinea\", \"HDI\": 0.465, \"Depression\": 4.3731165, \"Food\": 2746.0, \"Democracy\": 0.191}, {\"Country\": \"Guinea-Bissau\", \"HDI\": 0.483, \"Depression\": 4.4942803, \"Food\": 2229.0, \"Democracy\": 0.371}, {\"Country\": \"Guyana\", \"HDI\": 0.714, \"Depression\": 4.927692, \"Food\": 2913.0, \"Democracy\": 0.535}, {\"Country\": \"Haiti\", \"HDI\": 0.535, \"Depression\": 3.6351175, \"Food\": 2121.0, \"Democracy\": 0.248}, {\"Country\": \"Honduras\", \"HDI\": 0.621, \"Depression\": 3.1551142, \"Food\": 2673.0, \"Democracy\": 0.556}, {\"Country\": \"Hungary\", \"HDI\": 0.846, \"Depression\": 2.8233702, \"Food\": 3316.0, \"Democracy\": 0.445}, {\"Country\": \"Iceland\", \"HDI\": 0.959, \"Depression\": 2.9365938, \"Food\": 3654.0, \"Democracy\": 0.819}, {\"Country\": \"India\", \"HDI\": 0.633, \"Depression\": 3.6598387, \"Food\": 2533.0, \"Democracy\": 0.399}, {\"Country\": \"Indonesia\", \"HDI\": 0.705, \"Depression\": 2.4184713, \"Food\": 2884.0, \"Democracy\": 0.574}, {\"Country\": \"Iran\", \"HDI\": 0.774, \"Depression\": 4.860692, \"Food\": 3087.0, \"Democracy\": 0.182}, {\"Country\": \"Iraq\", \"HDI\": 0.686, \"Depression\": 3.9326482, \"Food\": 2608.0, \"Democracy\": 0.362}, {\"Country\": \"Ireland\", \"HDI\": 0.945, \"Depression\": 4.2169313, \"Food\": 3885.0, \"Democracy\": 0.889}, {\"Country\": \"Israel\", \"HDI\": 0.919, \"Depression\": 4.127255, \"Food\": 3528.0, \"Democracy\": 0.723}, {\"Country\": \"Italy\", \"HDI\": 0.895, \"Depression\": 3.561658, \"Food\": 3503.0, \"Democracy\": 0.844}, {\"Country\": \"Jamaica\", \"HDI\": 0.709, \"Depression\": 3.0646706, \"Food\": 2792.0, \"Democracy\": 0.797}, {\"Country\": \"Japan\", \"HDI\": 0.925, \"Depression\": 2.1032803, \"Food\": 2705.0, \"Democracy\": 0.833}, {\"Country\": \"Jordan\", \"HDI\": 0.72, \"Depression\": 4.15211, \"Food\": 2732.0, \"Democracy\": 0.259}, {\"Country\": \"Kazakhstan\", \"HDI\": 0.811, \"Depression\": 3.4412057, \"Food\": 3067.0, \"Democracy\": 0.277}, {\"Country\": \"Kenya\", \"HDI\": 0.575, \"Depression\": 4.723163, \"Food\": 2197.0, \"Democracy\": 0.522}, {\"Country\": \"Kuwait\", \"HDI\": 0.831, \"Depression\": 4.0603004, \"Food\": 3471.0, \"Democracy\": 0.317}, {\"Country\": \"Kyrgyzstan\", \"HDI\": 0.692, \"Depression\": 3.3816984, \"Food\": 2729.0, \"Democracy\": 0.382}, {\"Country\": \"Laos\", \"HDI\": 0.607, \"Depression\": 2.7468913, \"Food\": 2758.0, \"Democracy\": 0.134}, {\"Country\": \"Latvia\", \"HDI\": 0.863, \"Depression\": 3.7478287, \"Food\": 3229.0, \"Democracy\": 0.821}, {\"Country\": \"Lebanon\", \"HDI\": 0.706, \"Depression\": 4.652712, \"Food\": 2857.0, \"Democracy\": 0.426}, {\"Country\": \"Lesotho\", \"HDI\": 0.514, \"Depression\": 5.511564, \"Food\": 2323.0, \"Democracy\": 0.641}, {\"Country\": \"Liberia\", \"HDI\": 0.481, \"Depression\": 4.556289, \"Food\": 2168.0, \"Democracy\": 0.634}, {\"Country\": \"Lithuania\", \"HDI\": 0.875, \"Depression\": 3.9911947, \"Food\": 3411.0, \"Democracy\": 0.797}, {\"Country\": \"Luxembourg\", \"HDI\": 0.93, \"Depression\": 3.2193074, \"Food\": 3465.0, \"Democracy\": 0.881}, {\"Country\": \"Madagascar\", \"HDI\": 0.501, \"Depression\": 4.737187, \"Food\": 1938.0, \"Democracy\": 0.495}, {\"Country\": \"Malawi\", \"HDI\": 0.512, \"Depression\": 4.100136, \"Food\": 2392.0, \"Democracy\": 0.642}, {\"Country\": \"Malaysia\", \"HDI\": 0.803, \"Depression\": 3.6630948, \"Food\": 2845.0, \"Democracy\": 0.438}, {\"Country\": \"Maldives\", \"HDI\": 0.747, \"Depression\": 2.9122725, \"Food\": 2235.0, \"Democracy\": 0.583}, {\"Country\": \"Mali\", \"HDI\": 0.428, \"Depression\": 3.5413845, \"Food\": 2873.0, \"Democracy\": 0.235}, {\"Country\": \"Malta\", \"HDI\": 0.918, \"Depression\": 3.1311812, \"Food\": 3420.0, \"Democracy\": 0.782}, {\"Country\": \"Mauritania\", \"HDI\": 0.556, \"Depression\": 3.6558447, \"Food\": 2877.0, \"Democracy\": 0.395}, {\"Country\": \"Mauritius\", \"HDI\": 0.802, \"Depression\": 3.8047628, \"Food\": 3051.0, \"Democracy\": 0.521}, {\"Country\": \"Mexico\", \"HDI\": 0.758, \"Depression\": 3.5358298, \"Food\": 3157.0, \"Democracy\": 0.598}, {\"Country\": \"Moldova\", \"HDI\": 0.767, \"Depression\": 3.22074, \"Food\": 2383.0, \"Democracy\": 0.752}, {\"Country\": \"Mongolia\", \"HDI\": 0.739, \"Depression\": 3.9632094, \"Food\": 2579.0, \"Democracy\": 0.566}, {\"Country\": \"Montenegro\", \"HDI\": 0.832, \"Depression\": 2.8178656, \"Food\": 3500.0, \"Democracy\": 0.501}, {\"Country\": \"Morocco\", \"HDI\": 0.683, \"Depression\": 5.07854, \"Food\": 3412.0, \"Democracy\": 0.264}, {\"Country\": \"Mozambique\", \"HDI\": 0.446, \"Depression\": 4.992671, \"Food\": 2103.0, \"Democracy\": 0.362}, {\"Country\": \"Myanmar\", \"HDI\": 0.585, \"Depression\": 2.1933033, \"Food\": 2673.0, \"Democracy\": 0.093}, {\"Country\": \"Namibia\", \"HDI\": 0.615, \"Depression\": 3.6164615, \"Food\": 2469.0, \"Democracy\": 0.634}, {\"Country\": \"Nepal\", \"HDI\": 0.602, \"Depression\": 4.8975983, \"Food\": 2769.0, \"Democracy\": 0.646}, {\"Country\": \"Netherlands\", \"HDI\": 0.941, \"Depression\": 3.5344012, \"Food\": 3297.0, \"Democracy\": 0.852}, {\"Country\": \"New Zealand\", \"HDI\": 0.937, \"Depression\": 3.7238638, \"Food\": 3191.0, \"Democracy\": 0.889}, {\"Country\": \"Nicaragua\", \"HDI\": 0.667, \"Depression\": 3.2548654, \"Food\": 2582.0, \"Democracy\": 0.177}, {\"Country\": \"Niger\", \"HDI\": 0.4, \"Depression\": 4.235215, \"Food\": 2601.0, \"Democracy\": 0.511}, {\"Country\": \"Nigeria\", \"HDI\": 0.535, \"Depression\": 3.8173978, \"Food\": 2572.0, \"Democracy\": 0.49}, {\"Country\": \"North Macedonia\", \"HDI\": 0.77, \"Depression\": 2.570906, \"Food\": 3072.0, \"Democracy\": 0.551}, {\"Country\": \"Norway\", \"HDI\": 0.961, \"Depression\": 3.2382026, \"Food\": 3371.0, \"Democracy\": 0.899}, {\"Country\": \"Oman\", \"HDI\": 0.816, \"Depression\": 3.962998, \"Food\": 2940.0, \"Democracy\": 0.17}, {\"Country\": \"Pakistan\", \"HDI\": 0.544, \"Depression\": 3.9425256, \"Food\": 2486.0, \"Democracy\": 0.388}, {\"Country\": \"Panama\", \"HDI\": 0.805, \"Depression\": 2.9369144, \"Food\": 2851.0, \"Democracy\": 0.729}, {\"Country\": \"Paraguay\", \"HDI\": 0.717, \"Depression\": 3.6945765, \"Food\": 2768.0, \"Democracy\": 0.581}, {\"Country\": \"Peru\", \"HDI\": 0.762, \"Depression\": 2.2116694, \"Food\": 2775.0, \"Democracy\": 0.744}, {\"Country\": \"Philippines\", \"HDI\": 0.699, \"Depression\": 2.779254, \"Food\": 2662.0, \"Democracy\": 0.431}, {\"Country\": \"Poland\", \"HDI\": 0.876, \"Depression\": 2.2779574, \"Food\": 3537.0, \"Democracy\": 0.574}, {\"Country\": \"Portugal\", \"HDI\": 0.866, \"Depression\": 4.3940663, \"Food\": 3480.0, \"Democracy\": 0.846}, {\"Country\": \"Romania\", \"HDI\": 0.821, \"Depression\": 2.6501622, \"Food\": 3581.0, \"Democracy\": 0.689}, {\"Country\": \"Russia\", \"HDI\": 0.822, \"Depression\": 3.0799155, \"Food\": 3345.0, \"Democracy\": 0.209}, {\"Country\": \"Rwanda\", \"HDI\": 0.534, \"Depression\": 5.0970206, \"Food\": 2188.0, \"Democracy\": 0.228}, {\"Country\": \"Sao Tome and Principe\", \"HDI\": 0.618, \"Depression\": 3.7094643, \"Food\": 2446.0, \"Democracy\": 0.684}, {\"Country\": \"Saudi Arabia\", \"HDI\": 0.875, \"Depression\": 4.216069, \"Food\": 3307.0, \"Democracy\": 0.016}, {\"Country\": \"Senegal\", \"HDI\": 0.511, \"Depression\": 4.0294, \"Food\": 2545.0, \"Democracy\": 0.69}, {\"Country\": \"Serbia\", \"HDI\": 0.802, \"Depression\": 2.814907, \"Food\": 2828.0, \"Democracy\": 0.361}, {\"Country\": \"Sierra Leone\", \"HDI\": 0.477, \"Depression\": 4.392157, \"Food\": 2369.0, \"Democracy\": 0.559}, {\"Country\": \"Slovakia\", \"HDI\": 0.848, \"Depression\": 2.695262, \"Food\": 2871.0, \"Democracy\": 0.851}, {\"Country\": \"Slovenia\", \"HDI\": 0.918, \"Depression\": 3.1152232, \"Food\": 3191.0, \"Democracy\": 0.799}, {\"Country\": \"Solomon Islands\", \"HDI\": 0.564, \"Depression\": 3.0039446, \"Food\": 2415.0, \"Democracy\": 0.618}, {\"Country\": \"South Africa\", \"HDI\": 0.713, \"Depression\": 4.298678, \"Food\": 2899.0, \"Democracy\": 0.692}, {\"Country\": \"South Korea\", \"HDI\": 0.925, \"Depression\": 2.091181, \"Food\": 3420.0, \"Democracy\": 0.812}, {\"Country\": \"Spain\", \"HDI\": 0.905, \"Depression\": 4.704455, \"Food\": 3322.0, \"Democracy\": 0.873}, {\"Country\": \"Sri Lanka\", \"HDI\": 0.782, \"Depression\": 2.8662298, \"Food\": 2737.0, \"Democracy\": 0.575}, {\"Country\": \"Sudan\", \"HDI\": 0.508, \"Depression\": 4.4230967, \"Food\": 2578.0, \"Democracy\": 0.169}, {\"Country\": \"Suriname\", \"HDI\": 0.73, \"Depression\": 4.6881685, \"Food\": 2698.0, \"Democracy\": 0.77}, {\"Country\": \"Sweden\", \"HDI\": 0.947, \"Depression\": 4.116486, \"Food\": 3184.0, \"Democracy\": 0.899}, {\"Country\": \"Switzerland\", \"HDI\": 0.962, \"Depression\": 3.705447, \"Food\": 3354.0, \"Democracy\": 0.898}, {\"Country\": \"Tajikistan\", \"HDI\": 0.685, \"Depression\": 2.8172803, \"Food\": 2109.0, \"Democracy\": 0.175}, {\"Country\": \"Tanzania\", \"HDI\": 0.549, \"Depression\": 4.651242, \"Food\": 2373.0, \"Democracy\": 0.398}, {\"Country\": \"Thailand\", \"HDI\": 0.8, \"Depression\": 2.847038, \"Food\": 2804.0, \"Democracy\": 0.206}, {\"Country\": \"Togo\", \"HDI\": 0.539, \"Depression\": 4.5008154, \"Food\": 2443.0, \"Democracy\": 0.426}, {\"Country\": \"Trinidad and Tobago\", \"HDI\": 0.81, \"Depression\": 3.82637, \"Food\": 2991.0, \"Democracy\": 0.784}, {\"Country\": \"Tunisia\", \"HDI\": 0.731, \"Depression\": 5.049405, \"Food\": 3450.0, \"Democracy\": 0.307}, {\"Country\": \"Turkey\", \"HDI\": 0.838, \"Depression\": 3.9422681, \"Food\": 3711.0, \"Democracy\": 0.276}, {\"Country\": \"Turkmenistan\", \"HDI\": 0.745, \"Depression\": 3.0497415, \"Food\": 2830.0, \"Democracy\": 0.149}, {\"Country\": \"Uganda\", \"HDI\": 0.525, \"Depression\": 6.5845194, \"Food\": 1981.0, \"Democracy\": 0.285}, {\"Country\": \"Ukraine\", \"HDI\": 0.773, \"Depression\": 3.8973033, \"Food\": 3102.0, \"Democracy\": 0.406}, {\"Country\": \"United Arab Emirates\", \"HDI\": 0.911, \"Depression\": 3.5784907, \"Food\": 3314.0, \"Democracy\": 0.101}, {\"Country\": \"United Kingdom\", \"HDI\": 0.929, \"Depression\": 4.0975676, \"Food\": 3344.0, \"Democracy\": 0.843}, {\"Country\": \"United States\", \"HDI\": 0.921, \"Depression\": 4.375998, \"Food\": 3782.0, \"Democracy\": 0.819}, {\"Country\": \"Uruguay\", \"HDI\": 0.809, \"Depression\": 2.840908, \"Food\": 3202.0, \"Democracy\": 0.804}, {\"Country\": \"Uzbekistan\", \"HDI\": 0.727, \"Depression\": 3.164448, \"Food\": 3011.0, \"Democracy\": 0.221}, {\"Country\": \"Vanuatu\", \"HDI\": 0.607, \"Depression\": 2.9744234, \"Food\": 2607.0, \"Democracy\": 0.771}, {\"Country\": \"Venezuela\", \"HDI\": 0.691, \"Depression\": 3.2147944, \"Food\": 2120.0, \"Democracy\": 0.214}, {\"Country\": \"Vietnam\", \"HDI\": 0.703, \"Depression\": 2.473061, \"Food\": 3025.0, \"Democracy\": 0.157}, {\"Country\": \"World\", \"HDI\": 0.732, \"Depression\": 3.4400527, \"Food\": 2928.399523487201, \"Democracy\": 0.497}, {\"Country\": \"Yemen\", \"HDI\": 0.455, \"Depression\": 4.8953676, \"Food\": 2154.0, \"Democracy\": 0.123}, {\"Country\": \"Zambia\", \"HDI\": 0.565, \"Depression\": 4.2194896, \"Food\": 2002.0, \"Democracy\": 0.518}, {\"Country\": \"Zimbabwe\", \"HDI\": 0.593, \"Depression\": 3.3954756, \"Food\": 1908.0, \"Democracy\": 0.285}]}}, {\"mode\": \"vega-lite\"});\n",
       "</script>"
      ]
     },
     "metadata": {},
     "execution_count": 18
    }
   ],
   "metadata": {}
  },
  {
   "cell_type": "markdown",
   "source": [
    "We can identify an outlier based on default parameters in the *Depression* boxplot. This means it is outside the Q3 + 1.5 * IQR range. IQR = Q3 - Q1 and Q1 = .25th percentile / Q3 = .75th percentile.\n",
    "\n",
    "We can try and find this country on the scatter plot"
   ],
   "metadata": {}
  },
  {
   "cell_type": "code",
   "execution_count": 19,
   "source": [
    "# find the country with the highest depression prevalence\n",
    "max_depression = merge[merge['Depression'] == merge['Depression'].max()]['Country'].values[0]\n",
    "\n",
    "print(max_depression)"
   ],
   "outputs": [
    {
     "output_type": "stream",
     "name": "stdout",
     "text": [
      "Uganda\n"
     ]
    }
   ],
   "metadata": {}
  },
  {
   "cell_type": "code",
   "execution_count": 20,
   "source": [
    "# create a text layer for the country with most depression\n",
    "text = alt.Chart(merge[merge['Country'] == max_depression]).mark_text(\n",
    "    align='left', # text alignment\n",
    "    dx=7 # moves to the right slightly\n",
    ").encode(\n",
    "    x=alt.X('Depression:Q'),\n",
    "    y=alt.Y('HDI:Q'),\n",
    "    text='Country'\n",
    ")\n",
    "\n",
    "# layer the plots\n",
    "max_depression_scatter = scatter1 + text\n",
    "\n",
    "# display\n",
    "max_depression_scatter"
   ],
   "outputs": [
    {
     "output_type": "execute_result",
     "data": {
      "text/plain": [
       "alt.LayerChart(...)"
      ],
      "text/html": [
       "\n",
       "<div id=\"altair-viz-6b1442a7255248f887d90274aee5f3ac\"></div>\n",
       "<script type=\"text/javascript\">\n",
       "  var VEGA_DEBUG = (typeof VEGA_DEBUG == \"undefined\") ? {} : VEGA_DEBUG;\n",
       "  (function(spec, embedOpt){\n",
       "    let outputDiv = document.currentScript.previousElementSibling;\n",
       "    if (outputDiv.id !== \"altair-viz-6b1442a7255248f887d90274aee5f3ac\") {\n",
       "      outputDiv = document.getElementById(\"altair-viz-6b1442a7255248f887d90274aee5f3ac\");\n",
       "    }\n",
       "    const paths = {\n",
       "      \"vega\": \"https://cdn.jsdelivr.net/npm//vega@5?noext\",\n",
       "      \"vega-lib\": \"https://cdn.jsdelivr.net/npm//vega-lib?noext\",\n",
       "      \"vega-lite\": \"https://cdn.jsdelivr.net/npm//vega-lite@4.17.0?noext\",\n",
       "      \"vega-embed\": \"https://cdn.jsdelivr.net/npm//vega-embed@6?noext\",\n",
       "    };\n",
       "\n",
       "    function maybeLoadScript(lib, version) {\n",
       "      var key = `${lib.replace(\"-\", \"\")}_version`;\n",
       "      return (VEGA_DEBUG[key] == version) ?\n",
       "        Promise.resolve(paths[lib]) :\n",
       "        new Promise(function(resolve, reject) {\n",
       "          var s = document.createElement('script');\n",
       "          document.getElementsByTagName(\"head\")[0].appendChild(s);\n",
       "          s.async = true;\n",
       "          s.onload = () => {\n",
       "            VEGA_DEBUG[key] = version;\n",
       "            return resolve(paths[lib]);\n",
       "          };\n",
       "          s.onerror = () => reject(`Error loading script: ${paths[lib]}`);\n",
       "          s.src = paths[lib];\n",
       "        });\n",
       "    }\n",
       "\n",
       "    function showError(err) {\n",
       "      outputDiv.innerHTML = `<div class=\"error\" style=\"color:red;\">${err}</div>`;\n",
       "      throw err;\n",
       "    }\n",
       "\n",
       "    function displayChart(vegaEmbed) {\n",
       "      vegaEmbed(outputDiv, spec, embedOpt)\n",
       "        .catch(err => showError(`Javascript Error: ${err.message}<br>This usually means there's a typo in your chart specification. See the javascript console for the full traceback.`));\n",
       "    }\n",
       "\n",
       "    if(typeof define === \"function\" && define.amd) {\n",
       "      requirejs.config({paths});\n",
       "      require([\"vega-embed\"], displayChart, err => showError(`Error loading script: ${err.message}`));\n",
       "    } else {\n",
       "      maybeLoadScript(\"vega\", \"5\")\n",
       "        .then(() => maybeLoadScript(\"vega-lite\", \"4.17.0\"))\n",
       "        .then(() => maybeLoadScript(\"vega-embed\", \"6\"))\n",
       "        .catch(showError)\n",
       "        .then(() => displayChart(vegaEmbed));\n",
       "    }\n",
       "  })({\"config\": {\"view\": {\"continuousWidth\": 400, \"continuousHeight\": 300}}, \"layer\": [{\"data\": {\"name\": \"data-db205c655887082692a0bbb5541e3c4b\"}, \"mark\": {\"type\": \"circle\", \"color\": \"purple\"}, \"encoding\": {\"x\": {\"field\": \"Depression\", \"title\": \"Prevalence of Depression\", \"type\": \"quantitative\"}, \"y\": {\"field\": \"HDI\", \"title\": \"Human Development Index\", \"type\": \"quantitative\"}}, \"title\": \"Depression vs. HDI\"}, {\"data\": {\"name\": \"data-57a14017f338cbb493125c26f313dfb4\"}, \"mark\": {\"type\": \"text\", \"align\": \"left\", \"dx\": 7}, \"encoding\": {\"text\": {\"field\": \"Country\", \"type\": \"nominal\"}, \"x\": {\"field\": \"Depression\", \"type\": \"quantitative\"}, \"y\": {\"field\": \"HDI\", \"type\": \"quantitative\"}}}], \"$schema\": \"https://vega.github.io/schema/vega-lite/v4.17.0.json\", \"datasets\": {\"data-db205c655887082692a0bbb5541e3c4b\": [{\"Country\": \"Afghanistan\", \"HDI\": 0.478, \"Depression\": 4.945168, \"Food\": 2040.0, \"Democracy\": 0.082}, {\"Country\": \"Albania\", \"HDI\": 0.796, \"Depression\": 2.4602032, \"Food\": 3360.0, \"Democracy\": 0.484}, {\"Country\": \"Algeria\", \"HDI\": 0.745, \"Depression\": 4.1296806, \"Food\": 3322.0, \"Democracy\": 0.281}, {\"Country\": \"Angola\", \"HDI\": 0.586, \"Depression\": 5.7441936, \"Food\": 2385.0, \"Democracy\": 0.344}, {\"Country\": \"Argentina\", \"HDI\": 0.842, \"Depression\": 2.4075098, \"Food\": 3307.0, \"Democracy\": 0.823}, {\"Country\": \"Armenia\", \"HDI\": 0.759, \"Depression\": 2.9836516, \"Food\": 2997.0, \"Democracy\": 0.645}, {\"Country\": \"Australia\", \"HDI\": 0.951, \"Depression\": 4.382458, \"Food\": 3391.0, \"Democracy\": 0.858}, {\"Country\": \"Austria\", \"HDI\": 0.916, \"Depression\": 3.125201, \"Food\": 3695.0, \"Democracy\": 0.794}, {\"Country\": \"Azerbaijan\", \"HDI\": 0.745, \"Depression\": 2.7526312, \"Food\": 3149.0, \"Democracy\": 0.188}, {\"Country\": \"Bangladesh\", \"HDI\": 0.661, \"Depression\": 4.6198096, \"Food\": 2563.0, \"Democracy\": 0.274}, {\"Country\": \"Barbados\", \"HDI\": 0.79, \"Depression\": 3.1782775, \"Food\": 2956.0, \"Democracy\": 0.782}, {\"Country\": \"Belarus\", \"HDI\": 0.808, \"Depression\": 3.824539, \"Food\": 3270.0, \"Democracy\": 0.175}, {\"Country\": \"Belgium\", \"HDI\": 0.937, \"Depression\": 3.5420222, \"Food\": 3769.0, \"Democracy\": 0.887}, {\"Country\": \"Benin\", \"HDI\": 0.525, \"Depression\": 4.447893, \"Food\": 2755.0, \"Democracy\": 0.45}, {\"Country\": \"Bolivia\", \"HDI\": 0.692, \"Depression\": 3.3994322, \"Food\": 2412.0, \"Democracy\": 0.597}, {\"Country\": \"Bosnia and Herzegovina\", \"HDI\": 0.78, \"Depression\": 2.7624497, \"Food\": 3307.0, \"Democracy\": 0.528}, {\"Country\": \"Botswana\", \"HDI\": 0.693, \"Depression\": 4.2572603, \"Food\": 2342.0, \"Democracy\": 0.577}, {\"Country\": \"Brazil\", \"HDI\": 0.754, \"Depression\": 3.8015563, \"Food\": 3301.0, \"Democracy\": 0.678}, {\"Country\": \"Bulgaria\", \"HDI\": 0.795, \"Depression\": 2.6916606, \"Food\": 2854.0, \"Democracy\": 0.688}, {\"Country\": \"Burkina Faso\", \"HDI\": 0.449, \"Depression\": 4.378302, \"Food\": 2737.0, \"Democracy\": 0.295}, {\"Country\": \"Cambodia\", \"HDI\": 0.593, \"Depression\": 2.9500995, \"Food\": 2492.0, \"Democracy\": 0.206}, {\"Country\": \"Cameroon\", \"HDI\": 0.576, \"Depression\": 4.6046395, \"Food\": 2733.0, \"Democracy\": 0.297}, {\"Country\": \"Canada\", \"HDI\": 0.936, \"Depression\": 3.2904658, \"Food\": 3566.0, \"Democracy\": 0.847}, {\"Country\": \"Cape Verde\", \"HDI\": 0.662, \"Depression\": 4.8429317, \"Food\": 2541.0, \"Democracy\": 0.75}, {\"Country\": \"Central African Republic\", \"HDI\": 0.404, \"Depression\": 5.9238467, \"Food\": 1786.0, \"Democracy\": 0.321}, {\"Country\": \"Chad\", \"HDI\": 0.394, \"Depression\": 5.1334114, \"Food\": 2115.0, \"Democracy\": 0.14}, {\"Country\": \"Chile\", \"HDI\": 0.855, \"Depression\": 3.6435125, \"Food\": 3029.0, \"Democracy\": 0.811}, {\"Country\": \"China\", \"HDI\": 0.768, \"Depression\": 2.7240157, \"Food\": 3206.0, \"Democracy\": 0.075}, {\"Country\": \"Colombia\", \"HDI\": 0.752, \"Depression\": 2.2196279, \"Food\": 3114.0, \"Democracy\": 0.689}, {\"Country\": \"Congo\", \"HDI\": 0.571, \"Depression\": 5.5257406, \"Food\": 2285.0, \"Democracy\": 0.234}, {\"Country\": \"Costa Rica\", \"HDI\": 0.809, \"Depression\": 3.2132857, \"Food\": 3029.0, \"Democracy\": 0.871}, {\"Country\": \"Cote d'Ivoire\", \"HDI\": 0.55, \"Depression\": 3.9350774, \"Food\": 2778.0, \"Democracy\": 0.437}, {\"Country\": \"Croatia\", \"HDI\": 0.858, \"Depression\": 3.0076077, \"Food\": 3074.0, \"Democracy\": 0.738}, {\"Country\": \"Cuba\", \"HDI\": 0.764, \"Depression\": 3.802294, \"Food\": 3344.0, \"Democracy\": 0.178}, {\"Country\": \"Cyprus\", \"HDI\": 0.896, \"Depression\": 3.1127021, \"Food\": 3019.0, \"Democracy\": 0.777}, {\"Country\": \"Czechia\", \"HDI\": 0.889, \"Depression\": 2.878852, \"Food\": 3277.0, \"Democracy\": 0.853}, {\"Country\": \"Denmark\", \"HDI\": 0.948, \"Depression\": 3.4828994, \"Food\": 3401.0, \"Democracy\": 0.916}, {\"Country\": \"Djibouti\", \"HDI\": 0.509, \"Depression\": 4.4612656, \"Food\": 2694.0, \"Democracy\": 0.255}, {\"Country\": \"Dominican Republic\", \"HDI\": 0.767, \"Depression\": 3.8231027, \"Food\": 2892.0, \"Democracy\": 0.679}, {\"Country\": \"East Timor\", \"HDI\": 0.607, \"Depression\": 2.804642, \"Food\": 2287.0, \"Democracy\": 0.695}, {\"Country\": \"Ecuador\", \"HDI\": 0.74, \"Depression\": 3.3306973, \"Food\": 2606.0, \"Democracy\": 0.657}, {\"Country\": \"Egypt\", \"HDI\": 0.731, \"Depression\": 3.9397578, \"Food\": 3292.0, \"Democracy\": 0.175}, {\"Country\": \"El Salvador\", \"HDI\": 0.675, \"Depression\": 3.4073691, \"Food\": 2696.0, \"Democracy\": 0.378}, {\"Country\": \"Estonia\", \"HDI\": 0.89, \"Depression\": 3.6936426, \"Food\": 3247.0, \"Democracy\": 0.893}, {\"Country\": \"Eswatini\", \"HDI\": 0.597, \"Depression\": 4.4255295, \"Food\": 2426.0, \"Democracy\": 0.12}, {\"Country\": \"Ethiopia\", \"HDI\": 0.498, \"Depression\": 4.64972, \"Food\": 2338.0, \"Democracy\": 0.319}, {\"Country\": \"Fiji\", \"HDI\": 0.73, \"Depression\": 2.917755, \"Food\": 2781.0, \"Democracy\": 0.406}, {\"Country\": \"Finland\", \"HDI\": 0.94, \"Depression\": 4.139295, \"Food\": 3343.0, \"Democracy\": 0.861}, {\"Country\": \"France\", \"HDI\": 0.903, \"Depression\": 3.835741, \"Food\": 3502.0, \"Democracy\": 0.874}, {\"Country\": \"Gabon\", \"HDI\": 0.706, \"Depression\": 5.5459714, \"Food\": 2633.0, \"Democracy\": 0.369}, {\"Country\": \"Gambia\", \"HDI\": 0.5, \"Depression\": 5.5018787, \"Food\": 2533.0, \"Democracy\": 0.62}, {\"Country\": \"Georgia\", \"HDI\": 0.802, \"Depression\": 3.3233132, \"Food\": 2835.0, \"Democracy\": 0.647}, {\"Country\": \"Germany\", \"HDI\": 0.942, \"Depression\": 3.3767943, \"Food\": 3554.0, \"Democracy\": 0.857}, {\"Country\": \"Ghana\", \"HDI\": 0.632, \"Depression\": 4.3620286, \"Food\": 3035.0, \"Democracy\": 0.633}, {\"Country\": \"Greece\", \"HDI\": 0.887, \"Depression\": 5.0422506, \"Food\": 3382.0, \"Democracy\": 0.783}, {\"Country\": \"Guatemala\", \"HDI\": 0.627, \"Depression\": 3.6679313, \"Food\": 2551.0, \"Democracy\": 0.435}, {\"Country\": \"Guinea\", \"HDI\": 0.465, \"Depression\": 4.3731165, \"Food\": 2746.0, \"Democracy\": 0.191}, {\"Country\": \"Guinea-Bissau\", \"HDI\": 0.483, \"Depression\": 4.4942803, \"Food\": 2229.0, \"Democracy\": 0.371}, {\"Country\": \"Guyana\", \"HDI\": 0.714, \"Depression\": 4.927692, \"Food\": 2913.0, \"Democracy\": 0.535}, {\"Country\": \"Haiti\", \"HDI\": 0.535, \"Depression\": 3.6351175, \"Food\": 2121.0, \"Democracy\": 0.248}, {\"Country\": \"Honduras\", \"HDI\": 0.621, \"Depression\": 3.1551142, \"Food\": 2673.0, \"Democracy\": 0.556}, {\"Country\": \"Hungary\", \"HDI\": 0.846, \"Depression\": 2.8233702, \"Food\": 3316.0, \"Democracy\": 0.445}, {\"Country\": \"Iceland\", \"HDI\": 0.959, \"Depression\": 2.9365938, \"Food\": 3654.0, \"Democracy\": 0.819}, {\"Country\": \"India\", \"HDI\": 0.633, \"Depression\": 3.6598387, \"Food\": 2533.0, \"Democracy\": 0.399}, {\"Country\": \"Indonesia\", \"HDI\": 0.705, \"Depression\": 2.4184713, \"Food\": 2884.0, \"Democracy\": 0.574}, {\"Country\": \"Iran\", \"HDI\": 0.774, \"Depression\": 4.860692, \"Food\": 3087.0, \"Democracy\": 0.182}, {\"Country\": \"Iraq\", \"HDI\": 0.686, \"Depression\": 3.9326482, \"Food\": 2608.0, \"Democracy\": 0.362}, {\"Country\": \"Ireland\", \"HDI\": 0.945, \"Depression\": 4.2169313, \"Food\": 3885.0, \"Democracy\": 0.889}, {\"Country\": \"Israel\", \"HDI\": 0.919, \"Depression\": 4.127255, \"Food\": 3528.0, \"Democracy\": 0.723}, {\"Country\": \"Italy\", \"HDI\": 0.895, \"Depression\": 3.561658, \"Food\": 3503.0, \"Democracy\": 0.844}, {\"Country\": \"Jamaica\", \"HDI\": 0.709, \"Depression\": 3.0646706, \"Food\": 2792.0, \"Democracy\": 0.797}, {\"Country\": \"Japan\", \"HDI\": 0.925, \"Depression\": 2.1032803, \"Food\": 2705.0, \"Democracy\": 0.833}, {\"Country\": \"Jordan\", \"HDI\": 0.72, \"Depression\": 4.15211, \"Food\": 2732.0, \"Democracy\": 0.259}, {\"Country\": \"Kazakhstan\", \"HDI\": 0.811, \"Depression\": 3.4412057, \"Food\": 3067.0, \"Democracy\": 0.277}, {\"Country\": \"Kenya\", \"HDI\": 0.575, \"Depression\": 4.723163, \"Food\": 2197.0, \"Democracy\": 0.522}, {\"Country\": \"Kuwait\", \"HDI\": 0.831, \"Depression\": 4.0603004, \"Food\": 3471.0, \"Democracy\": 0.317}, {\"Country\": \"Kyrgyzstan\", \"HDI\": 0.692, \"Depression\": 3.3816984, \"Food\": 2729.0, \"Democracy\": 0.382}, {\"Country\": \"Laos\", \"HDI\": 0.607, \"Depression\": 2.7468913, \"Food\": 2758.0, \"Democracy\": 0.134}, {\"Country\": \"Latvia\", \"HDI\": 0.863, \"Depression\": 3.7478287, \"Food\": 3229.0, \"Democracy\": 0.821}, {\"Country\": \"Lebanon\", \"HDI\": 0.706, \"Depression\": 4.652712, \"Food\": 2857.0, \"Democracy\": 0.426}, {\"Country\": \"Lesotho\", \"HDI\": 0.514, \"Depression\": 5.511564, \"Food\": 2323.0, \"Democracy\": 0.641}, {\"Country\": \"Liberia\", \"HDI\": 0.481, \"Depression\": 4.556289, \"Food\": 2168.0, \"Democracy\": 0.634}, {\"Country\": \"Lithuania\", \"HDI\": 0.875, \"Depression\": 3.9911947, \"Food\": 3411.0, \"Democracy\": 0.797}, {\"Country\": \"Luxembourg\", \"HDI\": 0.93, \"Depression\": 3.2193074, \"Food\": 3465.0, \"Democracy\": 0.881}, {\"Country\": \"Madagascar\", \"HDI\": 0.501, \"Depression\": 4.737187, \"Food\": 1938.0, \"Democracy\": 0.495}, {\"Country\": \"Malawi\", \"HDI\": 0.512, \"Depression\": 4.100136, \"Food\": 2392.0, \"Democracy\": 0.642}, {\"Country\": \"Malaysia\", \"HDI\": 0.803, \"Depression\": 3.6630948, \"Food\": 2845.0, \"Democracy\": 0.438}, {\"Country\": \"Maldives\", \"HDI\": 0.747, \"Depression\": 2.9122725, \"Food\": 2235.0, \"Democracy\": 0.583}, {\"Country\": \"Mali\", \"HDI\": 0.428, \"Depression\": 3.5413845, \"Food\": 2873.0, \"Democracy\": 0.235}, {\"Country\": \"Malta\", \"HDI\": 0.918, \"Depression\": 3.1311812, \"Food\": 3420.0, \"Democracy\": 0.782}, {\"Country\": \"Mauritania\", \"HDI\": 0.556, \"Depression\": 3.6558447, \"Food\": 2877.0, \"Democracy\": 0.395}, {\"Country\": \"Mauritius\", \"HDI\": 0.802, \"Depression\": 3.8047628, \"Food\": 3051.0, \"Democracy\": 0.521}, {\"Country\": \"Mexico\", \"HDI\": 0.758, \"Depression\": 3.5358298, \"Food\": 3157.0, \"Democracy\": 0.598}, {\"Country\": \"Moldova\", \"HDI\": 0.767, \"Depression\": 3.22074, \"Food\": 2383.0, \"Democracy\": 0.752}, {\"Country\": \"Mongolia\", \"HDI\": 0.739, \"Depression\": 3.9632094, \"Food\": 2579.0, \"Democracy\": 0.566}, {\"Country\": \"Montenegro\", \"HDI\": 0.832, \"Depression\": 2.8178656, \"Food\": 3500.0, \"Democracy\": 0.501}, {\"Country\": \"Morocco\", \"HDI\": 0.683, \"Depression\": 5.07854, \"Food\": 3412.0, \"Democracy\": 0.264}, {\"Country\": \"Mozambique\", \"HDI\": 0.446, \"Depression\": 4.992671, \"Food\": 2103.0, \"Democracy\": 0.362}, {\"Country\": \"Myanmar\", \"HDI\": 0.585, \"Depression\": 2.1933033, \"Food\": 2673.0, \"Democracy\": 0.093}, {\"Country\": \"Namibia\", \"HDI\": 0.615, \"Depression\": 3.6164615, \"Food\": 2469.0, \"Democracy\": 0.634}, {\"Country\": \"Nepal\", \"HDI\": 0.602, \"Depression\": 4.8975983, \"Food\": 2769.0, \"Democracy\": 0.646}, {\"Country\": \"Netherlands\", \"HDI\": 0.941, \"Depression\": 3.5344012, \"Food\": 3297.0, \"Democracy\": 0.852}, {\"Country\": \"New Zealand\", \"HDI\": 0.937, \"Depression\": 3.7238638, \"Food\": 3191.0, \"Democracy\": 0.889}, {\"Country\": \"Nicaragua\", \"HDI\": 0.667, \"Depression\": 3.2548654, \"Food\": 2582.0, \"Democracy\": 0.177}, {\"Country\": \"Niger\", \"HDI\": 0.4, \"Depression\": 4.235215, \"Food\": 2601.0, \"Democracy\": 0.511}, {\"Country\": \"Nigeria\", \"HDI\": 0.535, \"Depression\": 3.8173978, \"Food\": 2572.0, \"Democracy\": 0.49}, {\"Country\": \"North Macedonia\", \"HDI\": 0.77, \"Depression\": 2.570906, \"Food\": 3072.0, \"Democracy\": 0.551}, {\"Country\": \"Norway\", \"HDI\": 0.961, \"Depression\": 3.2382026, \"Food\": 3371.0, \"Democracy\": 0.899}, {\"Country\": \"Oman\", \"HDI\": 0.816, \"Depression\": 3.962998, \"Food\": 2940.0, \"Democracy\": 0.17}, {\"Country\": \"Pakistan\", \"HDI\": 0.544, \"Depression\": 3.9425256, \"Food\": 2486.0, \"Democracy\": 0.388}, {\"Country\": \"Panama\", \"HDI\": 0.805, \"Depression\": 2.9369144, \"Food\": 2851.0, \"Democracy\": 0.729}, {\"Country\": \"Paraguay\", \"HDI\": 0.717, \"Depression\": 3.6945765, \"Food\": 2768.0, \"Democracy\": 0.581}, {\"Country\": \"Peru\", \"HDI\": 0.762, \"Depression\": 2.2116694, \"Food\": 2775.0, \"Democracy\": 0.744}, {\"Country\": \"Philippines\", \"HDI\": 0.699, \"Depression\": 2.779254, \"Food\": 2662.0, \"Democracy\": 0.431}, {\"Country\": \"Poland\", \"HDI\": 0.876, \"Depression\": 2.2779574, \"Food\": 3537.0, \"Democracy\": 0.574}, {\"Country\": \"Portugal\", \"HDI\": 0.866, \"Depression\": 4.3940663, \"Food\": 3480.0, \"Democracy\": 0.846}, {\"Country\": \"Romania\", \"HDI\": 0.821, \"Depression\": 2.6501622, \"Food\": 3581.0, \"Democracy\": 0.689}, {\"Country\": \"Russia\", \"HDI\": 0.822, \"Depression\": 3.0799155, \"Food\": 3345.0, \"Democracy\": 0.209}, {\"Country\": \"Rwanda\", \"HDI\": 0.534, \"Depression\": 5.0970206, \"Food\": 2188.0, \"Democracy\": 0.228}, {\"Country\": \"Sao Tome and Principe\", \"HDI\": 0.618, \"Depression\": 3.7094643, \"Food\": 2446.0, \"Democracy\": 0.684}, {\"Country\": \"Saudi Arabia\", \"HDI\": 0.875, \"Depression\": 4.216069, \"Food\": 3307.0, \"Democracy\": 0.016}, {\"Country\": \"Senegal\", \"HDI\": 0.511, \"Depression\": 4.0294, \"Food\": 2545.0, \"Democracy\": 0.69}, {\"Country\": \"Serbia\", \"HDI\": 0.802, \"Depression\": 2.814907, \"Food\": 2828.0, \"Democracy\": 0.361}, {\"Country\": \"Sierra Leone\", \"HDI\": 0.477, \"Depression\": 4.392157, \"Food\": 2369.0, \"Democracy\": 0.559}, {\"Country\": \"Slovakia\", \"HDI\": 0.848, \"Depression\": 2.695262, \"Food\": 2871.0, \"Democracy\": 0.851}, {\"Country\": \"Slovenia\", \"HDI\": 0.918, \"Depression\": 3.1152232, \"Food\": 3191.0, \"Democracy\": 0.799}, {\"Country\": \"Solomon Islands\", \"HDI\": 0.564, \"Depression\": 3.0039446, \"Food\": 2415.0, \"Democracy\": 0.618}, {\"Country\": \"South Africa\", \"HDI\": 0.713, \"Depression\": 4.298678, \"Food\": 2899.0, \"Democracy\": 0.692}, {\"Country\": \"South Korea\", \"HDI\": 0.925, \"Depression\": 2.091181, \"Food\": 3420.0, \"Democracy\": 0.812}, {\"Country\": \"Spain\", \"HDI\": 0.905, \"Depression\": 4.704455, \"Food\": 3322.0, \"Democracy\": 0.873}, {\"Country\": \"Sri Lanka\", \"HDI\": 0.782, \"Depression\": 2.8662298, \"Food\": 2737.0, \"Democracy\": 0.575}, {\"Country\": \"Sudan\", \"HDI\": 0.508, \"Depression\": 4.4230967, \"Food\": 2578.0, \"Democracy\": 0.169}, {\"Country\": \"Suriname\", \"HDI\": 0.73, \"Depression\": 4.6881685, \"Food\": 2698.0, \"Democracy\": 0.77}, {\"Country\": \"Sweden\", \"HDI\": 0.947, \"Depression\": 4.116486, \"Food\": 3184.0, \"Democracy\": 0.899}, {\"Country\": \"Switzerland\", \"HDI\": 0.962, \"Depression\": 3.705447, \"Food\": 3354.0, \"Democracy\": 0.898}, {\"Country\": \"Tajikistan\", \"HDI\": 0.685, \"Depression\": 2.8172803, \"Food\": 2109.0, \"Democracy\": 0.175}, {\"Country\": \"Tanzania\", \"HDI\": 0.549, \"Depression\": 4.651242, \"Food\": 2373.0, \"Democracy\": 0.398}, {\"Country\": \"Thailand\", \"HDI\": 0.8, \"Depression\": 2.847038, \"Food\": 2804.0, \"Democracy\": 0.206}, {\"Country\": \"Togo\", \"HDI\": 0.539, \"Depression\": 4.5008154, \"Food\": 2443.0, \"Democracy\": 0.426}, {\"Country\": \"Trinidad and Tobago\", \"HDI\": 0.81, \"Depression\": 3.82637, \"Food\": 2991.0, \"Democracy\": 0.784}, {\"Country\": \"Tunisia\", \"HDI\": 0.731, \"Depression\": 5.049405, \"Food\": 3450.0, \"Democracy\": 0.307}, {\"Country\": \"Turkey\", \"HDI\": 0.838, \"Depression\": 3.9422681, \"Food\": 3711.0, \"Democracy\": 0.276}, {\"Country\": \"Turkmenistan\", \"HDI\": 0.745, \"Depression\": 3.0497415, \"Food\": 2830.0, \"Democracy\": 0.149}, {\"Country\": \"Uganda\", \"HDI\": 0.525, \"Depression\": 6.5845194, \"Food\": 1981.0, \"Democracy\": 0.285}, {\"Country\": \"Ukraine\", \"HDI\": 0.773, \"Depression\": 3.8973033, \"Food\": 3102.0, \"Democracy\": 0.406}, {\"Country\": \"United Arab Emirates\", \"HDI\": 0.911, \"Depression\": 3.5784907, \"Food\": 3314.0, \"Democracy\": 0.101}, {\"Country\": \"United Kingdom\", \"HDI\": 0.929, \"Depression\": 4.0975676, \"Food\": 3344.0, \"Democracy\": 0.843}, {\"Country\": \"United States\", \"HDI\": 0.921, \"Depression\": 4.375998, \"Food\": 3782.0, \"Democracy\": 0.819}, {\"Country\": \"Uruguay\", \"HDI\": 0.809, \"Depression\": 2.840908, \"Food\": 3202.0, \"Democracy\": 0.804}, {\"Country\": \"Uzbekistan\", \"HDI\": 0.727, \"Depression\": 3.164448, \"Food\": 3011.0, \"Democracy\": 0.221}, {\"Country\": \"Vanuatu\", \"HDI\": 0.607, \"Depression\": 2.9744234, \"Food\": 2607.0, \"Democracy\": 0.771}, {\"Country\": \"Venezuela\", \"HDI\": 0.691, \"Depression\": 3.2147944, \"Food\": 2120.0, \"Democracy\": 0.214}, {\"Country\": \"Vietnam\", \"HDI\": 0.703, \"Depression\": 2.473061, \"Food\": 3025.0, \"Democracy\": 0.157}, {\"Country\": \"World\", \"HDI\": 0.732, \"Depression\": 3.4400527, \"Food\": 2928.399523487201, \"Democracy\": 0.497}, {\"Country\": \"Yemen\", \"HDI\": 0.455, \"Depression\": 4.8953676, \"Food\": 2154.0, \"Democracy\": 0.123}, {\"Country\": \"Zambia\", \"HDI\": 0.565, \"Depression\": 4.2194896, \"Food\": 2002.0, \"Democracy\": 0.518}, {\"Country\": \"Zimbabwe\", \"HDI\": 0.593, \"Depression\": 3.3954756, \"Food\": 1908.0, \"Democracy\": 0.285}], \"data-57a14017f338cbb493125c26f313dfb4\": [{\"Country\": \"Uganda\", \"HDI\": 0.525, \"Depression\": 6.5845194, \"Food\": 1981.0, \"Democracy\": 0.285}]}}, {\"mode\": \"vega-lite\"});\n",
       "</script>"
      ]
     },
     "metadata": {},
     "execution_count": 20
    }
   ],
   "metadata": {}
  },
  {
   "cell_type": "markdown",
   "source": [
    "### 3.3 Exploratory Analysis (Categorical Response Variable)\n",
    "\n",
    "We can turn HDI into a categorical variable in the code below and run different exploratory analyses on it. This allows us to compare/contrast regression and classification using the same dataset and notebook. "
   ],
   "metadata": {}
  },
  {
   "cell_type": "code",
   "execution_count": 21,
   "source": [
    "# make a copy of merge that we can edit to have categorical outcome variable     \n",
    "merge_cat = merge.copy()\n",
    "\n",
    "# separate HDI into a factor variable\n",
    "hdi_labels = ['1_low', '2_medium', '3_high']\n",
    "\n",
    "# pd.qcut() creates quantiles\n",
    "merge_cat['HDI_fac'] = pd.qcut(merge_cat.HDI,\n",
    "                               q = 3,\n",
    "                               labels = hdi_labels)\n",
    "\n",
    "merge_cat.drop(columns=['HDI'], inplace=True)\n",
    "\n",
    "# preview\n",
    "merge_cat.head()"
   ],
   "outputs": [
    {
     "output_type": "execute_result",
     "data": {
      "text/plain": [
       "       Country  Depression    Food  Democracy   HDI_fac\n",
       "0  Afghanistan    4.945168  2040.0      0.082     1_low\n",
       "1      Albania    2.460203  3360.0      0.484  2_medium\n",
       "2      Algeria    4.129681  3322.0      0.281  2_medium\n",
       "3       Angola    5.744194  2385.0      0.344     1_low\n",
       "4    Argentina    2.407510  3307.0      0.823    3_high"
      ],
      "text/html": [
       "<div>\n",
       "<style scoped>\n",
       "    .dataframe tbody tr th:only-of-type {\n",
       "        vertical-align: middle;\n",
       "    }\n",
       "\n",
       "    .dataframe tbody tr th {\n",
       "        vertical-align: top;\n",
       "    }\n",
       "\n",
       "    .dataframe thead th {\n",
       "        text-align: right;\n",
       "    }\n",
       "</style>\n",
       "<table border=\"1\" class=\"dataframe\">\n",
       "  <thead>\n",
       "    <tr style=\"text-align: right;\">\n",
       "      <th></th>\n",
       "      <th>Country</th>\n",
       "      <th>Depression</th>\n",
       "      <th>Food</th>\n",
       "      <th>Democracy</th>\n",
       "      <th>HDI_fac</th>\n",
       "    </tr>\n",
       "  </thead>\n",
       "  <tbody>\n",
       "    <tr>\n",
       "      <th>0</th>\n",
       "      <td>Afghanistan</td>\n",
       "      <td>4.945168</td>\n",
       "      <td>2040.0</td>\n",
       "      <td>0.082</td>\n",
       "      <td>1_low</td>\n",
       "    </tr>\n",
       "    <tr>\n",
       "      <th>1</th>\n",
       "      <td>Albania</td>\n",
       "      <td>2.460203</td>\n",
       "      <td>3360.0</td>\n",
       "      <td>0.484</td>\n",
       "      <td>2_medium</td>\n",
       "    </tr>\n",
       "    <tr>\n",
       "      <th>2</th>\n",
       "      <td>Algeria</td>\n",
       "      <td>4.129681</td>\n",
       "      <td>3322.0</td>\n",
       "      <td>0.281</td>\n",
       "      <td>2_medium</td>\n",
       "    </tr>\n",
       "    <tr>\n",
       "      <th>3</th>\n",
       "      <td>Angola</td>\n",
       "      <td>5.744194</td>\n",
       "      <td>2385.0</td>\n",
       "      <td>0.344</td>\n",
       "      <td>1_low</td>\n",
       "    </tr>\n",
       "    <tr>\n",
       "      <th>4</th>\n",
       "      <td>Argentina</td>\n",
       "      <td>2.407510</td>\n",
       "      <td>3307.0</td>\n",
       "      <td>0.823</td>\n",
       "      <td>3_high</td>\n",
       "    </tr>\n",
       "  </tbody>\n",
       "</table>\n",
       "</div>"
      ]
     },
     "metadata": {},
     "execution_count": 21
    }
   ],
   "metadata": {}
  },
  {
   "cell_type": "code",
   "execution_count": 22,
   "source": [
    "import altair as alt\n",
    "\n",
    "box1 = alt.Chart(merge_cat).mark_boxplot().encode(\n",
    "    x='HDI_fac:O',\n",
    "    y='Depression:Q',\n",
    "    color='HDI_fac:N'\n",
    ").properties(\n",
    "    title='Box plot of Depression by HDI Category',\n",
    "    width=300\n",
    ")\n",
    "\n",
    "box2 = alt.Chart(merge_cat).mark_boxplot().encode(\n",
    "    x='HDI_fac:O',\n",
    "    y='Food:Q',\n",
    "    color='HDI_fac:N'\n",
    ").properties(\n",
    "    title='Box plot of Food by HDI Category',\n",
    "    width=300\n",
    ")\n",
    "\n",
    "box3 = alt.Chart(merge_cat).mark_boxplot().encode(\n",
    "    x='HDI_fac:O',\n",
    "    y='Democracy:Q',\n",
    "    color='HDI_fac:N'\n",
    ").properties(\n",
    "    title='Box plot of Democracy by HDI Category',\n",
    "    width=300\n",
    ")\n",
    "\n",
    "box1 | box2 | box3"
   ],
   "outputs": [
    {
     "output_type": "execute_result",
     "data": {
      "text/plain": [
       "alt.HConcatChart(...)"
      ],
      "text/html": [
       "\n",
       "<div id=\"altair-viz-3368ab6c647f4ee9bbbbd32518c2dffa\"></div>\n",
       "<script type=\"text/javascript\">\n",
       "  var VEGA_DEBUG = (typeof VEGA_DEBUG == \"undefined\") ? {} : VEGA_DEBUG;\n",
       "  (function(spec, embedOpt){\n",
       "    let outputDiv = document.currentScript.previousElementSibling;\n",
       "    if (outputDiv.id !== \"altair-viz-3368ab6c647f4ee9bbbbd32518c2dffa\") {\n",
       "      outputDiv = document.getElementById(\"altair-viz-3368ab6c647f4ee9bbbbd32518c2dffa\");\n",
       "    }\n",
       "    const paths = {\n",
       "      \"vega\": \"https://cdn.jsdelivr.net/npm//vega@5?noext\",\n",
       "      \"vega-lib\": \"https://cdn.jsdelivr.net/npm//vega-lib?noext\",\n",
       "      \"vega-lite\": \"https://cdn.jsdelivr.net/npm//vega-lite@4.17.0?noext\",\n",
       "      \"vega-embed\": \"https://cdn.jsdelivr.net/npm//vega-embed@6?noext\",\n",
       "    };\n",
       "\n",
       "    function maybeLoadScript(lib, version) {\n",
       "      var key = `${lib.replace(\"-\", \"\")}_version`;\n",
       "      return (VEGA_DEBUG[key] == version) ?\n",
       "        Promise.resolve(paths[lib]) :\n",
       "        new Promise(function(resolve, reject) {\n",
       "          var s = document.createElement('script');\n",
       "          document.getElementsByTagName(\"head\")[0].appendChild(s);\n",
       "          s.async = true;\n",
       "          s.onload = () => {\n",
       "            VEGA_DEBUG[key] = version;\n",
       "            return resolve(paths[lib]);\n",
       "          };\n",
       "          s.onerror = () => reject(`Error loading script: ${paths[lib]}`);\n",
       "          s.src = paths[lib];\n",
       "        });\n",
       "    }\n",
       "\n",
       "    function showError(err) {\n",
       "      outputDiv.innerHTML = `<div class=\"error\" style=\"color:red;\">${err}</div>`;\n",
       "      throw err;\n",
       "    }\n",
       "\n",
       "    function displayChart(vegaEmbed) {\n",
       "      vegaEmbed(outputDiv, spec, embedOpt)\n",
       "        .catch(err => showError(`Javascript Error: ${err.message}<br>This usually means there's a typo in your chart specification. See the javascript console for the full traceback.`));\n",
       "    }\n",
       "\n",
       "    if(typeof define === \"function\" && define.amd) {\n",
       "      requirejs.config({paths});\n",
       "      require([\"vega-embed\"], displayChart, err => showError(`Error loading script: ${err.message}`));\n",
       "    } else {\n",
       "      maybeLoadScript(\"vega\", \"5\")\n",
       "        .then(() => maybeLoadScript(\"vega-lite\", \"4.17.0\"))\n",
       "        .then(() => maybeLoadScript(\"vega-embed\", \"6\"))\n",
       "        .catch(showError)\n",
       "        .then(() => displayChart(vegaEmbed));\n",
       "    }\n",
       "  })({\"config\": {\"view\": {\"continuousWidth\": 400, \"continuousHeight\": 300}}, \"hconcat\": [{\"mark\": \"boxplot\", \"encoding\": {\"color\": {\"field\": \"HDI_fac\", \"type\": \"nominal\"}, \"x\": {\"field\": \"HDI_fac\", \"type\": \"ordinal\"}, \"y\": {\"field\": \"Depression\", \"type\": \"quantitative\"}}, \"title\": \"Box plot of Depression by HDI Category\", \"width\": 300}, {\"mark\": \"boxplot\", \"encoding\": {\"color\": {\"field\": \"HDI_fac\", \"type\": \"nominal\"}, \"x\": {\"field\": \"HDI_fac\", \"type\": \"ordinal\"}, \"y\": {\"field\": \"Food\", \"type\": \"quantitative\"}}, \"title\": \"Box plot of Food by HDI Category\", \"width\": 300}, {\"mark\": \"boxplot\", \"encoding\": {\"color\": {\"field\": \"HDI_fac\", \"type\": \"nominal\"}, \"x\": {\"field\": \"HDI_fac\", \"type\": \"ordinal\"}, \"y\": {\"field\": \"Democracy\", \"type\": \"quantitative\"}}, \"title\": \"Box plot of Democracy by HDI Category\", \"width\": 300}], \"data\": {\"name\": \"data-8fd152c1d8364548d7278c2217b07ec5\"}, \"$schema\": \"https://vega.github.io/schema/vega-lite/v4.17.0.json\", \"datasets\": {\"data-8fd152c1d8364548d7278c2217b07ec5\": [{\"Country\": \"Afghanistan\", \"Depression\": 4.945168, \"Food\": 2040.0, \"Democracy\": 0.082, \"HDI_fac\": \"1_low\"}, {\"Country\": \"Albania\", \"Depression\": 2.4602032, \"Food\": 3360.0, \"Democracy\": 0.484, \"HDI_fac\": \"2_medium\"}, {\"Country\": \"Algeria\", \"Depression\": 4.1296806, \"Food\": 3322.0, \"Democracy\": 0.281, \"HDI_fac\": \"2_medium\"}, {\"Country\": \"Angola\", \"Depression\": 5.7441936, \"Food\": 2385.0, \"Democracy\": 0.344, \"HDI_fac\": \"1_low\"}, {\"Country\": \"Argentina\", \"Depression\": 2.4075098, \"Food\": 3307.0, \"Democracy\": 0.823, \"HDI_fac\": \"3_high\"}, {\"Country\": \"Armenia\", \"Depression\": 2.9836516, \"Food\": 2997.0, \"Democracy\": 0.645, \"HDI_fac\": \"2_medium\"}, {\"Country\": \"Australia\", \"Depression\": 4.382458, \"Food\": 3391.0, \"Democracy\": 0.858, \"HDI_fac\": \"3_high\"}, {\"Country\": \"Austria\", \"Depression\": 3.125201, \"Food\": 3695.0, \"Democracy\": 0.794, \"HDI_fac\": \"3_high\"}, {\"Country\": \"Azerbaijan\", \"Depression\": 2.7526312, \"Food\": 3149.0, \"Democracy\": 0.188, \"HDI_fac\": \"2_medium\"}, {\"Country\": \"Bangladesh\", \"Depression\": 4.6198096, \"Food\": 2563.0, \"Democracy\": 0.274, \"HDI_fac\": \"1_low\"}, {\"Country\": \"Barbados\", \"Depression\": 3.1782775, \"Food\": 2956.0, \"Democracy\": 0.782, \"HDI_fac\": \"2_medium\"}, {\"Country\": \"Belarus\", \"Depression\": 3.824539, \"Food\": 3270.0, \"Democracy\": 0.175, \"HDI_fac\": \"3_high\"}, {\"Country\": \"Belgium\", \"Depression\": 3.5420222, \"Food\": 3769.0, \"Democracy\": 0.887, \"HDI_fac\": \"3_high\"}, {\"Country\": \"Benin\", \"Depression\": 4.447893, \"Food\": 2755.0, \"Democracy\": 0.45, \"HDI_fac\": \"1_low\"}, {\"Country\": \"Bolivia\", \"Depression\": 3.3994322, \"Food\": 2412.0, \"Democracy\": 0.597, \"HDI_fac\": \"2_medium\"}, {\"Country\": \"Bosnia and Herzegovina\", \"Depression\": 2.7624497, \"Food\": 3307.0, \"Democracy\": 0.528, \"HDI_fac\": \"2_medium\"}, {\"Country\": \"Botswana\", \"Depression\": 4.2572603, \"Food\": 2342.0, \"Democracy\": 0.577, \"HDI_fac\": \"2_medium\"}, {\"Country\": \"Brazil\", \"Depression\": 3.8015563, \"Food\": 3301.0, \"Democracy\": 0.678, \"HDI_fac\": \"2_medium\"}, {\"Country\": \"Bulgaria\", \"Depression\": 2.6916606, \"Food\": 2854.0, \"Democracy\": 0.688, \"HDI_fac\": \"2_medium\"}, {\"Country\": \"Burkina Faso\", \"Depression\": 4.378302, \"Food\": 2737.0, \"Democracy\": 0.295, \"HDI_fac\": \"1_low\"}, {\"Country\": \"Cambodia\", \"Depression\": 2.9500995, \"Food\": 2492.0, \"Democracy\": 0.206, \"HDI_fac\": \"1_low\"}, {\"Country\": \"Cameroon\", \"Depression\": 4.6046395, \"Food\": 2733.0, \"Democracy\": 0.297, \"HDI_fac\": \"1_low\"}, {\"Country\": \"Canada\", \"Depression\": 3.2904658, \"Food\": 3566.0, \"Democracy\": 0.847, \"HDI_fac\": \"3_high\"}, {\"Country\": \"Cape Verde\", \"Depression\": 4.8429317, \"Food\": 2541.0, \"Democracy\": 0.75, \"HDI_fac\": \"1_low\"}, {\"Country\": \"Central African Republic\", \"Depression\": 5.9238467, \"Food\": 1786.0, \"Democracy\": 0.321, \"HDI_fac\": \"1_low\"}, {\"Country\": \"Chad\", \"Depression\": 5.1334114, \"Food\": 2115.0, \"Democracy\": 0.14, \"HDI_fac\": \"1_low\"}, {\"Country\": \"Chile\", \"Depression\": 3.6435125, \"Food\": 3029.0, \"Democracy\": 0.811, \"HDI_fac\": \"3_high\"}, {\"Country\": \"China\", \"Depression\": 2.7240157, \"Food\": 3206.0, \"Democracy\": 0.075, \"HDI_fac\": \"2_medium\"}, {\"Country\": \"Colombia\", \"Depression\": 2.2196279, \"Food\": 3114.0, \"Democracy\": 0.689, \"HDI_fac\": \"2_medium\"}, {\"Country\": \"Congo\", \"Depression\": 5.5257406, \"Food\": 2285.0, \"Democracy\": 0.234, \"HDI_fac\": \"1_low\"}, {\"Country\": \"Costa Rica\", \"Depression\": 3.2132857, \"Food\": 3029.0, \"Democracy\": 0.871, \"HDI_fac\": \"3_high\"}, {\"Country\": \"Cote d'Ivoire\", \"Depression\": 3.9350774, \"Food\": 2778.0, \"Democracy\": 0.437, \"HDI_fac\": \"1_low\"}, {\"Country\": \"Croatia\", \"Depression\": 3.0076077, \"Food\": 3074.0, \"Democracy\": 0.738, \"HDI_fac\": \"3_high\"}, {\"Country\": \"Cuba\", \"Depression\": 3.802294, \"Food\": 3344.0, \"Democracy\": 0.178, \"HDI_fac\": \"2_medium\"}, {\"Country\": \"Cyprus\", \"Depression\": 3.1127021, \"Food\": 3019.0, \"Democracy\": 0.777, \"HDI_fac\": \"3_high\"}, {\"Country\": \"Czechia\", \"Depression\": 2.878852, \"Food\": 3277.0, \"Democracy\": 0.853, \"HDI_fac\": \"3_high\"}, {\"Country\": \"Denmark\", \"Depression\": 3.4828994, \"Food\": 3401.0, \"Democracy\": 0.916, \"HDI_fac\": \"3_high\"}, {\"Country\": \"Djibouti\", \"Depression\": 4.4612656, \"Food\": 2694.0, \"Democracy\": 0.255, \"HDI_fac\": \"1_low\"}, {\"Country\": \"Dominican Republic\", \"Depression\": 3.8231027, \"Food\": 2892.0, \"Democracy\": 0.679, \"HDI_fac\": \"2_medium\"}, {\"Country\": \"East Timor\", \"Depression\": 2.804642, \"Food\": 2287.0, \"Democracy\": 0.695, \"HDI_fac\": \"1_low\"}, {\"Country\": \"Ecuador\", \"Depression\": 3.3306973, \"Food\": 2606.0, \"Democracy\": 0.657, \"HDI_fac\": \"2_medium\"}, {\"Country\": \"Egypt\", \"Depression\": 3.9397578, \"Food\": 3292.0, \"Democracy\": 0.175, \"HDI_fac\": \"2_medium\"}, {\"Country\": \"El Salvador\", \"Depression\": 3.4073691, \"Food\": 2696.0, \"Democracy\": 0.378, \"HDI_fac\": \"2_medium\"}, {\"Country\": \"Estonia\", \"Depression\": 3.6936426, \"Food\": 3247.0, \"Democracy\": 0.893, \"HDI_fac\": \"3_high\"}, {\"Country\": \"Eswatini\", \"Depression\": 4.4255295, \"Food\": 2426.0, \"Democracy\": 0.12, \"HDI_fac\": \"1_low\"}, {\"Country\": \"Ethiopia\", \"Depression\": 4.64972, \"Food\": 2338.0, \"Democracy\": 0.319, \"HDI_fac\": \"1_low\"}, {\"Country\": \"Fiji\", \"Depression\": 2.917755, \"Food\": 2781.0, \"Democracy\": 0.406, \"HDI_fac\": \"2_medium\"}, {\"Country\": \"Finland\", \"Depression\": 4.139295, \"Food\": 3343.0, \"Democracy\": 0.861, \"HDI_fac\": \"3_high\"}, {\"Country\": \"France\", \"Depression\": 3.835741, \"Food\": 3502.0, \"Democracy\": 0.874, \"HDI_fac\": \"3_high\"}, {\"Country\": \"Gabon\", \"Depression\": 5.5459714, \"Food\": 2633.0, \"Democracy\": 0.369, \"HDI_fac\": \"2_medium\"}, {\"Country\": \"Gambia\", \"Depression\": 5.5018787, \"Food\": 2533.0, \"Democracy\": 0.62, \"HDI_fac\": \"1_low\"}, {\"Country\": \"Georgia\", \"Depression\": 3.3233132, \"Food\": 2835.0, \"Democracy\": 0.647, \"HDI_fac\": \"2_medium\"}, {\"Country\": \"Germany\", \"Depression\": 3.3767943, \"Food\": 3554.0, \"Democracy\": 0.857, \"HDI_fac\": \"3_high\"}, {\"Country\": \"Ghana\", \"Depression\": 4.3620286, \"Food\": 3035.0, \"Democracy\": 0.633, \"HDI_fac\": \"1_low\"}, {\"Country\": \"Greece\", \"Depression\": 5.0422506, \"Food\": 3382.0, \"Democracy\": 0.783, \"HDI_fac\": \"3_high\"}, {\"Country\": \"Guatemala\", \"Depression\": 3.6679313, \"Food\": 2551.0, \"Democracy\": 0.435, \"HDI_fac\": \"1_low\"}, {\"Country\": \"Guinea\", \"Depression\": 4.3731165, \"Food\": 2746.0, \"Democracy\": 0.191, \"HDI_fac\": \"1_low\"}, {\"Country\": \"Guinea-Bissau\", \"Depression\": 4.4942803, \"Food\": 2229.0, \"Democracy\": 0.371, \"HDI_fac\": \"1_low\"}, {\"Country\": \"Guyana\", \"Depression\": 4.927692, \"Food\": 2913.0, \"Democracy\": 0.535, \"HDI_fac\": \"2_medium\"}, {\"Country\": \"Haiti\", \"Depression\": 3.6351175, \"Food\": 2121.0, \"Democracy\": 0.248, \"HDI_fac\": \"1_low\"}, {\"Country\": \"Honduras\", \"Depression\": 3.1551142, \"Food\": 2673.0, \"Democracy\": 0.556, \"HDI_fac\": \"1_low\"}, {\"Country\": \"Hungary\", \"Depression\": 2.8233702, \"Food\": 3316.0, \"Democracy\": 0.445, \"HDI_fac\": \"3_high\"}, {\"Country\": \"Iceland\", \"Depression\": 2.9365938, \"Food\": 3654.0, \"Democracy\": 0.819, \"HDI_fac\": \"3_high\"}, {\"Country\": \"India\", \"Depression\": 3.6598387, \"Food\": 2533.0, \"Democracy\": 0.399, \"HDI_fac\": \"1_low\"}, {\"Country\": \"Indonesia\", \"Depression\": 2.4184713, \"Food\": 2884.0, \"Democracy\": 0.574, \"HDI_fac\": \"2_medium\"}, {\"Country\": \"Iran\", \"Depression\": 4.860692, \"Food\": 3087.0, \"Democracy\": 0.182, \"HDI_fac\": \"2_medium\"}, {\"Country\": \"Iraq\", \"Depression\": 3.9326482, \"Food\": 2608.0, \"Democracy\": 0.362, \"HDI_fac\": \"2_medium\"}, {\"Country\": \"Ireland\", \"Depression\": 4.2169313, \"Food\": 3885.0, \"Democracy\": 0.889, \"HDI_fac\": \"3_high\"}, {\"Country\": \"Israel\", \"Depression\": 4.127255, \"Food\": 3528.0, \"Democracy\": 0.723, \"HDI_fac\": \"3_high\"}, {\"Country\": \"Italy\", \"Depression\": 3.561658, \"Food\": 3503.0, \"Democracy\": 0.844, \"HDI_fac\": \"3_high\"}, {\"Country\": \"Jamaica\", \"Depression\": 3.0646706, \"Food\": 2792.0, \"Democracy\": 0.797, \"HDI_fac\": \"2_medium\"}, {\"Country\": \"Japan\", \"Depression\": 2.1032803, \"Food\": 2705.0, \"Democracy\": 0.833, \"HDI_fac\": \"3_high\"}, {\"Country\": \"Jordan\", \"Depression\": 4.15211, \"Food\": 2732.0, \"Democracy\": 0.259, \"HDI_fac\": \"2_medium\"}, {\"Country\": \"Kazakhstan\", \"Depression\": 3.4412057, \"Food\": 3067.0, \"Democracy\": 0.277, \"HDI_fac\": \"3_high\"}, {\"Country\": \"Kenya\", \"Depression\": 4.723163, \"Food\": 2197.0, \"Democracy\": 0.522, \"HDI_fac\": \"1_low\"}, {\"Country\": \"Kuwait\", \"Depression\": 4.0603004, \"Food\": 3471.0, \"Democracy\": 0.317, \"HDI_fac\": \"3_high\"}, {\"Country\": \"Kyrgyzstan\", \"Depression\": 3.3816984, \"Food\": 2729.0, \"Democracy\": 0.382, \"HDI_fac\": \"2_medium\"}, {\"Country\": \"Laos\", \"Depression\": 2.7468913, \"Food\": 2758.0, \"Democracy\": 0.134, \"HDI_fac\": \"1_low\"}, {\"Country\": \"Latvia\", \"Depression\": 3.7478287, \"Food\": 3229.0, \"Democracy\": 0.821, \"HDI_fac\": \"3_high\"}, {\"Country\": \"Lebanon\", \"Depression\": 4.652712, \"Food\": 2857.0, \"Democracy\": 0.426, \"HDI_fac\": \"2_medium\"}, {\"Country\": \"Lesotho\", \"Depression\": 5.511564, \"Food\": 2323.0, \"Democracy\": 0.641, \"HDI_fac\": \"1_low\"}, {\"Country\": \"Liberia\", \"Depression\": 4.556289, \"Food\": 2168.0, \"Democracy\": 0.634, \"HDI_fac\": \"1_low\"}, {\"Country\": \"Lithuania\", \"Depression\": 3.9911947, \"Food\": 3411.0, \"Democracy\": 0.797, \"HDI_fac\": \"3_high\"}, {\"Country\": \"Luxembourg\", \"Depression\": 3.2193074, \"Food\": 3465.0, \"Democracy\": 0.881, \"HDI_fac\": \"3_high\"}, {\"Country\": \"Madagascar\", \"Depression\": 4.737187, \"Food\": 1938.0, \"Democracy\": 0.495, \"HDI_fac\": \"1_low\"}, {\"Country\": \"Malawi\", \"Depression\": 4.100136, \"Food\": 2392.0, \"Democracy\": 0.642, \"HDI_fac\": \"1_low\"}, {\"Country\": \"Malaysia\", \"Depression\": 3.6630948, \"Food\": 2845.0, \"Democracy\": 0.438, \"HDI_fac\": \"2_medium\"}, {\"Country\": \"Maldives\", \"Depression\": 2.9122725, \"Food\": 2235.0, \"Democracy\": 0.583, \"HDI_fac\": \"2_medium\"}, {\"Country\": \"Mali\", \"Depression\": 3.5413845, \"Food\": 2873.0, \"Democracy\": 0.235, \"HDI_fac\": \"1_low\"}, {\"Country\": \"Malta\", \"Depression\": 3.1311812, \"Food\": 3420.0, \"Democracy\": 0.782, \"HDI_fac\": \"3_high\"}, {\"Country\": \"Mauritania\", \"Depression\": 3.6558447, \"Food\": 2877.0, \"Democracy\": 0.395, \"HDI_fac\": \"1_low\"}, {\"Country\": \"Mauritius\", \"Depression\": 3.8047628, \"Food\": 3051.0, \"Democracy\": 0.521, \"HDI_fac\": \"2_medium\"}, {\"Country\": \"Mexico\", \"Depression\": 3.5358298, \"Food\": 3157.0, \"Democracy\": 0.598, \"HDI_fac\": \"2_medium\"}, {\"Country\": \"Moldova\", \"Depression\": 3.22074, \"Food\": 2383.0, \"Democracy\": 0.752, \"HDI_fac\": \"2_medium\"}, {\"Country\": \"Mongolia\", \"Depression\": 3.9632094, \"Food\": 2579.0, \"Democracy\": 0.566, \"HDI_fac\": \"2_medium\"}, {\"Country\": \"Montenegro\", \"Depression\": 2.8178656, \"Food\": 3500.0, \"Democracy\": 0.501, \"HDI_fac\": \"3_high\"}, {\"Country\": \"Morocco\", \"Depression\": 5.07854, \"Food\": 3412.0, \"Democracy\": 0.264, \"HDI_fac\": \"2_medium\"}, {\"Country\": \"Mozambique\", \"Depression\": 4.992671, \"Food\": 2103.0, \"Democracy\": 0.362, \"HDI_fac\": \"1_low\"}, {\"Country\": \"Myanmar\", \"Depression\": 2.1933033, \"Food\": 2673.0, \"Democracy\": 0.093, \"HDI_fac\": \"1_low\"}, {\"Country\": \"Namibia\", \"Depression\": 3.6164615, \"Food\": 2469.0, \"Democracy\": 0.634, \"HDI_fac\": \"1_low\"}, {\"Country\": \"Nepal\", \"Depression\": 4.8975983, \"Food\": 2769.0, \"Democracy\": 0.646, \"HDI_fac\": \"1_low\"}, {\"Country\": \"Netherlands\", \"Depression\": 3.5344012, \"Food\": 3297.0, \"Democracy\": 0.852, \"HDI_fac\": \"3_high\"}, {\"Country\": \"New Zealand\", \"Depression\": 3.7238638, \"Food\": 3191.0, \"Democracy\": 0.889, \"HDI_fac\": \"3_high\"}, {\"Country\": \"Nicaragua\", \"Depression\": 3.2548654, \"Food\": 2582.0, \"Democracy\": 0.177, \"HDI_fac\": \"1_low\"}, {\"Country\": \"Niger\", \"Depression\": 4.235215, \"Food\": 2601.0, \"Democracy\": 0.511, \"HDI_fac\": \"1_low\"}, {\"Country\": \"Nigeria\", \"Depression\": 3.8173978, \"Food\": 2572.0, \"Democracy\": 0.49, \"HDI_fac\": \"1_low\"}, {\"Country\": \"North Macedonia\", \"Depression\": 2.570906, \"Food\": 3072.0, \"Democracy\": 0.551, \"HDI_fac\": \"2_medium\"}, {\"Country\": \"Norway\", \"Depression\": 3.2382026, \"Food\": 3371.0, \"Democracy\": 0.899, \"HDI_fac\": \"3_high\"}, {\"Country\": \"Oman\", \"Depression\": 3.962998, \"Food\": 2940.0, \"Democracy\": 0.17, \"HDI_fac\": \"3_high\"}, {\"Country\": \"Pakistan\", \"Depression\": 3.9425256, \"Food\": 2486.0, \"Democracy\": 0.388, \"HDI_fac\": \"1_low\"}, {\"Country\": \"Panama\", \"Depression\": 2.9369144, \"Food\": 2851.0, \"Democracy\": 0.729, \"HDI_fac\": \"3_high\"}, {\"Country\": \"Paraguay\", \"Depression\": 3.6945765, \"Food\": 2768.0, \"Democracy\": 0.581, \"HDI_fac\": \"2_medium\"}, {\"Country\": \"Peru\", \"Depression\": 2.2116694, \"Food\": 2775.0, \"Democracy\": 0.744, \"HDI_fac\": \"2_medium\"}, {\"Country\": \"Philippines\", \"Depression\": 2.779254, \"Food\": 2662.0, \"Democracy\": 0.431, \"HDI_fac\": \"2_medium\"}, {\"Country\": \"Poland\", \"Depression\": 2.2779574, \"Food\": 3537.0, \"Democracy\": 0.574, \"HDI_fac\": \"3_high\"}, {\"Country\": \"Portugal\", \"Depression\": 4.3940663, \"Food\": 3480.0, \"Democracy\": 0.846, \"HDI_fac\": \"3_high\"}, {\"Country\": \"Romania\", \"Depression\": 2.6501622, \"Food\": 3581.0, \"Democracy\": 0.689, \"HDI_fac\": \"3_high\"}, {\"Country\": \"Russia\", \"Depression\": 3.0799155, \"Food\": 3345.0, \"Democracy\": 0.209, \"HDI_fac\": \"3_high\"}, {\"Country\": \"Rwanda\", \"Depression\": 5.0970206, \"Food\": 2188.0, \"Democracy\": 0.228, \"HDI_fac\": \"1_low\"}, {\"Country\": \"Sao Tome and Principe\", \"Depression\": 3.7094643, \"Food\": 2446.0, \"Democracy\": 0.684, \"HDI_fac\": \"1_low\"}, {\"Country\": \"Saudi Arabia\", \"Depression\": 4.216069, \"Food\": 3307.0, \"Democracy\": 0.016, \"HDI_fac\": \"3_high\"}, {\"Country\": \"Senegal\", \"Depression\": 4.0294, \"Food\": 2545.0, \"Democracy\": 0.69, \"HDI_fac\": \"1_low\"}, {\"Country\": \"Serbia\", \"Depression\": 2.814907, \"Food\": 2828.0, \"Democracy\": 0.361, \"HDI_fac\": \"2_medium\"}, {\"Country\": \"Sierra Leone\", \"Depression\": 4.392157, \"Food\": 2369.0, \"Democracy\": 0.559, \"HDI_fac\": \"1_low\"}, {\"Country\": \"Slovakia\", \"Depression\": 2.695262, \"Food\": 2871.0, \"Democracy\": 0.851, \"HDI_fac\": \"3_high\"}, {\"Country\": \"Slovenia\", \"Depression\": 3.1152232, \"Food\": 3191.0, \"Democracy\": 0.799, \"HDI_fac\": \"3_high\"}, {\"Country\": \"Solomon Islands\", \"Depression\": 3.0039446, \"Food\": 2415.0, \"Democracy\": 0.618, \"HDI_fac\": \"1_low\"}, {\"Country\": \"South Africa\", \"Depression\": 4.298678, \"Food\": 2899.0, \"Democracy\": 0.692, \"HDI_fac\": \"2_medium\"}, {\"Country\": \"South Korea\", \"Depression\": 2.091181, \"Food\": 3420.0, \"Democracy\": 0.812, \"HDI_fac\": \"3_high\"}, {\"Country\": \"Spain\", \"Depression\": 4.704455, \"Food\": 3322.0, \"Democracy\": 0.873, \"HDI_fac\": \"3_high\"}, {\"Country\": \"Sri Lanka\", \"Depression\": 2.8662298, \"Food\": 2737.0, \"Democracy\": 0.575, \"HDI_fac\": \"2_medium\"}, {\"Country\": \"Sudan\", \"Depression\": 4.4230967, \"Food\": 2578.0, \"Democracy\": 0.169, \"HDI_fac\": \"1_low\"}, {\"Country\": \"Suriname\", \"Depression\": 4.6881685, \"Food\": 2698.0, \"Democracy\": 0.77, \"HDI_fac\": \"2_medium\"}, {\"Country\": \"Sweden\", \"Depression\": 4.116486, \"Food\": 3184.0, \"Democracy\": 0.899, \"HDI_fac\": \"3_high\"}, {\"Country\": \"Switzerland\", \"Depression\": 3.705447, \"Food\": 3354.0, \"Democracy\": 0.898, \"HDI_fac\": \"3_high\"}, {\"Country\": \"Tajikistan\", \"Depression\": 2.8172803, \"Food\": 2109.0, \"Democracy\": 0.175, \"HDI_fac\": \"2_medium\"}, {\"Country\": \"Tanzania\", \"Depression\": 4.651242, \"Food\": 2373.0, \"Democracy\": 0.398, \"HDI_fac\": \"1_low\"}, {\"Country\": \"Thailand\", \"Depression\": 2.847038, \"Food\": 2804.0, \"Democracy\": 0.206, \"HDI_fac\": \"2_medium\"}, {\"Country\": \"Togo\", \"Depression\": 4.5008154, \"Food\": 2443.0, \"Democracy\": 0.426, \"HDI_fac\": \"1_low\"}, {\"Country\": \"Trinidad and Tobago\", \"Depression\": 3.82637, \"Food\": 2991.0, \"Democracy\": 0.784, \"HDI_fac\": \"3_high\"}, {\"Country\": \"Tunisia\", \"Depression\": 5.049405, \"Food\": 3450.0, \"Democracy\": 0.307, \"HDI_fac\": \"2_medium\"}, {\"Country\": \"Turkey\", \"Depression\": 3.9422681, \"Food\": 3711.0, \"Democracy\": 0.276, \"HDI_fac\": \"3_high\"}, {\"Country\": \"Turkmenistan\", \"Depression\": 3.0497415, \"Food\": 2830.0, \"Democracy\": 0.149, \"HDI_fac\": \"2_medium\"}, {\"Country\": \"Uganda\", \"Depression\": 6.5845194, \"Food\": 1981.0, \"Democracy\": 0.285, \"HDI_fac\": \"1_low\"}, {\"Country\": \"Ukraine\", \"Depression\": 3.8973033, \"Food\": 3102.0, \"Democracy\": 0.406, \"HDI_fac\": \"2_medium\"}, {\"Country\": \"United Arab Emirates\", \"Depression\": 3.5784907, \"Food\": 3314.0, \"Democracy\": 0.101, \"HDI_fac\": \"3_high\"}, {\"Country\": \"United Kingdom\", \"Depression\": 4.0975676, \"Food\": 3344.0, \"Democracy\": 0.843, \"HDI_fac\": \"3_high\"}, {\"Country\": \"United States\", \"Depression\": 4.375998, \"Food\": 3782.0, \"Democracy\": 0.819, \"HDI_fac\": \"3_high\"}, {\"Country\": \"Uruguay\", \"Depression\": 2.840908, \"Food\": 3202.0, \"Democracy\": 0.804, \"HDI_fac\": \"3_high\"}, {\"Country\": \"Uzbekistan\", \"Depression\": 3.164448, \"Food\": 3011.0, \"Democracy\": 0.221, \"HDI_fac\": \"2_medium\"}, {\"Country\": \"Vanuatu\", \"Depression\": 2.9744234, \"Food\": 2607.0, \"Democracy\": 0.771, \"HDI_fac\": \"1_low\"}, {\"Country\": \"Venezuela\", \"Depression\": 3.2147944, \"Food\": 2120.0, \"Democracy\": 0.214, \"HDI_fac\": \"2_medium\"}, {\"Country\": \"Vietnam\", \"Depression\": 2.473061, \"Food\": 3025.0, \"Democracy\": 0.157, \"HDI_fac\": \"2_medium\"}, {\"Country\": \"World\", \"Depression\": 3.4400527, \"Food\": 2928.399523487201, \"Democracy\": 0.497, \"HDI_fac\": \"2_medium\"}, {\"Country\": \"Yemen\", \"Depression\": 4.8953676, \"Food\": 2154.0, \"Democracy\": 0.123, \"HDI_fac\": \"1_low\"}, {\"Country\": \"Zambia\", \"Depression\": 4.2194896, \"Food\": 2002.0, \"Democracy\": 0.518, \"HDI_fac\": \"1_low\"}, {\"Country\": \"Zimbabwe\", \"Depression\": 3.3954756, \"Food\": 1908.0, \"Democracy\": 0.285, \"HDI_fac\": \"1_low\"}]}}, {\"mode\": \"vega-lite\"});\n",
       "</script>"
      ]
     },
     "metadata": {},
     "execution_count": 22
    }
   ],
   "metadata": {}
  },
  {
   "cell_type": "code",
   "execution_count": 23,
   "source": [
    "# attempt at a 4 variable plot (not highly recommended)\n",
    "alt.Chart(merge_cat).mark_circle().encode(\n",
    "    x='Depression:Q',\n",
    "    y='Food:Q',\n",
    "    color='HDI_fac:N',\n",
    "    size='Democracy:Q'\n",
    ").facet(\n",
    "    column='HDI_fac:O'\n",
    ").properties(\n",
    "    title='Scatter plot of Depression, Food, and Democracy by HDI Category'\n",
    ")\n"
   ],
   "outputs": [
    {
     "output_type": "execute_result",
     "data": {
      "text/plain": [
       "alt.FacetChart(...)"
      ],
      "text/html": [
       "\n",
       "<div id=\"altair-viz-55d006da42be43289d8e9a3571b7de13\"></div>\n",
       "<script type=\"text/javascript\">\n",
       "  var VEGA_DEBUG = (typeof VEGA_DEBUG == \"undefined\") ? {} : VEGA_DEBUG;\n",
       "  (function(spec, embedOpt){\n",
       "    let outputDiv = document.currentScript.previousElementSibling;\n",
       "    if (outputDiv.id !== \"altair-viz-55d006da42be43289d8e9a3571b7de13\") {\n",
       "      outputDiv = document.getElementById(\"altair-viz-55d006da42be43289d8e9a3571b7de13\");\n",
       "    }\n",
       "    const paths = {\n",
       "      \"vega\": \"https://cdn.jsdelivr.net/npm//vega@5?noext\",\n",
       "      \"vega-lib\": \"https://cdn.jsdelivr.net/npm//vega-lib?noext\",\n",
       "      \"vega-lite\": \"https://cdn.jsdelivr.net/npm//vega-lite@4.17.0?noext\",\n",
       "      \"vega-embed\": \"https://cdn.jsdelivr.net/npm//vega-embed@6?noext\",\n",
       "    };\n",
       "\n",
       "    function maybeLoadScript(lib, version) {\n",
       "      var key = `${lib.replace(\"-\", \"\")}_version`;\n",
       "      return (VEGA_DEBUG[key] == version) ?\n",
       "        Promise.resolve(paths[lib]) :\n",
       "        new Promise(function(resolve, reject) {\n",
       "          var s = document.createElement('script');\n",
       "          document.getElementsByTagName(\"head\")[0].appendChild(s);\n",
       "          s.async = true;\n",
       "          s.onload = () => {\n",
       "            VEGA_DEBUG[key] = version;\n",
       "            return resolve(paths[lib]);\n",
       "          };\n",
       "          s.onerror = () => reject(`Error loading script: ${paths[lib]}`);\n",
       "          s.src = paths[lib];\n",
       "        });\n",
       "    }\n",
       "\n",
       "    function showError(err) {\n",
       "      outputDiv.innerHTML = `<div class=\"error\" style=\"color:red;\">${err}</div>`;\n",
       "      throw err;\n",
       "    }\n",
       "\n",
       "    function displayChart(vegaEmbed) {\n",
       "      vegaEmbed(outputDiv, spec, embedOpt)\n",
       "        .catch(err => showError(`Javascript Error: ${err.message}<br>This usually means there's a typo in your chart specification. See the javascript console for the full traceback.`));\n",
       "    }\n",
       "\n",
       "    if(typeof define === \"function\" && define.amd) {\n",
       "      requirejs.config({paths});\n",
       "      require([\"vega-embed\"], displayChart, err => showError(`Error loading script: ${err.message}`));\n",
       "    } else {\n",
       "      maybeLoadScript(\"vega\", \"5\")\n",
       "        .then(() => maybeLoadScript(\"vega-lite\", \"4.17.0\"))\n",
       "        .then(() => maybeLoadScript(\"vega-embed\", \"6\"))\n",
       "        .catch(showError)\n",
       "        .then(() => displayChart(vegaEmbed));\n",
       "    }\n",
       "  })({\"config\": {\"view\": {\"continuousWidth\": 400, \"continuousHeight\": 300}}, \"data\": {\"name\": \"data-8fd152c1d8364548d7278c2217b07ec5\"}, \"facet\": {\"column\": {\"field\": \"HDI_fac\", \"type\": \"ordinal\"}}, \"spec\": {\"mark\": \"circle\", \"encoding\": {\"color\": {\"field\": \"HDI_fac\", \"type\": \"nominal\"}, \"size\": {\"field\": \"Democracy\", \"type\": \"quantitative\"}, \"x\": {\"field\": \"Depression\", \"type\": \"quantitative\"}, \"y\": {\"field\": \"Food\", \"type\": \"quantitative\"}}}, \"title\": \"Scatter plot of Depression, Food, and Democracy by HDI Category\", \"$schema\": \"https://vega.github.io/schema/vega-lite/v4.17.0.json\", \"datasets\": {\"data-8fd152c1d8364548d7278c2217b07ec5\": [{\"Country\": \"Afghanistan\", \"Depression\": 4.945168, \"Food\": 2040.0, \"Democracy\": 0.082, \"HDI_fac\": \"1_low\"}, {\"Country\": \"Albania\", \"Depression\": 2.4602032, \"Food\": 3360.0, \"Democracy\": 0.484, \"HDI_fac\": \"2_medium\"}, {\"Country\": \"Algeria\", \"Depression\": 4.1296806, \"Food\": 3322.0, \"Democracy\": 0.281, \"HDI_fac\": \"2_medium\"}, {\"Country\": \"Angola\", \"Depression\": 5.7441936, \"Food\": 2385.0, \"Democracy\": 0.344, \"HDI_fac\": \"1_low\"}, {\"Country\": \"Argentina\", \"Depression\": 2.4075098, \"Food\": 3307.0, \"Democracy\": 0.823, \"HDI_fac\": \"3_high\"}, {\"Country\": \"Armenia\", \"Depression\": 2.9836516, \"Food\": 2997.0, \"Democracy\": 0.645, \"HDI_fac\": \"2_medium\"}, {\"Country\": \"Australia\", \"Depression\": 4.382458, \"Food\": 3391.0, \"Democracy\": 0.858, \"HDI_fac\": \"3_high\"}, {\"Country\": \"Austria\", \"Depression\": 3.125201, \"Food\": 3695.0, \"Democracy\": 0.794, \"HDI_fac\": \"3_high\"}, {\"Country\": \"Azerbaijan\", \"Depression\": 2.7526312, \"Food\": 3149.0, \"Democracy\": 0.188, \"HDI_fac\": \"2_medium\"}, {\"Country\": \"Bangladesh\", \"Depression\": 4.6198096, \"Food\": 2563.0, \"Democracy\": 0.274, \"HDI_fac\": \"1_low\"}, {\"Country\": \"Barbados\", \"Depression\": 3.1782775, \"Food\": 2956.0, \"Democracy\": 0.782, \"HDI_fac\": \"2_medium\"}, {\"Country\": \"Belarus\", \"Depression\": 3.824539, \"Food\": 3270.0, \"Democracy\": 0.175, \"HDI_fac\": \"3_high\"}, {\"Country\": \"Belgium\", \"Depression\": 3.5420222, \"Food\": 3769.0, \"Democracy\": 0.887, \"HDI_fac\": \"3_high\"}, {\"Country\": \"Benin\", \"Depression\": 4.447893, \"Food\": 2755.0, \"Democracy\": 0.45, \"HDI_fac\": \"1_low\"}, {\"Country\": \"Bolivia\", \"Depression\": 3.3994322, \"Food\": 2412.0, \"Democracy\": 0.597, \"HDI_fac\": \"2_medium\"}, {\"Country\": \"Bosnia and Herzegovina\", \"Depression\": 2.7624497, \"Food\": 3307.0, \"Democracy\": 0.528, \"HDI_fac\": \"2_medium\"}, {\"Country\": \"Botswana\", \"Depression\": 4.2572603, \"Food\": 2342.0, \"Democracy\": 0.577, \"HDI_fac\": \"2_medium\"}, {\"Country\": \"Brazil\", \"Depression\": 3.8015563, \"Food\": 3301.0, \"Democracy\": 0.678, \"HDI_fac\": \"2_medium\"}, {\"Country\": \"Bulgaria\", \"Depression\": 2.6916606, \"Food\": 2854.0, \"Democracy\": 0.688, \"HDI_fac\": \"2_medium\"}, {\"Country\": \"Burkina Faso\", \"Depression\": 4.378302, \"Food\": 2737.0, \"Democracy\": 0.295, \"HDI_fac\": \"1_low\"}, {\"Country\": \"Cambodia\", \"Depression\": 2.9500995, \"Food\": 2492.0, \"Democracy\": 0.206, \"HDI_fac\": \"1_low\"}, {\"Country\": \"Cameroon\", \"Depression\": 4.6046395, \"Food\": 2733.0, \"Democracy\": 0.297, \"HDI_fac\": \"1_low\"}, {\"Country\": \"Canada\", \"Depression\": 3.2904658, \"Food\": 3566.0, \"Democracy\": 0.847, \"HDI_fac\": \"3_high\"}, {\"Country\": \"Cape Verde\", \"Depression\": 4.8429317, \"Food\": 2541.0, \"Democracy\": 0.75, \"HDI_fac\": \"1_low\"}, {\"Country\": \"Central African Republic\", \"Depression\": 5.9238467, \"Food\": 1786.0, \"Democracy\": 0.321, \"HDI_fac\": \"1_low\"}, {\"Country\": \"Chad\", \"Depression\": 5.1334114, \"Food\": 2115.0, \"Democracy\": 0.14, \"HDI_fac\": \"1_low\"}, {\"Country\": \"Chile\", \"Depression\": 3.6435125, \"Food\": 3029.0, \"Democracy\": 0.811, \"HDI_fac\": \"3_high\"}, {\"Country\": \"China\", \"Depression\": 2.7240157, \"Food\": 3206.0, \"Democracy\": 0.075, \"HDI_fac\": \"2_medium\"}, {\"Country\": \"Colombia\", \"Depression\": 2.2196279, \"Food\": 3114.0, \"Democracy\": 0.689, \"HDI_fac\": \"2_medium\"}, {\"Country\": \"Congo\", \"Depression\": 5.5257406, \"Food\": 2285.0, \"Democracy\": 0.234, \"HDI_fac\": \"1_low\"}, {\"Country\": \"Costa Rica\", \"Depression\": 3.2132857, \"Food\": 3029.0, \"Democracy\": 0.871, \"HDI_fac\": \"3_high\"}, {\"Country\": \"Cote d'Ivoire\", \"Depression\": 3.9350774, \"Food\": 2778.0, \"Democracy\": 0.437, \"HDI_fac\": \"1_low\"}, {\"Country\": \"Croatia\", \"Depression\": 3.0076077, \"Food\": 3074.0, \"Democracy\": 0.738, \"HDI_fac\": \"3_high\"}, {\"Country\": \"Cuba\", \"Depression\": 3.802294, \"Food\": 3344.0, \"Democracy\": 0.178, \"HDI_fac\": \"2_medium\"}, {\"Country\": \"Cyprus\", \"Depression\": 3.1127021, \"Food\": 3019.0, \"Democracy\": 0.777, \"HDI_fac\": \"3_high\"}, {\"Country\": \"Czechia\", \"Depression\": 2.878852, \"Food\": 3277.0, \"Democracy\": 0.853, \"HDI_fac\": \"3_high\"}, {\"Country\": \"Denmark\", \"Depression\": 3.4828994, \"Food\": 3401.0, \"Democracy\": 0.916, \"HDI_fac\": \"3_high\"}, {\"Country\": \"Djibouti\", \"Depression\": 4.4612656, \"Food\": 2694.0, \"Democracy\": 0.255, \"HDI_fac\": \"1_low\"}, {\"Country\": \"Dominican Republic\", \"Depression\": 3.8231027, \"Food\": 2892.0, \"Democracy\": 0.679, \"HDI_fac\": \"2_medium\"}, {\"Country\": \"East Timor\", \"Depression\": 2.804642, \"Food\": 2287.0, \"Democracy\": 0.695, \"HDI_fac\": \"1_low\"}, {\"Country\": \"Ecuador\", \"Depression\": 3.3306973, \"Food\": 2606.0, \"Democracy\": 0.657, \"HDI_fac\": \"2_medium\"}, {\"Country\": \"Egypt\", \"Depression\": 3.9397578, \"Food\": 3292.0, \"Democracy\": 0.175, \"HDI_fac\": \"2_medium\"}, {\"Country\": \"El Salvador\", \"Depression\": 3.4073691, \"Food\": 2696.0, \"Democracy\": 0.378, \"HDI_fac\": \"2_medium\"}, {\"Country\": \"Estonia\", \"Depression\": 3.6936426, \"Food\": 3247.0, \"Democracy\": 0.893, \"HDI_fac\": \"3_high\"}, {\"Country\": \"Eswatini\", \"Depression\": 4.4255295, \"Food\": 2426.0, \"Democracy\": 0.12, \"HDI_fac\": \"1_low\"}, {\"Country\": \"Ethiopia\", \"Depression\": 4.64972, \"Food\": 2338.0, \"Democracy\": 0.319, \"HDI_fac\": \"1_low\"}, {\"Country\": \"Fiji\", \"Depression\": 2.917755, \"Food\": 2781.0, \"Democracy\": 0.406, \"HDI_fac\": \"2_medium\"}, {\"Country\": \"Finland\", \"Depression\": 4.139295, \"Food\": 3343.0, \"Democracy\": 0.861, \"HDI_fac\": \"3_high\"}, {\"Country\": \"France\", \"Depression\": 3.835741, \"Food\": 3502.0, \"Democracy\": 0.874, \"HDI_fac\": \"3_high\"}, {\"Country\": \"Gabon\", \"Depression\": 5.5459714, \"Food\": 2633.0, \"Democracy\": 0.369, \"HDI_fac\": \"2_medium\"}, {\"Country\": \"Gambia\", \"Depression\": 5.5018787, \"Food\": 2533.0, \"Democracy\": 0.62, \"HDI_fac\": \"1_low\"}, {\"Country\": \"Georgia\", \"Depression\": 3.3233132, \"Food\": 2835.0, \"Democracy\": 0.647, \"HDI_fac\": \"2_medium\"}, {\"Country\": \"Germany\", \"Depression\": 3.3767943, \"Food\": 3554.0, \"Democracy\": 0.857, \"HDI_fac\": \"3_high\"}, {\"Country\": \"Ghana\", \"Depression\": 4.3620286, \"Food\": 3035.0, \"Democracy\": 0.633, \"HDI_fac\": \"1_low\"}, {\"Country\": \"Greece\", \"Depression\": 5.0422506, \"Food\": 3382.0, \"Democracy\": 0.783, \"HDI_fac\": \"3_high\"}, {\"Country\": \"Guatemala\", \"Depression\": 3.6679313, \"Food\": 2551.0, \"Democracy\": 0.435, \"HDI_fac\": \"1_low\"}, {\"Country\": \"Guinea\", \"Depression\": 4.3731165, \"Food\": 2746.0, \"Democracy\": 0.191, \"HDI_fac\": \"1_low\"}, {\"Country\": \"Guinea-Bissau\", \"Depression\": 4.4942803, \"Food\": 2229.0, \"Democracy\": 0.371, \"HDI_fac\": \"1_low\"}, {\"Country\": \"Guyana\", \"Depression\": 4.927692, \"Food\": 2913.0, \"Democracy\": 0.535, \"HDI_fac\": \"2_medium\"}, {\"Country\": \"Haiti\", \"Depression\": 3.6351175, \"Food\": 2121.0, \"Democracy\": 0.248, \"HDI_fac\": \"1_low\"}, {\"Country\": \"Honduras\", \"Depression\": 3.1551142, \"Food\": 2673.0, \"Democracy\": 0.556, \"HDI_fac\": \"1_low\"}, {\"Country\": \"Hungary\", \"Depression\": 2.8233702, \"Food\": 3316.0, \"Democracy\": 0.445, \"HDI_fac\": \"3_high\"}, {\"Country\": \"Iceland\", \"Depression\": 2.9365938, \"Food\": 3654.0, \"Democracy\": 0.819, \"HDI_fac\": \"3_high\"}, {\"Country\": \"India\", \"Depression\": 3.6598387, \"Food\": 2533.0, \"Democracy\": 0.399, \"HDI_fac\": \"1_low\"}, {\"Country\": \"Indonesia\", \"Depression\": 2.4184713, \"Food\": 2884.0, \"Democracy\": 0.574, \"HDI_fac\": \"2_medium\"}, {\"Country\": \"Iran\", \"Depression\": 4.860692, \"Food\": 3087.0, \"Democracy\": 0.182, \"HDI_fac\": \"2_medium\"}, {\"Country\": \"Iraq\", \"Depression\": 3.9326482, \"Food\": 2608.0, \"Democracy\": 0.362, \"HDI_fac\": \"2_medium\"}, {\"Country\": \"Ireland\", \"Depression\": 4.2169313, \"Food\": 3885.0, \"Democracy\": 0.889, \"HDI_fac\": \"3_high\"}, {\"Country\": \"Israel\", \"Depression\": 4.127255, \"Food\": 3528.0, \"Democracy\": 0.723, \"HDI_fac\": \"3_high\"}, {\"Country\": \"Italy\", \"Depression\": 3.561658, \"Food\": 3503.0, \"Democracy\": 0.844, \"HDI_fac\": \"3_high\"}, {\"Country\": \"Jamaica\", \"Depression\": 3.0646706, \"Food\": 2792.0, \"Democracy\": 0.797, \"HDI_fac\": \"2_medium\"}, {\"Country\": \"Japan\", \"Depression\": 2.1032803, \"Food\": 2705.0, \"Democracy\": 0.833, \"HDI_fac\": \"3_high\"}, {\"Country\": \"Jordan\", \"Depression\": 4.15211, \"Food\": 2732.0, \"Democracy\": 0.259, \"HDI_fac\": \"2_medium\"}, {\"Country\": \"Kazakhstan\", \"Depression\": 3.4412057, \"Food\": 3067.0, \"Democracy\": 0.277, \"HDI_fac\": \"3_high\"}, {\"Country\": \"Kenya\", \"Depression\": 4.723163, \"Food\": 2197.0, \"Democracy\": 0.522, \"HDI_fac\": \"1_low\"}, {\"Country\": \"Kuwait\", \"Depression\": 4.0603004, \"Food\": 3471.0, \"Democracy\": 0.317, \"HDI_fac\": \"3_high\"}, {\"Country\": \"Kyrgyzstan\", \"Depression\": 3.3816984, \"Food\": 2729.0, \"Democracy\": 0.382, \"HDI_fac\": \"2_medium\"}, {\"Country\": \"Laos\", \"Depression\": 2.7468913, \"Food\": 2758.0, \"Democracy\": 0.134, \"HDI_fac\": \"1_low\"}, {\"Country\": \"Latvia\", \"Depression\": 3.7478287, \"Food\": 3229.0, \"Democracy\": 0.821, \"HDI_fac\": \"3_high\"}, {\"Country\": \"Lebanon\", \"Depression\": 4.652712, \"Food\": 2857.0, \"Democracy\": 0.426, \"HDI_fac\": \"2_medium\"}, {\"Country\": \"Lesotho\", \"Depression\": 5.511564, \"Food\": 2323.0, \"Democracy\": 0.641, \"HDI_fac\": \"1_low\"}, {\"Country\": \"Liberia\", \"Depression\": 4.556289, \"Food\": 2168.0, \"Democracy\": 0.634, \"HDI_fac\": \"1_low\"}, {\"Country\": \"Lithuania\", \"Depression\": 3.9911947, \"Food\": 3411.0, \"Democracy\": 0.797, \"HDI_fac\": \"3_high\"}, {\"Country\": \"Luxembourg\", \"Depression\": 3.2193074, \"Food\": 3465.0, \"Democracy\": 0.881, \"HDI_fac\": \"3_high\"}, {\"Country\": \"Madagascar\", \"Depression\": 4.737187, \"Food\": 1938.0, \"Democracy\": 0.495, \"HDI_fac\": \"1_low\"}, {\"Country\": \"Malawi\", \"Depression\": 4.100136, \"Food\": 2392.0, \"Democracy\": 0.642, \"HDI_fac\": \"1_low\"}, {\"Country\": \"Malaysia\", \"Depression\": 3.6630948, \"Food\": 2845.0, \"Democracy\": 0.438, \"HDI_fac\": \"2_medium\"}, {\"Country\": \"Maldives\", \"Depression\": 2.9122725, \"Food\": 2235.0, \"Democracy\": 0.583, \"HDI_fac\": \"2_medium\"}, {\"Country\": \"Mali\", \"Depression\": 3.5413845, \"Food\": 2873.0, \"Democracy\": 0.235, \"HDI_fac\": \"1_low\"}, {\"Country\": \"Malta\", \"Depression\": 3.1311812, \"Food\": 3420.0, \"Democracy\": 0.782, \"HDI_fac\": \"3_high\"}, {\"Country\": \"Mauritania\", \"Depression\": 3.6558447, \"Food\": 2877.0, \"Democracy\": 0.395, \"HDI_fac\": \"1_low\"}, {\"Country\": \"Mauritius\", \"Depression\": 3.8047628, \"Food\": 3051.0, \"Democracy\": 0.521, \"HDI_fac\": \"2_medium\"}, {\"Country\": \"Mexico\", \"Depression\": 3.5358298, \"Food\": 3157.0, \"Democracy\": 0.598, \"HDI_fac\": \"2_medium\"}, {\"Country\": \"Moldova\", \"Depression\": 3.22074, \"Food\": 2383.0, \"Democracy\": 0.752, \"HDI_fac\": \"2_medium\"}, {\"Country\": \"Mongolia\", \"Depression\": 3.9632094, \"Food\": 2579.0, \"Democracy\": 0.566, \"HDI_fac\": \"2_medium\"}, {\"Country\": \"Montenegro\", \"Depression\": 2.8178656, \"Food\": 3500.0, \"Democracy\": 0.501, \"HDI_fac\": \"3_high\"}, {\"Country\": \"Morocco\", \"Depression\": 5.07854, \"Food\": 3412.0, \"Democracy\": 0.264, \"HDI_fac\": \"2_medium\"}, {\"Country\": \"Mozambique\", \"Depression\": 4.992671, \"Food\": 2103.0, \"Democracy\": 0.362, \"HDI_fac\": \"1_low\"}, {\"Country\": \"Myanmar\", \"Depression\": 2.1933033, \"Food\": 2673.0, \"Democracy\": 0.093, \"HDI_fac\": \"1_low\"}, {\"Country\": \"Namibia\", \"Depression\": 3.6164615, \"Food\": 2469.0, \"Democracy\": 0.634, \"HDI_fac\": \"1_low\"}, {\"Country\": \"Nepal\", \"Depression\": 4.8975983, \"Food\": 2769.0, \"Democracy\": 0.646, \"HDI_fac\": \"1_low\"}, {\"Country\": \"Netherlands\", \"Depression\": 3.5344012, \"Food\": 3297.0, \"Democracy\": 0.852, \"HDI_fac\": \"3_high\"}, {\"Country\": \"New Zealand\", \"Depression\": 3.7238638, \"Food\": 3191.0, \"Democracy\": 0.889, \"HDI_fac\": \"3_high\"}, {\"Country\": \"Nicaragua\", \"Depression\": 3.2548654, \"Food\": 2582.0, \"Democracy\": 0.177, \"HDI_fac\": \"1_low\"}, {\"Country\": \"Niger\", \"Depression\": 4.235215, \"Food\": 2601.0, \"Democracy\": 0.511, \"HDI_fac\": \"1_low\"}, {\"Country\": \"Nigeria\", \"Depression\": 3.8173978, \"Food\": 2572.0, \"Democracy\": 0.49, \"HDI_fac\": \"1_low\"}, {\"Country\": \"North Macedonia\", \"Depression\": 2.570906, \"Food\": 3072.0, \"Democracy\": 0.551, \"HDI_fac\": \"2_medium\"}, {\"Country\": \"Norway\", \"Depression\": 3.2382026, \"Food\": 3371.0, \"Democracy\": 0.899, \"HDI_fac\": \"3_high\"}, {\"Country\": \"Oman\", \"Depression\": 3.962998, \"Food\": 2940.0, \"Democracy\": 0.17, \"HDI_fac\": \"3_high\"}, {\"Country\": \"Pakistan\", \"Depression\": 3.9425256, \"Food\": 2486.0, \"Democracy\": 0.388, \"HDI_fac\": \"1_low\"}, {\"Country\": \"Panama\", \"Depression\": 2.9369144, \"Food\": 2851.0, \"Democracy\": 0.729, \"HDI_fac\": \"3_high\"}, {\"Country\": \"Paraguay\", \"Depression\": 3.6945765, \"Food\": 2768.0, \"Democracy\": 0.581, \"HDI_fac\": \"2_medium\"}, {\"Country\": \"Peru\", \"Depression\": 2.2116694, \"Food\": 2775.0, \"Democracy\": 0.744, \"HDI_fac\": \"2_medium\"}, {\"Country\": \"Philippines\", \"Depression\": 2.779254, \"Food\": 2662.0, \"Democracy\": 0.431, \"HDI_fac\": \"2_medium\"}, {\"Country\": \"Poland\", \"Depression\": 2.2779574, \"Food\": 3537.0, \"Democracy\": 0.574, \"HDI_fac\": \"3_high\"}, {\"Country\": \"Portugal\", \"Depression\": 4.3940663, \"Food\": 3480.0, \"Democracy\": 0.846, \"HDI_fac\": \"3_high\"}, {\"Country\": \"Romania\", \"Depression\": 2.6501622, \"Food\": 3581.0, \"Democracy\": 0.689, \"HDI_fac\": \"3_high\"}, {\"Country\": \"Russia\", \"Depression\": 3.0799155, \"Food\": 3345.0, \"Democracy\": 0.209, \"HDI_fac\": \"3_high\"}, {\"Country\": \"Rwanda\", \"Depression\": 5.0970206, \"Food\": 2188.0, \"Democracy\": 0.228, \"HDI_fac\": \"1_low\"}, {\"Country\": \"Sao Tome and Principe\", \"Depression\": 3.7094643, \"Food\": 2446.0, \"Democracy\": 0.684, \"HDI_fac\": \"1_low\"}, {\"Country\": \"Saudi Arabia\", \"Depression\": 4.216069, \"Food\": 3307.0, \"Democracy\": 0.016, \"HDI_fac\": \"3_high\"}, {\"Country\": \"Senegal\", \"Depression\": 4.0294, \"Food\": 2545.0, \"Democracy\": 0.69, \"HDI_fac\": \"1_low\"}, {\"Country\": \"Serbia\", \"Depression\": 2.814907, \"Food\": 2828.0, \"Democracy\": 0.361, \"HDI_fac\": \"2_medium\"}, {\"Country\": \"Sierra Leone\", \"Depression\": 4.392157, \"Food\": 2369.0, \"Democracy\": 0.559, \"HDI_fac\": \"1_low\"}, {\"Country\": \"Slovakia\", \"Depression\": 2.695262, \"Food\": 2871.0, \"Democracy\": 0.851, \"HDI_fac\": \"3_high\"}, {\"Country\": \"Slovenia\", \"Depression\": 3.1152232, \"Food\": 3191.0, \"Democracy\": 0.799, \"HDI_fac\": \"3_high\"}, {\"Country\": \"Solomon Islands\", \"Depression\": 3.0039446, \"Food\": 2415.0, \"Democracy\": 0.618, \"HDI_fac\": \"1_low\"}, {\"Country\": \"South Africa\", \"Depression\": 4.298678, \"Food\": 2899.0, \"Democracy\": 0.692, \"HDI_fac\": \"2_medium\"}, {\"Country\": \"South Korea\", \"Depression\": 2.091181, \"Food\": 3420.0, \"Democracy\": 0.812, \"HDI_fac\": \"3_high\"}, {\"Country\": \"Spain\", \"Depression\": 4.704455, \"Food\": 3322.0, \"Democracy\": 0.873, \"HDI_fac\": \"3_high\"}, {\"Country\": \"Sri Lanka\", \"Depression\": 2.8662298, \"Food\": 2737.0, \"Democracy\": 0.575, \"HDI_fac\": \"2_medium\"}, {\"Country\": \"Sudan\", \"Depression\": 4.4230967, \"Food\": 2578.0, \"Democracy\": 0.169, \"HDI_fac\": \"1_low\"}, {\"Country\": \"Suriname\", \"Depression\": 4.6881685, \"Food\": 2698.0, \"Democracy\": 0.77, \"HDI_fac\": \"2_medium\"}, {\"Country\": \"Sweden\", \"Depression\": 4.116486, \"Food\": 3184.0, \"Democracy\": 0.899, \"HDI_fac\": \"3_high\"}, {\"Country\": \"Switzerland\", \"Depression\": 3.705447, \"Food\": 3354.0, \"Democracy\": 0.898, \"HDI_fac\": \"3_high\"}, {\"Country\": \"Tajikistan\", \"Depression\": 2.8172803, \"Food\": 2109.0, \"Democracy\": 0.175, \"HDI_fac\": \"2_medium\"}, {\"Country\": \"Tanzania\", \"Depression\": 4.651242, \"Food\": 2373.0, \"Democracy\": 0.398, \"HDI_fac\": \"1_low\"}, {\"Country\": \"Thailand\", \"Depression\": 2.847038, \"Food\": 2804.0, \"Democracy\": 0.206, \"HDI_fac\": \"2_medium\"}, {\"Country\": \"Togo\", \"Depression\": 4.5008154, \"Food\": 2443.0, \"Democracy\": 0.426, \"HDI_fac\": \"1_low\"}, {\"Country\": \"Trinidad and Tobago\", \"Depression\": 3.82637, \"Food\": 2991.0, \"Democracy\": 0.784, \"HDI_fac\": \"3_high\"}, {\"Country\": \"Tunisia\", \"Depression\": 5.049405, \"Food\": 3450.0, \"Democracy\": 0.307, \"HDI_fac\": \"2_medium\"}, {\"Country\": \"Turkey\", \"Depression\": 3.9422681, \"Food\": 3711.0, \"Democracy\": 0.276, \"HDI_fac\": \"3_high\"}, {\"Country\": \"Turkmenistan\", \"Depression\": 3.0497415, \"Food\": 2830.0, \"Democracy\": 0.149, \"HDI_fac\": \"2_medium\"}, {\"Country\": \"Uganda\", \"Depression\": 6.5845194, \"Food\": 1981.0, \"Democracy\": 0.285, \"HDI_fac\": \"1_low\"}, {\"Country\": \"Ukraine\", \"Depression\": 3.8973033, \"Food\": 3102.0, \"Democracy\": 0.406, \"HDI_fac\": \"2_medium\"}, {\"Country\": \"United Arab Emirates\", \"Depression\": 3.5784907, \"Food\": 3314.0, \"Democracy\": 0.101, \"HDI_fac\": \"3_high\"}, {\"Country\": \"United Kingdom\", \"Depression\": 4.0975676, \"Food\": 3344.0, \"Democracy\": 0.843, \"HDI_fac\": \"3_high\"}, {\"Country\": \"United States\", \"Depression\": 4.375998, \"Food\": 3782.0, \"Democracy\": 0.819, \"HDI_fac\": \"3_high\"}, {\"Country\": \"Uruguay\", \"Depression\": 2.840908, \"Food\": 3202.0, \"Democracy\": 0.804, \"HDI_fac\": \"3_high\"}, {\"Country\": \"Uzbekistan\", \"Depression\": 3.164448, \"Food\": 3011.0, \"Democracy\": 0.221, \"HDI_fac\": \"2_medium\"}, {\"Country\": \"Vanuatu\", \"Depression\": 2.9744234, \"Food\": 2607.0, \"Democracy\": 0.771, \"HDI_fac\": \"1_low\"}, {\"Country\": \"Venezuela\", \"Depression\": 3.2147944, \"Food\": 2120.0, \"Democracy\": 0.214, \"HDI_fac\": \"2_medium\"}, {\"Country\": \"Vietnam\", \"Depression\": 2.473061, \"Food\": 3025.0, \"Democracy\": 0.157, \"HDI_fac\": \"2_medium\"}, {\"Country\": \"World\", \"Depression\": 3.4400527, \"Food\": 2928.399523487201, \"Democracy\": 0.497, \"HDI_fac\": \"2_medium\"}, {\"Country\": \"Yemen\", \"Depression\": 4.8953676, \"Food\": 2154.0, \"Democracy\": 0.123, \"HDI_fac\": \"1_low\"}, {\"Country\": \"Zambia\", \"Depression\": 4.2194896, \"Food\": 2002.0, \"Democracy\": 0.518, \"HDI_fac\": \"1_low\"}, {\"Country\": \"Zimbabwe\", \"Depression\": 3.3954756, \"Food\": 1908.0, \"Democracy\": 0.285, \"HDI_fac\": \"1_low\"}]}}, {\"mode\": \"vega-lite\"});\n",
       "</script>"
      ]
     },
     "metadata": {},
     "execution_count": 23
    }
   ],
   "metadata": {}
  },
  {
   "cell_type": "markdown",
   "source": [
    "While not the most interpretable plot, this does allow you to examine the relationship between all variables at once."
   ],
   "metadata": {}
  },
  {
   "cell_type": "code",
   "execution_count": 24,
   "source": [
    "# bar plots of the means are typically the most interpretable\n",
    "alt.Chart(merge_cat).mark_bar().encode(\n",
    "    x='HDI_fac:O',\n",
    "    y='mean(Depression):Q',\n",
    "    color='HDI_fac:N'\n",
    ").properties(\n",
    "    title='Bar Plot of HDI/Depression',\n",
    "    width=300\n",
    ")\n"
   ],
   "outputs": [
    {
     "output_type": "execute_result",
     "data": {
      "text/plain": [
       "alt.Chart(...)"
      ],
      "text/html": [
       "\n",
       "<div id=\"altair-viz-4e20eadc87174928858a5454550894dc\"></div>\n",
       "<script type=\"text/javascript\">\n",
       "  var VEGA_DEBUG = (typeof VEGA_DEBUG == \"undefined\") ? {} : VEGA_DEBUG;\n",
       "  (function(spec, embedOpt){\n",
       "    let outputDiv = document.currentScript.previousElementSibling;\n",
       "    if (outputDiv.id !== \"altair-viz-4e20eadc87174928858a5454550894dc\") {\n",
       "      outputDiv = document.getElementById(\"altair-viz-4e20eadc87174928858a5454550894dc\");\n",
       "    }\n",
       "    const paths = {\n",
       "      \"vega\": \"https://cdn.jsdelivr.net/npm//vega@5?noext\",\n",
       "      \"vega-lib\": \"https://cdn.jsdelivr.net/npm//vega-lib?noext\",\n",
       "      \"vega-lite\": \"https://cdn.jsdelivr.net/npm//vega-lite@4.17.0?noext\",\n",
       "      \"vega-embed\": \"https://cdn.jsdelivr.net/npm//vega-embed@6?noext\",\n",
       "    };\n",
       "\n",
       "    function maybeLoadScript(lib, version) {\n",
       "      var key = `${lib.replace(\"-\", \"\")}_version`;\n",
       "      return (VEGA_DEBUG[key] == version) ?\n",
       "        Promise.resolve(paths[lib]) :\n",
       "        new Promise(function(resolve, reject) {\n",
       "          var s = document.createElement('script');\n",
       "          document.getElementsByTagName(\"head\")[0].appendChild(s);\n",
       "          s.async = true;\n",
       "          s.onload = () => {\n",
       "            VEGA_DEBUG[key] = version;\n",
       "            return resolve(paths[lib]);\n",
       "          };\n",
       "          s.onerror = () => reject(`Error loading script: ${paths[lib]}`);\n",
       "          s.src = paths[lib];\n",
       "        });\n",
       "    }\n",
       "\n",
       "    function showError(err) {\n",
       "      outputDiv.innerHTML = `<div class=\"error\" style=\"color:red;\">${err}</div>`;\n",
       "      throw err;\n",
       "    }\n",
       "\n",
       "    function displayChart(vegaEmbed) {\n",
       "      vegaEmbed(outputDiv, spec, embedOpt)\n",
       "        .catch(err => showError(`Javascript Error: ${err.message}<br>This usually means there's a typo in your chart specification. See the javascript console for the full traceback.`));\n",
       "    }\n",
       "\n",
       "    if(typeof define === \"function\" && define.amd) {\n",
       "      requirejs.config({paths});\n",
       "      require([\"vega-embed\"], displayChart, err => showError(`Error loading script: ${err.message}`));\n",
       "    } else {\n",
       "      maybeLoadScript(\"vega\", \"5\")\n",
       "        .then(() => maybeLoadScript(\"vega-lite\", \"4.17.0\"))\n",
       "        .then(() => maybeLoadScript(\"vega-embed\", \"6\"))\n",
       "        .catch(showError)\n",
       "        .then(() => displayChart(vegaEmbed));\n",
       "    }\n",
       "  })({\"config\": {\"view\": {\"continuousWidth\": 400, \"continuousHeight\": 300}}, \"data\": {\"name\": \"data-8fd152c1d8364548d7278c2217b07ec5\"}, \"mark\": \"bar\", \"encoding\": {\"color\": {\"field\": \"HDI_fac\", \"type\": \"nominal\"}, \"x\": {\"field\": \"HDI_fac\", \"type\": \"ordinal\"}, \"y\": {\"aggregate\": \"mean\", \"field\": \"Depression\", \"type\": \"quantitative\"}}, \"title\": \"Bar Plot of HDI/Depression\", \"width\": 300, \"$schema\": \"https://vega.github.io/schema/vega-lite/v4.17.0.json\", \"datasets\": {\"data-8fd152c1d8364548d7278c2217b07ec5\": [{\"Country\": \"Afghanistan\", \"Depression\": 4.945168, \"Food\": 2040.0, \"Democracy\": 0.082, \"HDI_fac\": \"1_low\"}, {\"Country\": \"Albania\", \"Depression\": 2.4602032, \"Food\": 3360.0, \"Democracy\": 0.484, \"HDI_fac\": \"2_medium\"}, {\"Country\": \"Algeria\", \"Depression\": 4.1296806, \"Food\": 3322.0, \"Democracy\": 0.281, \"HDI_fac\": \"2_medium\"}, {\"Country\": \"Angola\", \"Depression\": 5.7441936, \"Food\": 2385.0, \"Democracy\": 0.344, \"HDI_fac\": \"1_low\"}, {\"Country\": \"Argentina\", \"Depression\": 2.4075098, \"Food\": 3307.0, \"Democracy\": 0.823, \"HDI_fac\": \"3_high\"}, {\"Country\": \"Armenia\", \"Depression\": 2.9836516, \"Food\": 2997.0, \"Democracy\": 0.645, \"HDI_fac\": \"2_medium\"}, {\"Country\": \"Australia\", \"Depression\": 4.382458, \"Food\": 3391.0, \"Democracy\": 0.858, \"HDI_fac\": \"3_high\"}, {\"Country\": \"Austria\", \"Depression\": 3.125201, \"Food\": 3695.0, \"Democracy\": 0.794, \"HDI_fac\": \"3_high\"}, {\"Country\": \"Azerbaijan\", \"Depression\": 2.7526312, \"Food\": 3149.0, \"Democracy\": 0.188, \"HDI_fac\": \"2_medium\"}, {\"Country\": \"Bangladesh\", \"Depression\": 4.6198096, \"Food\": 2563.0, \"Democracy\": 0.274, \"HDI_fac\": \"1_low\"}, {\"Country\": \"Barbados\", \"Depression\": 3.1782775, \"Food\": 2956.0, \"Democracy\": 0.782, \"HDI_fac\": \"2_medium\"}, {\"Country\": \"Belarus\", \"Depression\": 3.824539, \"Food\": 3270.0, \"Democracy\": 0.175, \"HDI_fac\": \"3_high\"}, {\"Country\": \"Belgium\", \"Depression\": 3.5420222, \"Food\": 3769.0, \"Democracy\": 0.887, \"HDI_fac\": \"3_high\"}, {\"Country\": \"Benin\", \"Depression\": 4.447893, \"Food\": 2755.0, \"Democracy\": 0.45, \"HDI_fac\": \"1_low\"}, {\"Country\": \"Bolivia\", \"Depression\": 3.3994322, \"Food\": 2412.0, \"Democracy\": 0.597, \"HDI_fac\": \"2_medium\"}, {\"Country\": \"Bosnia and Herzegovina\", \"Depression\": 2.7624497, \"Food\": 3307.0, \"Democracy\": 0.528, \"HDI_fac\": \"2_medium\"}, {\"Country\": \"Botswana\", \"Depression\": 4.2572603, \"Food\": 2342.0, \"Democracy\": 0.577, \"HDI_fac\": \"2_medium\"}, {\"Country\": \"Brazil\", \"Depression\": 3.8015563, \"Food\": 3301.0, \"Democracy\": 0.678, \"HDI_fac\": \"2_medium\"}, {\"Country\": \"Bulgaria\", \"Depression\": 2.6916606, \"Food\": 2854.0, \"Democracy\": 0.688, \"HDI_fac\": \"2_medium\"}, {\"Country\": \"Burkina Faso\", \"Depression\": 4.378302, \"Food\": 2737.0, \"Democracy\": 0.295, \"HDI_fac\": \"1_low\"}, {\"Country\": \"Cambodia\", \"Depression\": 2.9500995, \"Food\": 2492.0, \"Democracy\": 0.206, \"HDI_fac\": \"1_low\"}, {\"Country\": \"Cameroon\", \"Depression\": 4.6046395, \"Food\": 2733.0, \"Democracy\": 0.297, \"HDI_fac\": \"1_low\"}, {\"Country\": \"Canada\", \"Depression\": 3.2904658, \"Food\": 3566.0, \"Democracy\": 0.847, \"HDI_fac\": \"3_high\"}, {\"Country\": \"Cape Verde\", \"Depression\": 4.8429317, \"Food\": 2541.0, \"Democracy\": 0.75, \"HDI_fac\": \"1_low\"}, {\"Country\": \"Central African Republic\", \"Depression\": 5.9238467, \"Food\": 1786.0, \"Democracy\": 0.321, \"HDI_fac\": \"1_low\"}, {\"Country\": \"Chad\", \"Depression\": 5.1334114, \"Food\": 2115.0, \"Democracy\": 0.14, \"HDI_fac\": \"1_low\"}, {\"Country\": \"Chile\", \"Depression\": 3.6435125, \"Food\": 3029.0, \"Democracy\": 0.811, \"HDI_fac\": \"3_high\"}, {\"Country\": \"China\", \"Depression\": 2.7240157, \"Food\": 3206.0, \"Democracy\": 0.075, \"HDI_fac\": \"2_medium\"}, {\"Country\": \"Colombia\", \"Depression\": 2.2196279, \"Food\": 3114.0, \"Democracy\": 0.689, \"HDI_fac\": \"2_medium\"}, {\"Country\": \"Congo\", \"Depression\": 5.5257406, \"Food\": 2285.0, \"Democracy\": 0.234, \"HDI_fac\": \"1_low\"}, {\"Country\": \"Costa Rica\", \"Depression\": 3.2132857, \"Food\": 3029.0, \"Democracy\": 0.871, \"HDI_fac\": \"3_high\"}, {\"Country\": \"Cote d'Ivoire\", \"Depression\": 3.9350774, \"Food\": 2778.0, \"Democracy\": 0.437, \"HDI_fac\": \"1_low\"}, {\"Country\": \"Croatia\", \"Depression\": 3.0076077, \"Food\": 3074.0, \"Democracy\": 0.738, \"HDI_fac\": \"3_high\"}, {\"Country\": \"Cuba\", \"Depression\": 3.802294, \"Food\": 3344.0, \"Democracy\": 0.178, \"HDI_fac\": \"2_medium\"}, {\"Country\": \"Cyprus\", \"Depression\": 3.1127021, \"Food\": 3019.0, \"Democracy\": 0.777, \"HDI_fac\": \"3_high\"}, {\"Country\": \"Czechia\", \"Depression\": 2.878852, \"Food\": 3277.0, \"Democracy\": 0.853, \"HDI_fac\": \"3_high\"}, {\"Country\": \"Denmark\", \"Depression\": 3.4828994, \"Food\": 3401.0, \"Democracy\": 0.916, \"HDI_fac\": \"3_high\"}, {\"Country\": \"Djibouti\", \"Depression\": 4.4612656, \"Food\": 2694.0, \"Democracy\": 0.255, \"HDI_fac\": \"1_low\"}, {\"Country\": \"Dominican Republic\", \"Depression\": 3.8231027, \"Food\": 2892.0, \"Democracy\": 0.679, \"HDI_fac\": \"2_medium\"}, {\"Country\": \"East Timor\", \"Depression\": 2.804642, \"Food\": 2287.0, \"Democracy\": 0.695, \"HDI_fac\": \"1_low\"}, {\"Country\": \"Ecuador\", \"Depression\": 3.3306973, \"Food\": 2606.0, \"Democracy\": 0.657, \"HDI_fac\": \"2_medium\"}, {\"Country\": \"Egypt\", \"Depression\": 3.9397578, \"Food\": 3292.0, \"Democracy\": 0.175, \"HDI_fac\": \"2_medium\"}, {\"Country\": \"El Salvador\", \"Depression\": 3.4073691, \"Food\": 2696.0, \"Democracy\": 0.378, \"HDI_fac\": \"2_medium\"}, {\"Country\": \"Estonia\", \"Depression\": 3.6936426, \"Food\": 3247.0, \"Democracy\": 0.893, \"HDI_fac\": \"3_high\"}, {\"Country\": \"Eswatini\", \"Depression\": 4.4255295, \"Food\": 2426.0, \"Democracy\": 0.12, \"HDI_fac\": \"1_low\"}, {\"Country\": \"Ethiopia\", \"Depression\": 4.64972, \"Food\": 2338.0, \"Democracy\": 0.319, \"HDI_fac\": \"1_low\"}, {\"Country\": \"Fiji\", \"Depression\": 2.917755, \"Food\": 2781.0, \"Democracy\": 0.406, \"HDI_fac\": \"2_medium\"}, {\"Country\": \"Finland\", \"Depression\": 4.139295, \"Food\": 3343.0, \"Democracy\": 0.861, \"HDI_fac\": \"3_high\"}, {\"Country\": \"France\", \"Depression\": 3.835741, \"Food\": 3502.0, \"Democracy\": 0.874, \"HDI_fac\": \"3_high\"}, {\"Country\": \"Gabon\", \"Depression\": 5.5459714, \"Food\": 2633.0, \"Democracy\": 0.369, \"HDI_fac\": \"2_medium\"}, {\"Country\": \"Gambia\", \"Depression\": 5.5018787, \"Food\": 2533.0, \"Democracy\": 0.62, \"HDI_fac\": \"1_low\"}, {\"Country\": \"Georgia\", \"Depression\": 3.3233132, \"Food\": 2835.0, \"Democracy\": 0.647, \"HDI_fac\": \"2_medium\"}, {\"Country\": \"Germany\", \"Depression\": 3.3767943, \"Food\": 3554.0, \"Democracy\": 0.857, \"HDI_fac\": \"3_high\"}, {\"Country\": \"Ghana\", \"Depression\": 4.3620286, \"Food\": 3035.0, \"Democracy\": 0.633, \"HDI_fac\": \"1_low\"}, {\"Country\": \"Greece\", \"Depression\": 5.0422506, \"Food\": 3382.0, \"Democracy\": 0.783, \"HDI_fac\": \"3_high\"}, {\"Country\": \"Guatemala\", \"Depression\": 3.6679313, \"Food\": 2551.0, \"Democracy\": 0.435, \"HDI_fac\": \"1_low\"}, {\"Country\": \"Guinea\", \"Depression\": 4.3731165, \"Food\": 2746.0, \"Democracy\": 0.191, \"HDI_fac\": \"1_low\"}, {\"Country\": \"Guinea-Bissau\", \"Depression\": 4.4942803, \"Food\": 2229.0, \"Democracy\": 0.371, \"HDI_fac\": \"1_low\"}, {\"Country\": \"Guyana\", \"Depression\": 4.927692, \"Food\": 2913.0, \"Democracy\": 0.535, \"HDI_fac\": \"2_medium\"}, {\"Country\": \"Haiti\", \"Depression\": 3.6351175, \"Food\": 2121.0, \"Democracy\": 0.248, \"HDI_fac\": \"1_low\"}, {\"Country\": \"Honduras\", \"Depression\": 3.1551142, \"Food\": 2673.0, \"Democracy\": 0.556, \"HDI_fac\": \"1_low\"}, {\"Country\": \"Hungary\", \"Depression\": 2.8233702, \"Food\": 3316.0, \"Democracy\": 0.445, \"HDI_fac\": \"3_high\"}, {\"Country\": \"Iceland\", \"Depression\": 2.9365938, \"Food\": 3654.0, \"Democracy\": 0.819, \"HDI_fac\": \"3_high\"}, {\"Country\": \"India\", \"Depression\": 3.6598387, \"Food\": 2533.0, \"Democracy\": 0.399, \"HDI_fac\": \"1_low\"}, {\"Country\": \"Indonesia\", \"Depression\": 2.4184713, \"Food\": 2884.0, \"Democracy\": 0.574, \"HDI_fac\": \"2_medium\"}, {\"Country\": \"Iran\", \"Depression\": 4.860692, \"Food\": 3087.0, \"Democracy\": 0.182, \"HDI_fac\": \"2_medium\"}, {\"Country\": \"Iraq\", \"Depression\": 3.9326482, \"Food\": 2608.0, \"Democracy\": 0.362, \"HDI_fac\": \"2_medium\"}, {\"Country\": \"Ireland\", \"Depression\": 4.2169313, \"Food\": 3885.0, \"Democracy\": 0.889, \"HDI_fac\": \"3_high\"}, {\"Country\": \"Israel\", \"Depression\": 4.127255, \"Food\": 3528.0, \"Democracy\": 0.723, \"HDI_fac\": \"3_high\"}, {\"Country\": \"Italy\", \"Depression\": 3.561658, \"Food\": 3503.0, \"Democracy\": 0.844, \"HDI_fac\": \"3_high\"}, {\"Country\": \"Jamaica\", \"Depression\": 3.0646706, \"Food\": 2792.0, \"Democracy\": 0.797, \"HDI_fac\": \"2_medium\"}, {\"Country\": \"Japan\", \"Depression\": 2.1032803, \"Food\": 2705.0, \"Democracy\": 0.833, \"HDI_fac\": \"3_high\"}, {\"Country\": \"Jordan\", \"Depression\": 4.15211, \"Food\": 2732.0, \"Democracy\": 0.259, \"HDI_fac\": \"2_medium\"}, {\"Country\": \"Kazakhstan\", \"Depression\": 3.4412057, \"Food\": 3067.0, \"Democracy\": 0.277, \"HDI_fac\": \"3_high\"}, {\"Country\": \"Kenya\", \"Depression\": 4.723163, \"Food\": 2197.0, \"Democracy\": 0.522, \"HDI_fac\": \"1_low\"}, {\"Country\": \"Kuwait\", \"Depression\": 4.0603004, \"Food\": 3471.0, \"Democracy\": 0.317, \"HDI_fac\": \"3_high\"}, {\"Country\": \"Kyrgyzstan\", \"Depression\": 3.3816984, \"Food\": 2729.0, \"Democracy\": 0.382, \"HDI_fac\": \"2_medium\"}, {\"Country\": \"Laos\", \"Depression\": 2.7468913, \"Food\": 2758.0, \"Democracy\": 0.134, \"HDI_fac\": \"1_low\"}, {\"Country\": \"Latvia\", \"Depression\": 3.7478287, \"Food\": 3229.0, \"Democracy\": 0.821, \"HDI_fac\": \"3_high\"}, {\"Country\": \"Lebanon\", \"Depression\": 4.652712, \"Food\": 2857.0, \"Democracy\": 0.426, \"HDI_fac\": \"2_medium\"}, {\"Country\": \"Lesotho\", \"Depression\": 5.511564, \"Food\": 2323.0, \"Democracy\": 0.641, \"HDI_fac\": \"1_low\"}, {\"Country\": \"Liberia\", \"Depression\": 4.556289, \"Food\": 2168.0, \"Democracy\": 0.634, \"HDI_fac\": \"1_low\"}, {\"Country\": \"Lithuania\", \"Depression\": 3.9911947, \"Food\": 3411.0, \"Democracy\": 0.797, \"HDI_fac\": \"3_high\"}, {\"Country\": \"Luxembourg\", \"Depression\": 3.2193074, \"Food\": 3465.0, \"Democracy\": 0.881, \"HDI_fac\": \"3_high\"}, {\"Country\": \"Madagascar\", \"Depression\": 4.737187, \"Food\": 1938.0, \"Democracy\": 0.495, \"HDI_fac\": \"1_low\"}, {\"Country\": \"Malawi\", \"Depression\": 4.100136, \"Food\": 2392.0, \"Democracy\": 0.642, \"HDI_fac\": \"1_low\"}, {\"Country\": \"Malaysia\", \"Depression\": 3.6630948, \"Food\": 2845.0, \"Democracy\": 0.438, \"HDI_fac\": \"2_medium\"}, {\"Country\": \"Maldives\", \"Depression\": 2.9122725, \"Food\": 2235.0, \"Democracy\": 0.583, \"HDI_fac\": \"2_medium\"}, {\"Country\": \"Mali\", \"Depression\": 3.5413845, \"Food\": 2873.0, \"Democracy\": 0.235, \"HDI_fac\": \"1_low\"}, {\"Country\": \"Malta\", \"Depression\": 3.1311812, \"Food\": 3420.0, \"Democracy\": 0.782, \"HDI_fac\": \"3_high\"}, {\"Country\": \"Mauritania\", \"Depression\": 3.6558447, \"Food\": 2877.0, \"Democracy\": 0.395, \"HDI_fac\": \"1_low\"}, {\"Country\": \"Mauritius\", \"Depression\": 3.8047628, \"Food\": 3051.0, \"Democracy\": 0.521, \"HDI_fac\": \"2_medium\"}, {\"Country\": \"Mexico\", \"Depression\": 3.5358298, \"Food\": 3157.0, \"Democracy\": 0.598, \"HDI_fac\": \"2_medium\"}, {\"Country\": \"Moldova\", \"Depression\": 3.22074, \"Food\": 2383.0, \"Democracy\": 0.752, \"HDI_fac\": \"2_medium\"}, {\"Country\": \"Mongolia\", \"Depression\": 3.9632094, \"Food\": 2579.0, \"Democracy\": 0.566, \"HDI_fac\": \"2_medium\"}, {\"Country\": \"Montenegro\", \"Depression\": 2.8178656, \"Food\": 3500.0, \"Democracy\": 0.501, \"HDI_fac\": \"3_high\"}, {\"Country\": \"Morocco\", \"Depression\": 5.07854, \"Food\": 3412.0, \"Democracy\": 0.264, \"HDI_fac\": \"2_medium\"}, {\"Country\": \"Mozambique\", \"Depression\": 4.992671, \"Food\": 2103.0, \"Democracy\": 0.362, \"HDI_fac\": \"1_low\"}, {\"Country\": \"Myanmar\", \"Depression\": 2.1933033, \"Food\": 2673.0, \"Democracy\": 0.093, \"HDI_fac\": \"1_low\"}, {\"Country\": \"Namibia\", \"Depression\": 3.6164615, \"Food\": 2469.0, \"Democracy\": 0.634, \"HDI_fac\": \"1_low\"}, {\"Country\": \"Nepal\", \"Depression\": 4.8975983, \"Food\": 2769.0, \"Democracy\": 0.646, \"HDI_fac\": \"1_low\"}, {\"Country\": \"Netherlands\", \"Depression\": 3.5344012, \"Food\": 3297.0, \"Democracy\": 0.852, \"HDI_fac\": \"3_high\"}, {\"Country\": \"New Zealand\", \"Depression\": 3.7238638, \"Food\": 3191.0, \"Democracy\": 0.889, \"HDI_fac\": \"3_high\"}, {\"Country\": \"Nicaragua\", \"Depression\": 3.2548654, \"Food\": 2582.0, \"Democracy\": 0.177, \"HDI_fac\": \"1_low\"}, {\"Country\": \"Niger\", \"Depression\": 4.235215, \"Food\": 2601.0, \"Democracy\": 0.511, \"HDI_fac\": \"1_low\"}, {\"Country\": \"Nigeria\", \"Depression\": 3.8173978, \"Food\": 2572.0, \"Democracy\": 0.49, \"HDI_fac\": \"1_low\"}, {\"Country\": \"North Macedonia\", \"Depression\": 2.570906, \"Food\": 3072.0, \"Democracy\": 0.551, \"HDI_fac\": \"2_medium\"}, {\"Country\": \"Norway\", \"Depression\": 3.2382026, \"Food\": 3371.0, \"Democracy\": 0.899, \"HDI_fac\": \"3_high\"}, {\"Country\": \"Oman\", \"Depression\": 3.962998, \"Food\": 2940.0, \"Democracy\": 0.17, \"HDI_fac\": \"3_high\"}, {\"Country\": \"Pakistan\", \"Depression\": 3.9425256, \"Food\": 2486.0, \"Democracy\": 0.388, \"HDI_fac\": \"1_low\"}, {\"Country\": \"Panama\", \"Depression\": 2.9369144, \"Food\": 2851.0, \"Democracy\": 0.729, \"HDI_fac\": \"3_high\"}, {\"Country\": \"Paraguay\", \"Depression\": 3.6945765, \"Food\": 2768.0, \"Democracy\": 0.581, \"HDI_fac\": \"2_medium\"}, {\"Country\": \"Peru\", \"Depression\": 2.2116694, \"Food\": 2775.0, \"Democracy\": 0.744, \"HDI_fac\": \"2_medium\"}, {\"Country\": \"Philippines\", \"Depression\": 2.779254, \"Food\": 2662.0, \"Democracy\": 0.431, \"HDI_fac\": \"2_medium\"}, {\"Country\": \"Poland\", \"Depression\": 2.2779574, \"Food\": 3537.0, \"Democracy\": 0.574, \"HDI_fac\": \"3_high\"}, {\"Country\": \"Portugal\", \"Depression\": 4.3940663, \"Food\": 3480.0, \"Democracy\": 0.846, \"HDI_fac\": \"3_high\"}, {\"Country\": \"Romania\", \"Depression\": 2.6501622, \"Food\": 3581.0, \"Democracy\": 0.689, \"HDI_fac\": \"3_high\"}, {\"Country\": \"Russia\", \"Depression\": 3.0799155, \"Food\": 3345.0, \"Democracy\": 0.209, \"HDI_fac\": \"3_high\"}, {\"Country\": \"Rwanda\", \"Depression\": 5.0970206, \"Food\": 2188.0, \"Democracy\": 0.228, \"HDI_fac\": \"1_low\"}, {\"Country\": \"Sao Tome and Principe\", \"Depression\": 3.7094643, \"Food\": 2446.0, \"Democracy\": 0.684, \"HDI_fac\": \"1_low\"}, {\"Country\": \"Saudi Arabia\", \"Depression\": 4.216069, \"Food\": 3307.0, \"Democracy\": 0.016, \"HDI_fac\": \"3_high\"}, {\"Country\": \"Senegal\", \"Depression\": 4.0294, \"Food\": 2545.0, \"Democracy\": 0.69, \"HDI_fac\": \"1_low\"}, {\"Country\": \"Serbia\", \"Depression\": 2.814907, \"Food\": 2828.0, \"Democracy\": 0.361, \"HDI_fac\": \"2_medium\"}, {\"Country\": \"Sierra Leone\", \"Depression\": 4.392157, \"Food\": 2369.0, \"Democracy\": 0.559, \"HDI_fac\": \"1_low\"}, {\"Country\": \"Slovakia\", \"Depression\": 2.695262, \"Food\": 2871.0, \"Democracy\": 0.851, \"HDI_fac\": \"3_high\"}, {\"Country\": \"Slovenia\", \"Depression\": 3.1152232, \"Food\": 3191.0, \"Democracy\": 0.799, \"HDI_fac\": \"3_high\"}, {\"Country\": \"Solomon Islands\", \"Depression\": 3.0039446, \"Food\": 2415.0, \"Democracy\": 0.618, \"HDI_fac\": \"1_low\"}, {\"Country\": \"South Africa\", \"Depression\": 4.298678, \"Food\": 2899.0, \"Democracy\": 0.692, \"HDI_fac\": \"2_medium\"}, {\"Country\": \"South Korea\", \"Depression\": 2.091181, \"Food\": 3420.0, \"Democracy\": 0.812, \"HDI_fac\": \"3_high\"}, {\"Country\": \"Spain\", \"Depression\": 4.704455, \"Food\": 3322.0, \"Democracy\": 0.873, \"HDI_fac\": \"3_high\"}, {\"Country\": \"Sri Lanka\", \"Depression\": 2.8662298, \"Food\": 2737.0, \"Democracy\": 0.575, \"HDI_fac\": \"2_medium\"}, {\"Country\": \"Sudan\", \"Depression\": 4.4230967, \"Food\": 2578.0, \"Democracy\": 0.169, \"HDI_fac\": \"1_low\"}, {\"Country\": \"Suriname\", \"Depression\": 4.6881685, \"Food\": 2698.0, \"Democracy\": 0.77, \"HDI_fac\": \"2_medium\"}, {\"Country\": \"Sweden\", \"Depression\": 4.116486, \"Food\": 3184.0, \"Democracy\": 0.899, \"HDI_fac\": \"3_high\"}, {\"Country\": \"Switzerland\", \"Depression\": 3.705447, \"Food\": 3354.0, \"Democracy\": 0.898, \"HDI_fac\": \"3_high\"}, {\"Country\": \"Tajikistan\", \"Depression\": 2.8172803, \"Food\": 2109.0, \"Democracy\": 0.175, \"HDI_fac\": \"2_medium\"}, {\"Country\": \"Tanzania\", \"Depression\": 4.651242, \"Food\": 2373.0, \"Democracy\": 0.398, \"HDI_fac\": \"1_low\"}, {\"Country\": \"Thailand\", \"Depression\": 2.847038, \"Food\": 2804.0, \"Democracy\": 0.206, \"HDI_fac\": \"2_medium\"}, {\"Country\": \"Togo\", \"Depression\": 4.5008154, \"Food\": 2443.0, \"Democracy\": 0.426, \"HDI_fac\": \"1_low\"}, {\"Country\": \"Trinidad and Tobago\", \"Depression\": 3.82637, \"Food\": 2991.0, \"Democracy\": 0.784, \"HDI_fac\": \"3_high\"}, {\"Country\": \"Tunisia\", \"Depression\": 5.049405, \"Food\": 3450.0, \"Democracy\": 0.307, \"HDI_fac\": \"2_medium\"}, {\"Country\": \"Turkey\", \"Depression\": 3.9422681, \"Food\": 3711.0, \"Democracy\": 0.276, \"HDI_fac\": \"3_high\"}, {\"Country\": \"Turkmenistan\", \"Depression\": 3.0497415, \"Food\": 2830.0, \"Democracy\": 0.149, \"HDI_fac\": \"2_medium\"}, {\"Country\": \"Uganda\", \"Depression\": 6.5845194, \"Food\": 1981.0, \"Democracy\": 0.285, \"HDI_fac\": \"1_low\"}, {\"Country\": \"Ukraine\", \"Depression\": 3.8973033, \"Food\": 3102.0, \"Democracy\": 0.406, \"HDI_fac\": \"2_medium\"}, {\"Country\": \"United Arab Emirates\", \"Depression\": 3.5784907, \"Food\": 3314.0, \"Democracy\": 0.101, \"HDI_fac\": \"3_high\"}, {\"Country\": \"United Kingdom\", \"Depression\": 4.0975676, \"Food\": 3344.0, \"Democracy\": 0.843, \"HDI_fac\": \"3_high\"}, {\"Country\": \"United States\", \"Depression\": 4.375998, \"Food\": 3782.0, \"Democracy\": 0.819, \"HDI_fac\": \"3_high\"}, {\"Country\": \"Uruguay\", \"Depression\": 2.840908, \"Food\": 3202.0, \"Democracy\": 0.804, \"HDI_fac\": \"3_high\"}, {\"Country\": \"Uzbekistan\", \"Depression\": 3.164448, \"Food\": 3011.0, \"Democracy\": 0.221, \"HDI_fac\": \"2_medium\"}, {\"Country\": \"Vanuatu\", \"Depression\": 2.9744234, \"Food\": 2607.0, \"Democracy\": 0.771, \"HDI_fac\": \"1_low\"}, {\"Country\": \"Venezuela\", \"Depression\": 3.2147944, \"Food\": 2120.0, \"Democracy\": 0.214, \"HDI_fac\": \"2_medium\"}, {\"Country\": \"Vietnam\", \"Depression\": 2.473061, \"Food\": 3025.0, \"Democracy\": 0.157, \"HDI_fac\": \"2_medium\"}, {\"Country\": \"World\", \"Depression\": 3.4400527, \"Food\": 2928.399523487201, \"Democracy\": 0.497, \"HDI_fac\": \"2_medium\"}, {\"Country\": \"Yemen\", \"Depression\": 4.8953676, \"Food\": 2154.0, \"Democracy\": 0.123, \"HDI_fac\": \"1_low\"}, {\"Country\": \"Zambia\", \"Depression\": 4.2194896, \"Food\": 2002.0, \"Democracy\": 0.518, \"HDI_fac\": \"1_low\"}, {\"Country\": \"Zimbabwe\", \"Depression\": 3.3954756, \"Food\": 1908.0, \"Democracy\": 0.285, \"HDI_fac\": \"1_low\"}]}}, {\"mode\": \"vega-lite\"});\n",
       "</script>"
      ]
     },
     "metadata": {},
     "execution_count": 24
    }
   ],
   "metadata": {}
  },
  {
   "cell_type": "markdown",
   "source": [
    "### 3.4 Summary Statistics"
   ],
   "metadata": {}
  },
  {
   "cell_type": "code",
   "execution_count": 25,
   "source": [
    "merge.describe()"
   ],
   "outputs": [
    {
     "output_type": "execute_result",
     "data": {
      "text/plain": [
       "              HDI  Depression         Food   Democracy\n",
       "count  157.000000  157.000000   157.000000  157.000000\n",
       "mean     0.723051    3.750438  2880.524838    0.525994\n",
       "std      0.152134    0.864993   464.642827    0.252601\n",
       "min      0.394000    2.091181  1786.000000    0.016000\n",
       "25%      0.597000    3.079915  2551.000000    0.295000\n",
       "50%      0.740000    3.694577  2857.000000    0.551000\n",
       "75%      0.842000    4.375998  3301.000000    0.771000\n",
       "max      0.962000    6.584519  3885.000000    0.916000"
      ],
      "text/html": [
       "<div>\n",
       "<style scoped>\n",
       "    .dataframe tbody tr th:only-of-type {\n",
       "        vertical-align: middle;\n",
       "    }\n",
       "\n",
       "    .dataframe tbody tr th {\n",
       "        vertical-align: top;\n",
       "    }\n",
       "\n",
       "    .dataframe thead th {\n",
       "        text-align: right;\n",
       "    }\n",
       "</style>\n",
       "<table border=\"1\" class=\"dataframe\">\n",
       "  <thead>\n",
       "    <tr style=\"text-align: right;\">\n",
       "      <th></th>\n",
       "      <th>HDI</th>\n",
       "      <th>Depression</th>\n",
       "      <th>Food</th>\n",
       "      <th>Democracy</th>\n",
       "    </tr>\n",
       "  </thead>\n",
       "  <tbody>\n",
       "    <tr>\n",
       "      <th>count</th>\n",
       "      <td>157.000000</td>\n",
       "      <td>157.000000</td>\n",
       "      <td>157.000000</td>\n",
       "      <td>157.000000</td>\n",
       "    </tr>\n",
       "    <tr>\n",
       "      <th>mean</th>\n",
       "      <td>0.723051</td>\n",
       "      <td>3.750438</td>\n",
       "      <td>2880.524838</td>\n",
       "      <td>0.525994</td>\n",
       "    </tr>\n",
       "    <tr>\n",
       "      <th>std</th>\n",
       "      <td>0.152134</td>\n",
       "      <td>0.864993</td>\n",
       "      <td>464.642827</td>\n",
       "      <td>0.252601</td>\n",
       "    </tr>\n",
       "    <tr>\n",
       "      <th>min</th>\n",
       "      <td>0.394000</td>\n",
       "      <td>2.091181</td>\n",
       "      <td>1786.000000</td>\n",
       "      <td>0.016000</td>\n",
       "    </tr>\n",
       "    <tr>\n",
       "      <th>25%</th>\n",
       "      <td>0.597000</td>\n",
       "      <td>3.079915</td>\n",
       "      <td>2551.000000</td>\n",
       "      <td>0.295000</td>\n",
       "    </tr>\n",
       "    <tr>\n",
       "      <th>50%</th>\n",
       "      <td>0.740000</td>\n",
       "      <td>3.694577</td>\n",
       "      <td>2857.000000</td>\n",
       "      <td>0.551000</td>\n",
       "    </tr>\n",
       "    <tr>\n",
       "      <th>75%</th>\n",
       "      <td>0.842000</td>\n",
       "      <td>4.375998</td>\n",
       "      <td>3301.000000</td>\n",
       "      <td>0.771000</td>\n",
       "    </tr>\n",
       "    <tr>\n",
       "      <th>max</th>\n",
       "      <td>0.962000</td>\n",
       "      <td>6.584519</td>\n",
       "      <td>3885.000000</td>\n",
       "      <td>0.916000</td>\n",
       "    </tr>\n",
       "  </tbody>\n",
       "</table>\n",
       "</div>"
      ]
     },
     "metadata": {},
     "execution_count": 25
    }
   ],
   "metadata": {}
  },
  {
   "cell_type": "code",
   "execution_count": 26,
   "source": [
    "# these will be evenly distributed because we used qcut()\n",
    "merge_cat.HDI_fac.value_counts()"
   ],
   "outputs": [
    {
     "output_type": "execute_result",
     "data": {
      "text/plain": [
       "1_low       53\n",
       "2_medium    52\n",
       "3_high      52\n",
       "Name: HDI_fac, dtype: int64"
      ]
     },
     "metadata": {},
     "execution_count": 26
    }
   ],
   "metadata": {}
  },
  {
   "cell_type": "code",
   "execution_count": 27,
   "source": [
    "# we saw this earlier but here it is as a table\n",
    "corr_mx"
   ],
   "outputs": [
    {
     "output_type": "execute_result",
     "data": {
      "text/plain": [
       "                 HDI  Depression      Food  Democracy\n",
       "HDI         1.000000   -0.439240  0.810395   0.548158\n",
       "Depression -0.439240    1.000000 -0.326157  -0.202256\n",
       "Food        0.810395   -0.326157  1.000000   0.399234\n",
       "Democracy   0.548158   -0.202256  0.399234   1.000000"
      ],
      "text/html": [
       "<div>\n",
       "<style scoped>\n",
       "    .dataframe tbody tr th:only-of-type {\n",
       "        vertical-align: middle;\n",
       "    }\n",
       "\n",
       "    .dataframe tbody tr th {\n",
       "        vertical-align: top;\n",
       "    }\n",
       "\n",
       "    .dataframe thead th {\n",
       "        text-align: right;\n",
       "    }\n",
       "</style>\n",
       "<table border=\"1\" class=\"dataframe\">\n",
       "  <thead>\n",
       "    <tr style=\"text-align: right;\">\n",
       "      <th></th>\n",
       "      <th>HDI</th>\n",
       "      <th>Depression</th>\n",
       "      <th>Food</th>\n",
       "      <th>Democracy</th>\n",
       "    </tr>\n",
       "  </thead>\n",
       "  <tbody>\n",
       "    <tr>\n",
       "      <th>HDI</th>\n",
       "      <td>1.000000</td>\n",
       "      <td>-0.439240</td>\n",
       "      <td>0.810395</td>\n",
       "      <td>0.548158</td>\n",
       "    </tr>\n",
       "    <tr>\n",
       "      <th>Depression</th>\n",
       "      <td>-0.439240</td>\n",
       "      <td>1.000000</td>\n",
       "      <td>-0.326157</td>\n",
       "      <td>-0.202256</td>\n",
       "    </tr>\n",
       "    <tr>\n",
       "      <th>Food</th>\n",
       "      <td>0.810395</td>\n",
       "      <td>-0.326157</td>\n",
       "      <td>1.000000</td>\n",
       "      <td>0.399234</td>\n",
       "    </tr>\n",
       "    <tr>\n",
       "      <th>Democracy</th>\n",
       "      <td>0.548158</td>\n",
       "      <td>-0.202256</td>\n",
       "      <td>0.399234</td>\n",
       "      <td>1.000000</td>\n",
       "    </tr>\n",
       "  </tbody>\n",
       "</table>\n",
       "</div>"
      ]
     },
     "metadata": {},
     "execution_count": 27
    }
   ],
   "metadata": {}
  },
  {
   "cell_type": "markdown",
   "source": [
    "## 4 Regression Models \n",
    "\n",
    "The first model we will try is the simplest, just to get an easy and interpretable model to work with."
   ],
   "metadata": {}
  },
  {
   "cell_type": "markdown",
   "source": [
    "### 4.1 Preparing Train/Test Sets"
   ],
   "metadata": {}
  },
  {
   "cell_type": "code",
   "execution_count": 28,
   "source": [
    "# define the predictors and response variable\n",
    "X = merge[['Depression', 'Food', 'Democracy']]\n",
    "y = merge['HDI']\n"
   ],
   "outputs": [],
   "metadata": {}
  },
  {
   "cell_type": "code",
   "execution_count": 29,
   "source": [
    "from sklearn.model_selection import train_test_split\n",
    "\n",
    "# split data into train/test\n",
    "X_train, X_test, y_train, y_test = train_test_split(X, y, test_size=0.2, random_state=805)"
   ],
   "outputs": [],
   "metadata": {}
  },
  {
   "cell_type": "markdown",
   "source": [
    "#### 4.1.1 Data Scaling\n",
    "\n",
    "We need to scale our data because our predictors are on different scales. Depression is a percentage (1-100), Food is a daily caloric value (~1700-~3800) and Democracy is a decimal score (0-1). This allows for better interpretability with the coefficients. Data scaling can also speed up convergence of more complex models (makes virtually no difference when using simple linear models like we are now)."
   ],
   "metadata": {}
  },
  {
   "cell_type": "code",
   "execution_count": 30,
   "source": [
    "from sklearn.preprocessing import StandardScaler\n",
    "\n",
    "scaler = StandardScaler()\n",
    "\n",
    "X_train_scaled = scaler.fit_transform(X_train)\n",
    "X_test_scaled = scaler.transform(X_test) # transform() inherits the scaling from fit_transform()"
   ],
   "outputs": [],
   "metadata": {}
  },
  {
   "cell_type": "markdown",
   "source": [
    "### 4.2 Multi-Linear Regression"
   ],
   "metadata": {}
  },
  {
   "cell_type": "code",
   "execution_count": 31,
   "source": [
    "from sklearn.linear_model import LinearRegression\n",
    "\n",
    "# create and fit the model\n",
    "mlr = LinearRegression()\n",
    "mlr.fit(X_train_scaled, y_train)"
   ],
   "outputs": [
    {
     "output_type": "execute_result",
     "data": {
      "text/plain": [
       "LinearRegression()"
      ],
      "text/html": [
       "<style>#sk-container-id-1 {color: black;background-color: white;}#sk-container-id-1 pre{padding: 0;}#sk-container-id-1 div.sk-toggleable {background-color: white;}#sk-container-id-1 label.sk-toggleable__label {cursor: pointer;display: block;width: 100%;margin-bottom: 0;padding: 0.3em;box-sizing: border-box;text-align: center;}#sk-container-id-1 label.sk-toggleable__label-arrow:before {content: \"▸\";float: left;margin-right: 0.25em;color: #696969;}#sk-container-id-1 label.sk-toggleable__label-arrow:hover:before {color: black;}#sk-container-id-1 div.sk-estimator:hover label.sk-toggleable__label-arrow:before {color: black;}#sk-container-id-1 div.sk-toggleable__content {max-height: 0;max-width: 0;overflow: hidden;text-align: left;background-color: #f0f8ff;}#sk-container-id-1 div.sk-toggleable__content pre {margin: 0.2em;color: black;border-radius: 0.25em;background-color: #f0f8ff;}#sk-container-id-1 input.sk-toggleable__control:checked~div.sk-toggleable__content {max-height: 200px;max-width: 100%;overflow: auto;}#sk-container-id-1 input.sk-toggleable__control:checked~label.sk-toggleable__label-arrow:before {content: \"▾\";}#sk-container-id-1 div.sk-estimator input.sk-toggleable__control:checked~label.sk-toggleable__label {background-color: #d4ebff;}#sk-container-id-1 div.sk-label input.sk-toggleable__control:checked~label.sk-toggleable__label {background-color: #d4ebff;}#sk-container-id-1 input.sk-hidden--visually {border: 0;clip: rect(1px 1px 1px 1px);clip: rect(1px, 1px, 1px, 1px);height: 1px;margin: -1px;overflow: hidden;padding: 0;position: absolute;width: 1px;}#sk-container-id-1 div.sk-estimator {font-family: monospace;background-color: #f0f8ff;border: 1px dotted black;border-radius: 0.25em;box-sizing: border-box;margin-bottom: 0.5em;}#sk-container-id-1 div.sk-estimator:hover {background-color: #d4ebff;}#sk-container-id-1 div.sk-parallel-item::after {content: \"\";width: 100%;border-bottom: 1px solid gray;flex-grow: 1;}#sk-container-id-1 div.sk-label:hover label.sk-toggleable__label {background-color: #d4ebff;}#sk-container-id-1 div.sk-serial::before {content: \"\";position: absolute;border-left: 1px solid gray;box-sizing: border-box;top: 0;bottom: 0;left: 50%;z-index: 0;}#sk-container-id-1 div.sk-serial {display: flex;flex-direction: column;align-items: center;background-color: white;padding-right: 0.2em;padding-left: 0.2em;position: relative;}#sk-container-id-1 div.sk-item {position: relative;z-index: 1;}#sk-container-id-1 div.sk-parallel {display: flex;align-items: stretch;justify-content: center;background-color: white;position: relative;}#sk-container-id-1 div.sk-item::before, #sk-container-id-1 div.sk-parallel-item::before {content: \"\";position: absolute;border-left: 1px solid gray;box-sizing: border-box;top: 0;bottom: 0;left: 50%;z-index: -1;}#sk-container-id-1 div.sk-parallel-item {display: flex;flex-direction: column;z-index: 1;position: relative;background-color: white;}#sk-container-id-1 div.sk-parallel-item:first-child::after {align-self: flex-end;width: 50%;}#sk-container-id-1 div.sk-parallel-item:last-child::after {align-self: flex-start;width: 50%;}#sk-container-id-1 div.sk-parallel-item:only-child::after {width: 0;}#sk-container-id-1 div.sk-dashed-wrapped {border: 1px dashed gray;margin: 0 0.4em 0.5em 0.4em;box-sizing: border-box;padding-bottom: 0.4em;background-color: white;}#sk-container-id-1 div.sk-label label {font-family: monospace;font-weight: bold;display: inline-block;line-height: 1.2em;}#sk-container-id-1 div.sk-label-container {text-align: center;}#sk-container-id-1 div.sk-container {/* jupyter's `normalize.less` sets `[hidden] { display: none; }` but bootstrap.min.css set `[hidden] { display: none !important; }` so we also need the `!important` here to be able to override the default hidden behavior on the sphinx rendered scikit-learn.org. See: https://github.com/scikit-learn/scikit-learn/issues/21755 */display: inline-block !important;position: relative;}#sk-container-id-1 div.sk-text-repr-fallback {display: none;}</style><div id=\"sk-container-id-1\" class=\"sk-top-container\"><div class=\"sk-text-repr-fallback\"><pre>LinearRegression()</pre><b>In a Jupyter environment, please rerun this cell to show the HTML representation or trust the notebook. <br />On GitHub, the HTML representation is unable to render, please try loading this page with nbviewer.org.</b></div><div class=\"sk-container\" hidden><div class=\"sk-item\"><div class=\"sk-estimator sk-toggleable\"><input class=\"sk-toggleable__control sk-hidden--visually\" id=\"sk-estimator-id-1\" type=\"checkbox\" checked><label for=\"sk-estimator-id-1\" class=\"sk-toggleable__label sk-toggleable__label-arrow\">LinearRegression</label><div class=\"sk-toggleable__content\"><pre>LinearRegression()</pre></div></div></div></div></div>"
      ]
     },
     "metadata": {},
     "execution_count": 31
    }
   ],
   "metadata": {}
  },
  {
   "cell_type": "code",
   "execution_count": 32,
   "source": [
    "# make predictions on the test set\n",
    "y_pred = mlr.predict(X_test_scaled)"
   ],
   "outputs": [],
   "metadata": {}
  },
  {
   "cell_type": "code",
   "execution_count": 33,
   "source": [
    "from sklearn.metrics import mean_absolute_error, mean_squared_error, r2_score\n",
    "\n",
    "print(f'Mean Absolute Error: {mean_absolute_error(y_test, y_pred)}')\n",
    "print(f'Root Mean Squared Error: {mean_squared_error(y_test, y_pred, squared=False)}')\n",
    "print(f'R-squared: {r2_score(y_test, y_pred)}')"
   ],
   "outputs": [
    {
     "output_type": "stream",
     "name": "stdout",
     "text": [
      "Mean Absolute Error: 0.07362594936215394\n",
      "Root Mean Squared Error: 0.08761958803612005\n",
      "R-squared: 0.6067931052687864\n"
     ]
    }
   ],
   "metadata": {}
  },
  {
   "cell_type": "markdown",
   "source": [
    "**Interpreting Performance Metrics**\n",
    "\n",
    "- **MAE:** The average of the absolute difference between actual and predicted. Gives the average of the residuals in model's predictions. Thus, our prediction of HDI is off by $0.07$ on average. You want to see a lower MAE.\n",
    "\n",
    "- **RMSE:** The root of the square of the residuals. Tells us the standard deviation of the residuals (i.e. how much do our results vary). Lower RMSE is good, our residuals have a standard deviation of $0.088$.\n",
    "\n",
    "- **R-Squared:** The percentage of variance explained by our model. We have a moderate fit at $60.68\\%$."
   ],
   "metadata": {}
  },
  {
   "cell_type": "code",
   "execution_count": 34,
   "source": [
    "coeff_df = pd.DataFrame(mlr.coef_, X.columns, columns=['Coefficient'])\n",
    "print(coeff_df)\n",
    "\n",
    "intercept = mlr.intercept_\n",
    "print(f'Intercept: {intercept}')"
   ],
   "outputs": [
    {
     "output_type": "stream",
     "name": "stdout",
     "text": [
      "            Coefficient\n",
      "Depression    -0.030414\n",
      "Food           0.105704\n",
      "Democracy      0.034096\n",
      "Intercept: 0.7270400000000001\n"
     ]
    }
   ],
   "metadata": {}
  },
  {
   "cell_type": "markdown",
   "source": [
    "The coefficients tell us how much the outcome variable will change for every one unit increase of a predictor variable. Unfortunately since we had to scale our data, this means we can't just plug in values, we'd have to scale them beforehand OR make two datasets with a one unit difference and observed the change in HDI.\n",
    "\n",
    "The full formula would look like this:\n",
    "$$-0.03x_1+0.106x_2+0.0341x_3+0.727=\\text{HDI}$$\n",
    "\n",
    "We will now look into machine learning methods to see if we can improve performance at all."
   ],
   "metadata": {}
  },
  {
   "cell_type": "code",
   "execution_count": 35,
   "source": [
    "predictions = pd.DataFrame({'Actual': y_test, 'Predicted': y_pred})\n",
    "\n",
    "alt.Chart(predictions).mark_circle().encode(\n",
    "    x='Actual',\n",
    "    y='Predicted'\n",
    ").properties(\n",
    "    title='Actual vs Predicted HDI'\n",
    ")"
   ],
   "outputs": [
    {
     "output_type": "execute_result",
     "data": {
      "text/plain": [
       "alt.Chart(...)"
      ],
      "text/html": [
       "\n",
       "<div id=\"altair-viz-3cc6b5a6119a4fa9b5acc45efe5b311e\"></div>\n",
       "<script type=\"text/javascript\">\n",
       "  var VEGA_DEBUG = (typeof VEGA_DEBUG == \"undefined\") ? {} : VEGA_DEBUG;\n",
       "  (function(spec, embedOpt){\n",
       "    let outputDiv = document.currentScript.previousElementSibling;\n",
       "    if (outputDiv.id !== \"altair-viz-3cc6b5a6119a4fa9b5acc45efe5b311e\") {\n",
       "      outputDiv = document.getElementById(\"altair-viz-3cc6b5a6119a4fa9b5acc45efe5b311e\");\n",
       "    }\n",
       "    const paths = {\n",
       "      \"vega\": \"https://cdn.jsdelivr.net/npm//vega@5?noext\",\n",
       "      \"vega-lib\": \"https://cdn.jsdelivr.net/npm//vega-lib?noext\",\n",
       "      \"vega-lite\": \"https://cdn.jsdelivr.net/npm//vega-lite@4.17.0?noext\",\n",
       "      \"vega-embed\": \"https://cdn.jsdelivr.net/npm//vega-embed@6?noext\",\n",
       "    };\n",
       "\n",
       "    function maybeLoadScript(lib, version) {\n",
       "      var key = `${lib.replace(\"-\", \"\")}_version`;\n",
       "      return (VEGA_DEBUG[key] == version) ?\n",
       "        Promise.resolve(paths[lib]) :\n",
       "        new Promise(function(resolve, reject) {\n",
       "          var s = document.createElement('script');\n",
       "          document.getElementsByTagName(\"head\")[0].appendChild(s);\n",
       "          s.async = true;\n",
       "          s.onload = () => {\n",
       "            VEGA_DEBUG[key] = version;\n",
       "            return resolve(paths[lib]);\n",
       "          };\n",
       "          s.onerror = () => reject(`Error loading script: ${paths[lib]}`);\n",
       "          s.src = paths[lib];\n",
       "        });\n",
       "    }\n",
       "\n",
       "    function showError(err) {\n",
       "      outputDiv.innerHTML = `<div class=\"error\" style=\"color:red;\">${err}</div>`;\n",
       "      throw err;\n",
       "    }\n",
       "\n",
       "    function displayChart(vegaEmbed) {\n",
       "      vegaEmbed(outputDiv, spec, embedOpt)\n",
       "        .catch(err => showError(`Javascript Error: ${err.message}<br>This usually means there's a typo in your chart specification. See the javascript console for the full traceback.`));\n",
       "    }\n",
       "\n",
       "    if(typeof define === \"function\" && define.amd) {\n",
       "      requirejs.config({paths});\n",
       "      require([\"vega-embed\"], displayChart, err => showError(`Error loading script: ${err.message}`));\n",
       "    } else {\n",
       "      maybeLoadScript(\"vega\", \"5\")\n",
       "        .then(() => maybeLoadScript(\"vega-lite\", \"4.17.0\"))\n",
       "        .then(() => maybeLoadScript(\"vega-embed\", \"6\"))\n",
       "        .catch(showError)\n",
       "        .then(() => displayChart(vegaEmbed));\n",
       "    }\n",
       "  })({\"config\": {\"view\": {\"continuousWidth\": 400, \"continuousHeight\": 300}}, \"data\": {\"name\": \"data-cbdfea71d4599be93b3d8cf60eca26b5\"}, \"mark\": \"circle\", \"encoding\": {\"x\": {\"field\": \"Actual\", \"type\": \"quantitative\"}, \"y\": {\"field\": \"Predicted\", \"type\": \"quantitative\"}}, \"title\": \"Actual vs Predicted HDI\", \"$schema\": \"https://vega.github.io/schema/vega-lite/v4.17.0.json\", \"datasets\": {\"data-cbdfea71d4599be93b3d8cf60eca26b5\": [{\"Actual\": 0.534, \"Predicted\": 0.4854234630445855}, {\"Actual\": 0.465, \"Predicted\": 0.6294284843434894}, {\"Actual\": 0.556, \"Predicted\": 0.7113847523886893}, {\"Actual\": 0.706, \"Predicted\": 0.5860654335383689}, {\"Actual\": 0.571, \"Predicted\": 0.4921313323231652}, {\"Actual\": 0.905, \"Predicted\": 0.8354504566707385}, {\"Actual\": 0.449, \"Predicted\": 0.6411582674913142}, {\"Actual\": 0.947, \"Predicted\": 0.8297310699101617}, {\"Actual\": 0.848, \"Predicted\": 0.8056221874354731}, {\"Actual\": 0.511, \"Predicted\": 0.6642452973892374}, {\"Actual\": 0.745, \"Predicted\": 0.7761627221245634}, {\"Actual\": 0.941, \"Predicted\": 0.8693089482812475}, {\"Actual\": 0.615, \"Predicted\": 0.6549105425232793}, {\"Actual\": 0.727, \"Predicted\": 0.7353460001723894}, {\"Actual\": 0.549, \"Predicted\": 0.5649409583753572}, {\"Actual\": 0.759, \"Predicted\": 0.7954417109486329}, {\"Actual\": 0.714, \"Predicted\": 0.6921823756500538}, {\"Actual\": 0.607, \"Predicted\": 0.6830632982468052}, {\"Actual\": 0.576, \"Predicted\": 0.6323875068963234}, {\"Actual\": 0.709, \"Predicted\": 0.7676979776933861}, {\"Actual\": 0.565, \"Predicted\": 0.5148517102821304}, {\"Actual\": 0.78, \"Predicted\": 0.8560337792438324}, {\"Actual\": 0.632, \"Predicted\": 0.7525274359368272}, {\"Actual\": 0.805, \"Predicted\": 0.776205584671465}, {\"Actual\": 0.8, \"Predicted\": 0.699204066413337}, {\"Actual\": 0.782, \"Predicted\": 0.7330725754582007}, {\"Actual\": 0.706, \"Predicted\": 0.6751963224170433}, {\"Actual\": 0.876, \"Predicted\": 0.9302835527811831}, {\"Actual\": 0.693, \"Predicted\": 0.5962357995463876}, {\"Actual\": 0.903, \"Predicted\": 0.9065251640431785}, {\"Actual\": 0.821, \"Predicted\": 0.9419252532581893}, {\"Actual\": 0.842, \"Predicted\": 0.9082490013746066}]}}, {\"mode\": \"vega-lite\"});\n",
       "</script>"
      ]
     },
     "metadata": {},
     "execution_count": 35
    }
   ],
   "metadata": {}
  },
  {
   "cell_type": "code",
   "execution_count": 36,
   "source": [
    "coefficients = pd.DataFrame({'Variable': ['Depression', 'Food', 'Democracy'], 'Coefficient': mlr.coef_})\n",
    "\n",
    "coef_plot = alt.Chart(coefficients).mark_bar().encode(\n",
    "    x = alt.X(\n",
    "        'Coefficient:Q', \n",
    "        title='Coefficient'\n",
    "        ),\n",
    "    y = alt.Y(\n",
    "        'Variable:O', \n",
    "        title='Variable', \n",
    "        sort=None\n",
    "        ),\n",
    "    color=alt.Color(\n",
    "        'Coefficient:Q',\n",
    "        scale=alt.Scale(scheme='redblue', domainMid=0) #domainMid=0 centers the color scale at 0\n",
    "    )\n",
    ").properties(\n",
    "    title='Coefficients'\n",
    ")\n",
    "\n",
    "coef_plot"
   ],
   "outputs": [
    {
     "output_type": "execute_result",
     "data": {
      "text/plain": [
       "alt.Chart(...)"
      ],
      "text/html": [
       "\n",
       "<div id=\"altair-viz-c01b1d339a1e47ff8541a7d2e29df58b\"></div>\n",
       "<script type=\"text/javascript\">\n",
       "  var VEGA_DEBUG = (typeof VEGA_DEBUG == \"undefined\") ? {} : VEGA_DEBUG;\n",
       "  (function(spec, embedOpt){\n",
       "    let outputDiv = document.currentScript.previousElementSibling;\n",
       "    if (outputDiv.id !== \"altair-viz-c01b1d339a1e47ff8541a7d2e29df58b\") {\n",
       "      outputDiv = document.getElementById(\"altair-viz-c01b1d339a1e47ff8541a7d2e29df58b\");\n",
       "    }\n",
       "    const paths = {\n",
       "      \"vega\": \"https://cdn.jsdelivr.net/npm//vega@5?noext\",\n",
       "      \"vega-lib\": \"https://cdn.jsdelivr.net/npm//vega-lib?noext\",\n",
       "      \"vega-lite\": \"https://cdn.jsdelivr.net/npm//vega-lite@4.17.0?noext\",\n",
       "      \"vega-embed\": \"https://cdn.jsdelivr.net/npm//vega-embed@6?noext\",\n",
       "    };\n",
       "\n",
       "    function maybeLoadScript(lib, version) {\n",
       "      var key = `${lib.replace(\"-\", \"\")}_version`;\n",
       "      return (VEGA_DEBUG[key] == version) ?\n",
       "        Promise.resolve(paths[lib]) :\n",
       "        new Promise(function(resolve, reject) {\n",
       "          var s = document.createElement('script');\n",
       "          document.getElementsByTagName(\"head\")[0].appendChild(s);\n",
       "          s.async = true;\n",
       "          s.onload = () => {\n",
       "            VEGA_DEBUG[key] = version;\n",
       "            return resolve(paths[lib]);\n",
       "          };\n",
       "          s.onerror = () => reject(`Error loading script: ${paths[lib]}`);\n",
       "          s.src = paths[lib];\n",
       "        });\n",
       "    }\n",
       "\n",
       "    function showError(err) {\n",
       "      outputDiv.innerHTML = `<div class=\"error\" style=\"color:red;\">${err}</div>`;\n",
       "      throw err;\n",
       "    }\n",
       "\n",
       "    function displayChart(vegaEmbed) {\n",
       "      vegaEmbed(outputDiv, spec, embedOpt)\n",
       "        .catch(err => showError(`Javascript Error: ${err.message}<br>This usually means there's a typo in your chart specification. See the javascript console for the full traceback.`));\n",
       "    }\n",
       "\n",
       "    if(typeof define === \"function\" && define.amd) {\n",
       "      requirejs.config({paths});\n",
       "      require([\"vega-embed\"], displayChart, err => showError(`Error loading script: ${err.message}`));\n",
       "    } else {\n",
       "      maybeLoadScript(\"vega\", \"5\")\n",
       "        .then(() => maybeLoadScript(\"vega-lite\", \"4.17.0\"))\n",
       "        .then(() => maybeLoadScript(\"vega-embed\", \"6\"))\n",
       "        .catch(showError)\n",
       "        .then(() => displayChart(vegaEmbed));\n",
       "    }\n",
       "  })({\"config\": {\"view\": {\"continuousWidth\": 400, \"continuousHeight\": 300}}, \"data\": {\"name\": \"data-2e9712377a86d3fec4179ab23837285c\"}, \"mark\": \"bar\", \"encoding\": {\"color\": {\"field\": \"Coefficient\", \"scale\": {\"domainMid\": 0, \"scheme\": \"redblue\"}, \"type\": \"quantitative\"}, \"x\": {\"field\": \"Coefficient\", \"title\": \"Coefficient\", \"type\": \"quantitative\"}, \"y\": {\"field\": \"Variable\", \"sort\": null, \"title\": \"Variable\", \"type\": \"ordinal\"}}, \"title\": \"Coefficients\", \"$schema\": \"https://vega.github.io/schema/vega-lite/v4.17.0.json\", \"datasets\": {\"data-2e9712377a86d3fec4179ab23837285c\": [{\"Variable\": \"Depression\", \"Coefficient\": -0.03041430753167137}, {\"Variable\": \"Food\", \"Coefficient\": 0.10570414425398143}, {\"Variable\": \"Democracy\", \"Coefficient\": 0.034095557528999995}]}}, {\"mode\": \"vega-lite\"});\n",
       "</script>"
      ]
     },
     "metadata": {},
     "execution_count": 36
    }
   ],
   "metadata": {}
  },
  {
   "cell_type": "markdown",
   "source": [
    "### 4.2 Machine Learning Regression Pipelines"
   ],
   "metadata": {}
  },
  {
   "cell_type": "code",
   "execution_count": 37,
   "source": [
    "import pandas as pd\n",
    "from sklearn.model_selection import train_test_split\n",
    "from sklearn.pipeline import Pipeline\n",
    "from sklearn.linear_model import LinearRegression, Ridge, Lasso\n",
    "from sklearn.ensemble import RandomForestRegressor, GradientBoostingRegressor\n",
    "from sklearn.svm import SVR\n",
    "from sklearn.metrics import mean_absolute_error, r2_score, mean_squared_error\n"
   ],
   "outputs": [],
   "metadata": {}
  },
  {
   "cell_type": "code",
   "execution_count": 38,
   "source": [
    "# define models as a dictionary\n",
    "models = {\n",
    "    'Linear Regression': LinearRegression(),\n",
    "    'Ridge': Ridge(),\n",
    "    'Lasso': Lasso(),\n",
    "    'Random Forest': RandomForestRegressor(),\n",
    "    'Gradient Boosting': GradientBoostingRegressor(),\n",
    "    'Support Vector Regressor': SVR()\n",
    "}\n",
    "\n",
    "# empty dictionary to models results\n",
    "results = {}"
   ],
   "outputs": [],
   "metadata": {}
  },
  {
   "cell_type": "markdown",
   "source": [
    "**Note:** There are other ways to create a modeling pipeline, however, using a dictionary is more modular as it allows you to access the models after they've been trained (Calling fit on a dictionary object modifies the actual object rather than the copy)."
   ],
   "metadata": {}
  },
  {
   "cell_type": "code",
   "execution_count": 39,
   "source": [
    "# use a loop to iterate over models\n",
    "for name, model in models.items():\n",
    "\n",
    "    model.fit(X_train_scaled, y_train) # fit the model on SCALED training data\n",
    "\n",
    "    y_pred = model.predict(X_test_scaled) # make predictions on SCALED test data\n",
    "    \n",
    "    # store results\n",
    "    results[name] = {\n",
    "        'R-squared': r2_score(y_test, y_pred),\n",
    "        'Root Mean Square Error': mean_squared_error(y_test, y_pred, squared=False)\n",
    "    }\n",
    "\n",
    "# print\n",
    "for name, metrics in results.items():\n",
    "    print(f'Model: {name}')\n",
    "    for metric_name, metric_value in metrics.items():\n",
    "        print(f'{metric_name}: {metric_value}')\n",
    "    print('---------------------')"
   ],
   "outputs": [
    {
     "output_type": "stream",
     "name": "stdout",
     "text": [
      "Model: Linear Regression\n",
      "R-squared: 0.6067931052687864\n",
      "Root Mean Square Error: 0.08761958803612005\n",
      "---------------------\n",
      "Model: Ridge\n",
      "R-squared: 0.6079759777978622\n",
      "Root Mean Square Error: 0.0874876970787954\n",
      "---------------------\n",
      "Model: Lasso\n",
      "R-squared: -0.019618050121264163\n",
      "Root Mean Square Error: 0.14109427823267676\n",
      "---------------------\n",
      "Model: Random Forest\n",
      "R-squared: 0.6964253224516731\n",
      "Root Mean Square Error: 0.07698806705425204\n",
      "---------------------\n",
      "Model: Gradient Boosting\n",
      "R-squared: 0.6149589745008635\n",
      "Root Mean Square Error: 0.08670500095960647\n",
      "---------------------\n",
      "Model: Support Vector Regressor\n",
      "R-squared: 0.6279057783492374\n",
      "Root Mean Square Error: 0.0852348316308298\n",
      "---------------------\n"
     ]
    }
   ],
   "metadata": {}
  },
  {
   "cell_type": "code",
   "execution_count": 40,
   "source": [
    "# 'results' is a dictionary with little dictionaries inside it\n",
    "results"
   ],
   "outputs": [
    {
     "output_type": "execute_result",
     "data": {
      "text/plain": [
       "{'Linear Regression': {'R-squared': 0.6067931052687864,\n",
       "  'Root Mean Square Error': 0.08761958803612005},\n",
       " 'Ridge': {'R-squared': 0.6079759777978622,\n",
       "  'Root Mean Square Error': 0.0874876970787954},\n",
       " 'Lasso': {'R-squared': -0.019618050121264163,\n",
       "  'Root Mean Square Error': 0.14109427823267676},\n",
       " 'Random Forest': {'R-squared': 0.6964253224516731,\n",
       "  'Root Mean Square Error': 0.07698806705425204},\n",
       " 'Gradient Boosting': {'R-squared': 0.6149589745008635,\n",
       "  'Root Mean Square Error': 0.08670500095960647},\n",
       " 'Support Vector Regressor': {'R-squared': 0.6279057783492374,\n",
       "  'Root Mean Square Error': 0.0852348316308298}}"
      ]
     },
     "metadata": {},
     "execution_count": 40
    }
   ],
   "metadata": {}
  },
  {
   "cell_type": "markdown",
   "source": [
    "### 4.3 Accessing Pipeline Models\n",
    "\n",
    "Let's say we wanted to see the feature importances from the Random Forest model. We can do that below."
   ],
   "metadata": {}
  },
  {
   "cell_type": "code",
   "execution_count": 41,
   "source": [
    "# grab the model from the models dictionary\n",
    "random_forest_model = models['Random Forest']"
   ],
   "outputs": [],
   "metadata": {}
  },
  {
   "cell_type": "code",
   "execution_count": 42,
   "source": [
    "# store the feature importances\n",
    "rf_feature_importances = random_forest_model.feature_importances_\n",
    "\n",
    "# preview\n",
    "rf_feature_importances\n"
   ],
   "outputs": [
    {
     "output_type": "execute_result",
     "data": {
      "text/plain": [
       "array([0.13962192, 0.69321616, 0.16716193])"
      ]
     },
     "metadata": {},
     "execution_count": 42
    }
   ],
   "metadata": {}
  },
  {
   "cell_type": "code",
   "execution_count": 43,
   "source": [
    "# store in a dataframe for easier viewing\n",
    "features_df = pd.DataFrame(\n",
    "    {\n",
    "    'Feature': X.columns,\n",
    "    'Importance': rf_feature_importances\n",
    "    }\n",
    "    ).sort_values(by='Importance', ascending=False)\n",
    "\n",
    "print(features_df)"
   ],
   "outputs": [
    {
     "output_type": "stream",
     "name": "stdout",
     "text": [
      "      Feature  Importance\n",
      "1        Food    0.693216\n",
      "2   Democracy    0.167162\n",
      "0  Depression    0.139622\n"
     ]
    }
   ],
   "metadata": {}
  },
  {
   "cell_type": "markdown",
   "source": [
    "### 4.4 What Happened to Lasso?\n",
    "\n",
    "You may have noticed the Lasso regression model *severely* underperformed (it had a negative $R^2$ score) Let's try and fix it."
   ],
   "metadata": {}
  },
  {
   "cell_type": "code",
   "execution_count": 44,
   "source": [
    "from sklearn.model_selection import GridSearchCV\n",
    "\n",
    "# define a range of values to see if we can improve\n",
    "# the default alpha for Lasso() is 1.0\n",
    "alpha_values = {'alpha': [0.0001, 0.001, 0.01, 0.1, 1, 10, 100]}\n",
    "\n",
    "# searches for the best alpha value from the ones provided\n",
    "grid_search = GridSearchCV(Lasso(), alpha_values, cv=5)\n",
    "\n",
    "# still need to fit to our scaled data\n",
    "grid_search.fit(X_train_scaled, y_train)\n",
    "best_alpha = grid_search.best_params_['alpha']\n",
    "\n",
    "# print\n",
    "print(f'Best alpha value: {best_alpha}')\n"
   ],
   "outputs": [
    {
     "output_type": "stream",
     "name": "stdout",
     "text": [
      "Best alpha value: 0.001\n"
     ]
    }
   ],
   "metadata": {}
  },
  {
   "cell_type": "markdown",
   "source": [
    "side note: $cv=5$ splits the data into 5 \"folds\". This is called Cross-Validation. The model is trained on k-1 folds and tested on the excluded fold. This is repeated k-times, which means all folds had a chance to be treated as the test data. The performance from all k processes is averaged to give a single measure.\n",
    "\n",
    "So the total number of models trained by the code above is $k \\times m$. Where $cv = 5 = k$ and $m = 7$ (number of hyperparameters provided).\n",
    "\n",
    "$m$ is just all possible combinations of the hyperparameters. So if you had two hyperparameters, each with 6 possible values, then the total models trained would be $(6 \\times 6) \\times k$. "
   ],
   "metadata": {}
  },
  {
   "cell_type": "code",
   "execution_count": null,
   "source": [],
   "outputs": [],
   "metadata": {}
  },
  {
   "cell_type": "markdown",
   "source": [],
   "metadata": {}
  },
  {
   "cell_type": "markdown",
   "source": [
    "We notice that the optimal alpha value is 0.001. Perhaps this can fix our model."
   ],
   "metadata": {}
  },
  {
   "cell_type": "code",
   "execution_count": 45,
   "source": [
    "# train a new Lasso model using the best alpha value\n",
    "lasso_best = Lasso(alpha=best_alpha)\n",
    "lasso_best.fit(X_train_scaled, y_train)\n",
    "\n",
    "y_pred = lasso_best.predict(X_test_scaled)\n",
    "\n",
    "# print performance metrics for the new model\n",
    "print(f'R-squared: {r2_score(y_test, y_pred)}')\n",
    "print(f'Root Mean Square Error: {mean_squared_error(y_test, y_pred, squared=False)}')\n"
   ],
   "outputs": [
    {
     "output_type": "stream",
     "name": "stdout",
     "text": [
      "R-squared: 0.6082588464739689\n",
      "Root Mean Square Error: 0.08745612759138932\n"
     ]
    }
   ],
   "metadata": {}
  },
  {
   "cell_type": "markdown",
   "source": [
    "We can see that R-Squared and RMSE improved. It appears the default alpha value was holding back our previous model."
   ],
   "metadata": {}
  },
  {
   "cell_type": "markdown",
   "source": [
    "### 4.5 Other Hyperparamter Tuning\n",
    "\n",
    "Since we were able to improve Lasso so much through hyperparameter tuning, perhaps we can improve our other models as well. "
   ],
   "metadata": {}
  },
  {
   "cell_type": "code",
   "execution_count": 49,
   "source": [
    "# we need yet another dictionary\n",
    "hyperparameters = {\n",
    "    'Ridge': {\n",
    "        'alpha': [0.01, 0.1, 1, 10, 100]\n",
    "    },\n",
    "    'Lasso': {\n",
    "        'alpha': [0.0001, 0.001, 0.01, 0.1, 1, 10, 100]\n",
    "    },\n",
    "    'Random Forest': {\n",
    "        'n_estimators': [10, 50, 100, 200],\n",
    "        'max_depth': [None, 10, 20, 30, 40]\n",
    "    },\n",
    "    'Gradient Boosting': {\n",
    "        'n_estimators': [10, 50, 100, 200],\n",
    "        'learning_rate': [0.01, 0.1, 1, 10]\n",
    "    },\n",
    "    'Support Vector Regressor': {\n",
    "        'C': [0.01, 0.1, 1, 10],\n",
    "        'epsilon': [0.01, 0.1, 1, 10]\n",
    "    }\n",
    "}\n",
    "\n",
    "# empty dictionary for models\n",
    "best_models = {}\n",
    "\n",
    "# empty dictionary for results\n",
    "results_cv = {}"
   ],
   "outputs": [],
   "metadata": {}
  },
  {
   "cell_type": "code",
   "execution_count": 50,
   "source": [
    "hyperparameters['Random Forest']"
   ],
   "outputs": [
    {
     "output_type": "execute_result",
     "data": {
      "text/plain": [
       "{'n_estimators': [10, 50, 100, 200], 'max_depth': [None, 10, 20, 30, 40]}"
      ]
     },
     "metadata": {},
     "execution_count": 50
    }
   ],
   "metadata": {}
  },
  {
   "cell_type": "code",
   "execution_count": 51,
   "source": [
    "# iterate through the models\n",
    "for name, model in models.items():\n",
    "    # loop for if hyperparameters exist\n",
    "    if name in hyperparameters:\n",
    "        \n",
    "        grid_search = GridSearchCV(model, hyperparameters[name], cv=5)\n",
    "        grid_search.fit(X_train_scaled, y_train)\n",
    "        \n",
    "        # store the best model\n",
    "        best_models[name] = grid_search.best_estimator_\n",
    "\n",
    "        # make predictions with the best model\n",
    "        y_pred = grid_search.best_estimator_.predict(X_test_scaled)\n",
    "\n",
    "        # save best params\n",
    "        best_parameters = grid_search.best_params_\n",
    "\n",
    "    else:\n",
    "        # if no hyperparameters were set\n",
    "        model.fit(X_train_scaled, y_train)\n",
    "        best_models[name] = model\n",
    "        y_pred = model.predict(X_test_scaled)\n",
    "        best_parameters = {}\n",
    "    \n",
    "    \n",
    "    # store results\n",
    "    results_cv[name] = {\n",
    "        'R-squared': r2_score(y_test, y_pred),\n",
    "        'Root Mean Square Error': mean_squared_error(y_test, y_pred, squared=False),\n",
    "        'Optimal Hyperparameters': best_parameters\n",
    "    }"
   ],
   "outputs": [
    {
     "output_type": "stream",
     "name": "stderr",
     "text": [
      "/Users/krish/opt/anaconda3/envs/p1/lib/python3.9/site-packages/sklearn/ensemble/_gb_losses.py:231: RuntimeWarning: overflow encountered in square\n",
      "  * np.sum(sample_weight * ((y - raw_predictions.ravel()) ** 2))\n",
      "/Users/krish/opt/anaconda3/envs/p1/lib/python3.9/site-packages/sklearn/ensemble/_gb_losses.py:231: RuntimeWarning: overflow encountered in square\n",
      "  * np.sum(sample_weight * ((y - raw_predictions.ravel()) ** 2))\n",
      "/Users/krish/opt/anaconda3/envs/p1/lib/python3.9/site-packages/numpy/core/fromnumeric.py:86: RuntimeWarning: overflow encountered in reduce\n",
      "  return ufunc.reduce(obj, axis, dtype, out, **passkwargs)\n",
      "/Users/krish/opt/anaconda3/envs/p1/lib/python3.9/site-packages/sklearn/ensemble/_gb_losses.py:231: RuntimeWarning: overflow encountered in square\n",
      "  * np.sum(sample_weight * ((y - raw_predictions.ravel()) ** 2))\n",
      "/Users/krish/opt/anaconda3/envs/p1/lib/python3.9/site-packages/sklearn/ensemble/_gb_losses.py:231: RuntimeWarning: overflow encountered in square\n",
      "  * np.sum(sample_weight * ((y - raw_predictions.ravel()) ** 2))\n",
      "/Users/krish/opt/anaconda3/envs/p1/lib/python3.9/site-packages/sklearn/ensemble/_gb_losses.py:231: RuntimeWarning: overflow encountered in square\n",
      "  * np.sum(sample_weight * ((y - raw_predictions.ravel()) ** 2))\n",
      "/Users/krish/opt/anaconda3/envs/p1/lib/python3.9/site-packages/sklearn/ensemble/_gb_losses.py:231: RuntimeWarning: overflow encountered in square\n",
      "  * np.sum(sample_weight * ((y - raw_predictions.ravel()) ** 2))\n",
      "/Users/krish/opt/anaconda3/envs/p1/lib/python3.9/site-packages/sklearn/ensemble/_gb_losses.py:231: RuntimeWarning: overflow encountered in square\n",
      "  * np.sum(sample_weight * ((y - raw_predictions.ravel()) ** 2))\n",
      "/Users/krish/opt/anaconda3/envs/p1/lib/python3.9/site-packages/sklearn/ensemble/_gb_losses.py:231: RuntimeWarning: overflow encountered in square\n",
      "  * np.sum(sample_weight * ((y - raw_predictions.ravel()) ** 2))\n",
      "/Users/krish/opt/anaconda3/envs/p1/lib/python3.9/site-packages/sklearn/ensemble/_gb_losses.py:231: RuntimeWarning: overflow encountered in square\n",
      "  * np.sum(sample_weight * ((y - raw_predictions.ravel()) ** 2))\n",
      "/Users/krish/opt/anaconda3/envs/p1/lib/python3.9/site-packages/sklearn/ensemble/_gb_losses.py:231: RuntimeWarning: overflow encountered in square\n",
      "  * np.sum(sample_weight * ((y - raw_predictions.ravel()) ** 2))\n",
      "/Users/krish/opt/anaconda3/envs/p1/lib/python3.9/site-packages/sklearn/ensemble/_gb_losses.py:231: RuntimeWarning: overflow encountered in square\n",
      "  * np.sum(sample_weight * ((y - raw_predictions.ravel()) ** 2))\n",
      "/Users/krish/opt/anaconda3/envs/p1/lib/python3.9/site-packages/sklearn/ensemble/_gb_losses.py:231: RuntimeWarning: overflow encountered in square\n",
      "  * np.sum(sample_weight * ((y - raw_predictions.ravel()) ** 2))\n",
      "/Users/krish/opt/anaconda3/envs/p1/lib/python3.9/site-packages/sklearn/ensemble/_gb_losses.py:231: RuntimeWarning: overflow encountered in square\n",
      "  * np.sum(sample_weight * ((y - raw_predictions.ravel()) ** 2))\n",
      "/Users/krish/opt/anaconda3/envs/p1/lib/python3.9/site-packages/sklearn/ensemble/_gb_losses.py:231: RuntimeWarning: overflow encountered in square\n",
      "  * np.sum(sample_weight * ((y - raw_predictions.ravel()) ** 2))\n",
      "/Users/krish/opt/anaconda3/envs/p1/lib/python3.9/site-packages/sklearn/ensemble/_gb_losses.py:231: RuntimeWarning: overflow encountered in square\n",
      "  * np.sum(sample_weight * ((y - raw_predictions.ravel()) ** 2))\n",
      "/Users/krish/opt/anaconda3/envs/p1/lib/python3.9/site-packages/sklearn/ensemble/_gb_losses.py:231: RuntimeWarning: overflow encountered in square\n",
      "  * np.sum(sample_weight * ((y - raw_predictions.ravel()) ** 2))\n",
      "/Users/krish/opt/anaconda3/envs/p1/lib/python3.9/site-packages/sklearn/ensemble/_gb_losses.py:231: RuntimeWarning: overflow encountered in square\n",
      "  * np.sum(sample_weight * ((y - raw_predictions.ravel()) ** 2))\n",
      "/Users/krish/opt/anaconda3/envs/p1/lib/python3.9/site-packages/sklearn/ensemble/_gb_losses.py:231: RuntimeWarning: overflow encountered in square\n",
      "  * np.sum(sample_weight * ((y - raw_predictions.ravel()) ** 2))\n",
      "/Users/krish/opt/anaconda3/envs/p1/lib/python3.9/site-packages/sklearn/ensemble/_gb_losses.py:231: RuntimeWarning: overflow encountered in square\n",
      "  * np.sum(sample_weight * ((y - raw_predictions.ravel()) ** 2))\n",
      "/Users/krish/opt/anaconda3/envs/p1/lib/python3.9/site-packages/sklearn/ensemble/_gb_losses.py:231: RuntimeWarning: overflow encountered in square\n",
      "  * np.sum(sample_weight * ((y - raw_predictions.ravel()) ** 2))\n",
      "/Users/krish/opt/anaconda3/envs/p1/lib/python3.9/site-packages/sklearn/ensemble/_gb_losses.py:231: RuntimeWarning: overflow encountered in square\n",
      "  * np.sum(sample_weight * ((y - raw_predictions.ravel()) ** 2))\n",
      "/Users/krish/opt/anaconda3/envs/p1/lib/python3.9/site-packages/sklearn/ensemble/_gb_losses.py:231: RuntimeWarning: overflow encountered in square\n",
      "  * np.sum(sample_weight * ((y - raw_predictions.ravel()) ** 2))\n",
      "/Users/krish/opt/anaconda3/envs/p1/lib/python3.9/site-packages/sklearn/ensemble/_gb_losses.py:231: RuntimeWarning: overflow encountered in square\n",
      "  * np.sum(sample_weight * ((y - raw_predictions.ravel()) ** 2))\n",
      "/Users/krish/opt/anaconda3/envs/p1/lib/python3.9/site-packages/sklearn/ensemble/_gb_losses.py:231: RuntimeWarning: overflow encountered in square\n",
      "  * np.sum(sample_weight * ((y - raw_predictions.ravel()) ** 2))\n",
      "/Users/krish/opt/anaconda3/envs/p1/lib/python3.9/site-packages/sklearn/ensemble/_gb_losses.py:231: RuntimeWarning: overflow encountered in square\n",
      "  * np.sum(sample_weight * ((y - raw_predictions.ravel()) ** 2))\n",
      "/Users/krish/opt/anaconda3/envs/p1/lib/python3.9/site-packages/sklearn/ensemble/_gb_losses.py:231: RuntimeWarning: overflow encountered in square\n",
      "  * np.sum(sample_weight * ((y - raw_predictions.ravel()) ** 2))\n",
      "/Users/krish/opt/anaconda3/envs/p1/lib/python3.9/site-packages/sklearn/ensemble/_gb_losses.py:231: RuntimeWarning: overflow encountered in square\n",
      "  * np.sum(sample_weight * ((y - raw_predictions.ravel()) ** 2))\n",
      "/Users/krish/opt/anaconda3/envs/p1/lib/python3.9/site-packages/sklearn/ensemble/_gb_losses.py:231: RuntimeWarning: overflow encountered in square\n",
      "  * np.sum(sample_weight * ((y - raw_predictions.ravel()) ** 2))\n",
      "/Users/krish/opt/anaconda3/envs/p1/lib/python3.9/site-packages/sklearn/ensemble/_gb_losses.py:231: RuntimeWarning: overflow encountered in square\n",
      "  * np.sum(sample_weight * ((y - raw_predictions.ravel()) ** 2))\n",
      "/Users/krish/opt/anaconda3/envs/p1/lib/python3.9/site-packages/sklearn/ensemble/_gb_losses.py:231: RuntimeWarning: overflow encountered in square\n",
      "  * np.sum(sample_weight * ((y - raw_predictions.ravel()) ** 2))\n",
      "/Users/krish/opt/anaconda3/envs/p1/lib/python3.9/site-packages/sklearn/ensemble/_gb_losses.py:231: RuntimeWarning: overflow encountered in square\n",
      "  * np.sum(sample_weight * ((y - raw_predictions.ravel()) ** 2))\n",
      "/Users/krish/opt/anaconda3/envs/p1/lib/python3.9/site-packages/sklearn/ensemble/_gb_losses.py:231: RuntimeWarning: overflow encountered in square\n",
      "  * np.sum(sample_weight * ((y - raw_predictions.ravel()) ** 2))\n",
      "/Users/krish/opt/anaconda3/envs/p1/lib/python3.9/site-packages/sklearn/ensemble/_gb_losses.py:231: RuntimeWarning: overflow encountered in square\n",
      "  * np.sum(sample_weight * ((y - raw_predictions.ravel()) ** 2))\n",
      "/Users/krish/opt/anaconda3/envs/p1/lib/python3.9/site-packages/sklearn/ensemble/_gb_losses.py:231: RuntimeWarning: overflow encountered in square\n",
      "  * np.sum(sample_weight * ((y - raw_predictions.ravel()) ** 2))\n",
      "/Users/krish/opt/anaconda3/envs/p1/lib/python3.9/site-packages/sklearn/ensemble/_gb_losses.py:231: RuntimeWarning: overflow encountered in square\n",
      "  * np.sum(sample_weight * ((y - raw_predictions.ravel()) ** 2))\n",
      "/Users/krish/opt/anaconda3/envs/p1/lib/python3.9/site-packages/sklearn/ensemble/_gb_losses.py:231: RuntimeWarning: overflow encountered in square\n",
      "  * np.sum(sample_weight * ((y - raw_predictions.ravel()) ** 2))\n",
      "/Users/krish/opt/anaconda3/envs/p1/lib/python3.9/site-packages/sklearn/ensemble/_gb_losses.py:231: RuntimeWarning: overflow encountered in square\n",
      "  * np.sum(sample_weight * ((y - raw_predictions.ravel()) ** 2))\n",
      "/Users/krish/opt/anaconda3/envs/p1/lib/python3.9/site-packages/sklearn/ensemble/_gb_losses.py:231: RuntimeWarning: overflow encountered in square\n",
      "  * np.sum(sample_weight * ((y - raw_predictions.ravel()) ** 2))\n",
      "/Users/krish/opt/anaconda3/envs/p1/lib/python3.9/site-packages/sklearn/metrics/_regression.py:927: RuntimeWarning: overflow encountered in square\n",
      "  numerator = (weight * (y_true - y_pred) ** 2).sum(axis=0, dtype=np.float64)\n",
      "/Users/krish/opt/anaconda3/envs/p1/lib/python3.9/site-packages/sklearn/ensemble/_gb_losses.py:231: RuntimeWarning: overflow encountered in square\n",
      "  * np.sum(sample_weight * ((y - raw_predictions.ravel()) ** 2))\n",
      "/Users/krish/opt/anaconda3/envs/p1/lib/python3.9/site-packages/sklearn/ensemble/_gb_losses.py:231: RuntimeWarning: overflow encountered in square\n",
      "  * np.sum(sample_weight * ((y - raw_predictions.ravel()) ** 2))\n",
      "/Users/krish/opt/anaconda3/envs/p1/lib/python3.9/site-packages/numpy/core/fromnumeric.py:86: RuntimeWarning: overflow encountered in reduce\n",
      "  return ufunc.reduce(obj, axis, dtype, out, **passkwargs)\n",
      "/Users/krish/opt/anaconda3/envs/p1/lib/python3.9/site-packages/sklearn/ensemble/_gb_losses.py:231: RuntimeWarning: overflow encountered in square\n",
      "  * np.sum(sample_weight * ((y - raw_predictions.ravel()) ** 2))\n",
      "/Users/krish/opt/anaconda3/envs/p1/lib/python3.9/site-packages/sklearn/ensemble/_gb_losses.py:231: RuntimeWarning: overflow encountered in square\n",
      "  * np.sum(sample_weight * ((y - raw_predictions.ravel()) ** 2))\n",
      "/Users/krish/opt/anaconda3/envs/p1/lib/python3.9/site-packages/sklearn/ensemble/_gb_losses.py:231: RuntimeWarning: overflow encountered in square\n",
      "  * np.sum(sample_weight * ((y - raw_predictions.ravel()) ** 2))\n",
      "/Users/krish/opt/anaconda3/envs/p1/lib/python3.9/site-packages/sklearn/ensemble/_gb_losses.py:231: RuntimeWarning: overflow encountered in square\n",
      "  * np.sum(sample_weight * ((y - raw_predictions.ravel()) ** 2))\n",
      "/Users/krish/opt/anaconda3/envs/p1/lib/python3.9/site-packages/sklearn/ensemble/_gb_losses.py:231: RuntimeWarning: overflow encountered in square\n",
      "  * np.sum(sample_weight * ((y - raw_predictions.ravel()) ** 2))\n",
      "/Users/krish/opt/anaconda3/envs/p1/lib/python3.9/site-packages/sklearn/ensemble/_gb_losses.py:231: RuntimeWarning: overflow encountered in square\n",
      "  * np.sum(sample_weight * ((y - raw_predictions.ravel()) ** 2))\n",
      "/Users/krish/opt/anaconda3/envs/p1/lib/python3.9/site-packages/sklearn/ensemble/_gb_losses.py:231: RuntimeWarning: overflow encountered in square\n",
      "  * np.sum(sample_weight * ((y - raw_predictions.ravel()) ** 2))\n",
      "/Users/krish/opt/anaconda3/envs/p1/lib/python3.9/site-packages/sklearn/ensemble/_gb_losses.py:231: RuntimeWarning: overflow encountered in square\n",
      "  * np.sum(sample_weight * ((y - raw_predictions.ravel()) ** 2))\n",
      "/Users/krish/opt/anaconda3/envs/p1/lib/python3.9/site-packages/sklearn/ensemble/_gb_losses.py:231: RuntimeWarning: overflow encountered in square\n",
      "  * np.sum(sample_weight * ((y - raw_predictions.ravel()) ** 2))\n",
      "/Users/krish/opt/anaconda3/envs/p1/lib/python3.9/site-packages/sklearn/ensemble/_gb_losses.py:231: RuntimeWarning: overflow encountered in square\n",
      "  * np.sum(sample_weight * ((y - raw_predictions.ravel()) ** 2))\n",
      "/Users/krish/opt/anaconda3/envs/p1/lib/python3.9/site-packages/sklearn/ensemble/_gb_losses.py:231: RuntimeWarning: overflow encountered in square\n",
      "  * np.sum(sample_weight * ((y - raw_predictions.ravel()) ** 2))\n",
      "/Users/krish/opt/anaconda3/envs/p1/lib/python3.9/site-packages/sklearn/ensemble/_gb_losses.py:231: RuntimeWarning: overflow encountered in square\n",
      "  * np.sum(sample_weight * ((y - raw_predictions.ravel()) ** 2))\n",
      "/Users/krish/opt/anaconda3/envs/p1/lib/python3.9/site-packages/sklearn/ensemble/_gb_losses.py:231: RuntimeWarning: overflow encountered in square\n",
      "  * np.sum(sample_weight * ((y - raw_predictions.ravel()) ** 2))\n",
      "/Users/krish/opt/anaconda3/envs/p1/lib/python3.9/site-packages/sklearn/ensemble/_gb_losses.py:231: RuntimeWarning: overflow encountered in square\n",
      "  * np.sum(sample_weight * ((y - raw_predictions.ravel()) ** 2))\n",
      "/Users/krish/opt/anaconda3/envs/p1/lib/python3.9/site-packages/sklearn/ensemble/_gb_losses.py:231: RuntimeWarning: overflow encountered in square\n",
      "  * np.sum(sample_weight * ((y - raw_predictions.ravel()) ** 2))\n",
      "/Users/krish/opt/anaconda3/envs/p1/lib/python3.9/site-packages/sklearn/ensemble/_gb_losses.py:231: RuntimeWarning: overflow encountered in square\n",
      "  * np.sum(sample_weight * ((y - raw_predictions.ravel()) ** 2))\n",
      "/Users/krish/opt/anaconda3/envs/p1/lib/python3.9/site-packages/sklearn/ensemble/_gb_losses.py:231: RuntimeWarning: overflow encountered in square\n",
      "  * np.sum(sample_weight * ((y - raw_predictions.ravel()) ** 2))\n",
      "/Users/krish/opt/anaconda3/envs/p1/lib/python3.9/site-packages/sklearn/ensemble/_gb_losses.py:231: RuntimeWarning: overflow encountered in square\n",
      "  * np.sum(sample_weight * ((y - raw_predictions.ravel()) ** 2))\n",
      "/Users/krish/opt/anaconda3/envs/p1/lib/python3.9/site-packages/sklearn/ensemble/_gb_losses.py:231: RuntimeWarning: overflow encountered in square\n",
      "  * np.sum(sample_weight * ((y - raw_predictions.ravel()) ** 2))\n",
      "/Users/krish/opt/anaconda3/envs/p1/lib/python3.9/site-packages/sklearn/ensemble/_gb_losses.py:231: RuntimeWarning: overflow encountered in square\n",
      "  * np.sum(sample_weight * ((y - raw_predictions.ravel()) ** 2))\n",
      "/Users/krish/opt/anaconda3/envs/p1/lib/python3.9/site-packages/sklearn/ensemble/_gb_losses.py:231: RuntimeWarning: overflow encountered in square\n",
      "  * np.sum(sample_weight * ((y - raw_predictions.ravel()) ** 2))\n",
      "/Users/krish/opt/anaconda3/envs/p1/lib/python3.9/site-packages/sklearn/ensemble/_gb_losses.py:231: RuntimeWarning: overflow encountered in square\n",
      "  * np.sum(sample_weight * ((y - raw_predictions.ravel()) ** 2))\n",
      "/Users/krish/opt/anaconda3/envs/p1/lib/python3.9/site-packages/sklearn/ensemble/_gb_losses.py:231: RuntimeWarning: overflow encountered in square\n",
      "  * np.sum(sample_weight * ((y - raw_predictions.ravel()) ** 2))\n",
      "/Users/krish/opt/anaconda3/envs/p1/lib/python3.9/site-packages/sklearn/ensemble/_gb_losses.py:231: RuntimeWarning: overflow encountered in square\n",
      "  * np.sum(sample_weight * ((y - raw_predictions.ravel()) ** 2))\n",
      "/Users/krish/opt/anaconda3/envs/p1/lib/python3.9/site-packages/sklearn/ensemble/_gb_losses.py:231: RuntimeWarning: overflow encountered in square\n",
      "  * np.sum(sample_weight * ((y - raw_predictions.ravel()) ** 2))\n",
      "/Users/krish/opt/anaconda3/envs/p1/lib/python3.9/site-packages/sklearn/ensemble/_gb_losses.py:231: RuntimeWarning: overflow encountered in square\n",
      "  * np.sum(sample_weight * ((y - raw_predictions.ravel()) ** 2))\n",
      "/Users/krish/opt/anaconda3/envs/p1/lib/python3.9/site-packages/sklearn/ensemble/_gb_losses.py:231: RuntimeWarning: overflow encountered in square\n",
      "  * np.sum(sample_weight * ((y - raw_predictions.ravel()) ** 2))\n",
      "/Users/krish/opt/anaconda3/envs/p1/lib/python3.9/site-packages/sklearn/ensemble/_gb_losses.py:231: RuntimeWarning: overflow encountered in square\n",
      "  * np.sum(sample_weight * ((y - raw_predictions.ravel()) ** 2))\n",
      "/Users/krish/opt/anaconda3/envs/p1/lib/python3.9/site-packages/sklearn/ensemble/_gb_losses.py:231: RuntimeWarning: overflow encountered in square\n",
      "  * np.sum(sample_weight * ((y - raw_predictions.ravel()) ** 2))\n",
      "/Users/krish/opt/anaconda3/envs/p1/lib/python3.9/site-packages/sklearn/ensemble/_gb_losses.py:231: RuntimeWarning: overflow encountered in square\n",
      "  * np.sum(sample_weight * ((y - raw_predictions.ravel()) ** 2))\n",
      "/Users/krish/opt/anaconda3/envs/p1/lib/python3.9/site-packages/sklearn/ensemble/_gb_losses.py:231: RuntimeWarning: overflow encountered in square\n",
      "  * np.sum(sample_weight * ((y - raw_predictions.ravel()) ** 2))\n",
      "/Users/krish/opt/anaconda3/envs/p1/lib/python3.9/site-packages/sklearn/ensemble/_gb_losses.py:231: RuntimeWarning: overflow encountered in square\n",
      "  * np.sum(sample_weight * ((y - raw_predictions.ravel()) ** 2))\n",
      "/Users/krish/opt/anaconda3/envs/p1/lib/python3.9/site-packages/sklearn/ensemble/_gb_losses.py:231: RuntimeWarning: overflow encountered in square\n",
      "  * np.sum(sample_weight * ((y - raw_predictions.ravel()) ** 2))\n",
      "/Users/krish/opt/anaconda3/envs/p1/lib/python3.9/site-packages/sklearn/ensemble/_gb_losses.py:231: RuntimeWarning: overflow encountered in square\n",
      "  * np.sum(sample_weight * ((y - raw_predictions.ravel()) ** 2))\n",
      "/Users/krish/opt/anaconda3/envs/p1/lib/python3.9/site-packages/sklearn/ensemble/_gb_losses.py:231: RuntimeWarning: overflow encountered in square\n",
      "  * np.sum(sample_weight * ((y - raw_predictions.ravel()) ** 2))\n",
      "/Users/krish/opt/anaconda3/envs/p1/lib/python3.9/site-packages/sklearn/ensemble/_gb_losses.py:231: RuntimeWarning: overflow encountered in square\n",
      "  * np.sum(sample_weight * ((y - raw_predictions.ravel()) ** 2))\n",
      "/Users/krish/opt/anaconda3/envs/p1/lib/python3.9/site-packages/sklearn/metrics/_regression.py:927: RuntimeWarning: overflow encountered in square\n",
      "  numerator = (weight * (y_true - y_pred) ** 2).sum(axis=0, dtype=np.float64)\n",
      "/Users/krish/opt/anaconda3/envs/p1/lib/python3.9/site-packages/sklearn/ensemble/_gb_losses.py:231: RuntimeWarning: overflow encountered in square\n",
      "  * np.sum(sample_weight * ((y - raw_predictions.ravel()) ** 2))\n",
      "/Users/krish/opt/anaconda3/envs/p1/lib/python3.9/site-packages/sklearn/ensemble/_gb_losses.py:231: RuntimeWarning: overflow encountered in square\n",
      "  * np.sum(sample_weight * ((y - raw_predictions.ravel()) ** 2))\n",
      "/Users/krish/opt/anaconda3/envs/p1/lib/python3.9/site-packages/numpy/core/fromnumeric.py:86: RuntimeWarning: overflow encountered in reduce\n",
      "  return ufunc.reduce(obj, axis, dtype, out, **passkwargs)\n",
      "/Users/krish/opt/anaconda3/envs/p1/lib/python3.9/site-packages/sklearn/ensemble/_gb_losses.py:231: RuntimeWarning: overflow encountered in square\n",
      "  * np.sum(sample_weight * ((y - raw_predictions.ravel()) ** 2))\n",
      "/Users/krish/opt/anaconda3/envs/p1/lib/python3.9/site-packages/numpy/core/fromnumeric.py:86: RuntimeWarning: overflow encountered in reduce\n",
      "  return ufunc.reduce(obj, axis, dtype, out, **passkwargs)\n",
      "/Users/krish/opt/anaconda3/envs/p1/lib/python3.9/site-packages/sklearn/ensemble/_gb_losses.py:231: RuntimeWarning: overflow encountered in square\n",
      "  * np.sum(sample_weight * ((y - raw_predictions.ravel()) ** 2))\n",
      "/Users/krish/opt/anaconda3/envs/p1/lib/python3.9/site-packages/sklearn/ensemble/_gb_losses.py:231: RuntimeWarning: overflow encountered in square\n",
      "  * np.sum(sample_weight * ((y - raw_predictions.ravel()) ** 2))\n",
      "/Users/krish/opt/anaconda3/envs/p1/lib/python3.9/site-packages/sklearn/ensemble/_gb_losses.py:231: RuntimeWarning: overflow encountered in square\n",
      "  * np.sum(sample_weight * ((y - raw_predictions.ravel()) ** 2))\n",
      "/Users/krish/opt/anaconda3/envs/p1/lib/python3.9/site-packages/sklearn/ensemble/_gb_losses.py:231: RuntimeWarning: overflow encountered in square\n",
      "  * np.sum(sample_weight * ((y - raw_predictions.ravel()) ** 2))\n",
      "/Users/krish/opt/anaconda3/envs/p1/lib/python3.9/site-packages/sklearn/ensemble/_gb_losses.py:231: RuntimeWarning: overflow encountered in square\n",
      "  * np.sum(sample_weight * ((y - raw_predictions.ravel()) ** 2))\n",
      "/Users/krish/opt/anaconda3/envs/p1/lib/python3.9/site-packages/sklearn/ensemble/_gb_losses.py:231: RuntimeWarning: overflow encountered in square\n",
      "  * np.sum(sample_weight * ((y - raw_predictions.ravel()) ** 2))\n",
      "/Users/krish/opt/anaconda3/envs/p1/lib/python3.9/site-packages/sklearn/ensemble/_gb_losses.py:231: RuntimeWarning: overflow encountered in square\n",
      "  * np.sum(sample_weight * ((y - raw_predictions.ravel()) ** 2))\n",
      "/Users/krish/opt/anaconda3/envs/p1/lib/python3.9/site-packages/sklearn/ensemble/_gb_losses.py:231: RuntimeWarning: overflow encountered in square\n",
      "  * np.sum(sample_weight * ((y - raw_predictions.ravel()) ** 2))\n",
      "/Users/krish/opt/anaconda3/envs/p1/lib/python3.9/site-packages/sklearn/ensemble/_gb_losses.py:231: RuntimeWarning: overflow encountered in square\n",
      "  * np.sum(sample_weight * ((y - raw_predictions.ravel()) ** 2))\n",
      "/Users/krish/opt/anaconda3/envs/p1/lib/python3.9/site-packages/sklearn/ensemble/_gb_losses.py:231: RuntimeWarning: overflow encountered in square\n",
      "  * np.sum(sample_weight * ((y - raw_predictions.ravel()) ** 2))\n",
      "/Users/krish/opt/anaconda3/envs/p1/lib/python3.9/site-packages/sklearn/ensemble/_gb_losses.py:231: RuntimeWarning: overflow encountered in square\n",
      "  * np.sum(sample_weight * ((y - raw_predictions.ravel()) ** 2))\n",
      "/Users/krish/opt/anaconda3/envs/p1/lib/python3.9/site-packages/sklearn/ensemble/_gb_losses.py:231: RuntimeWarning: overflow encountered in square\n",
      "  * np.sum(sample_weight * ((y - raw_predictions.ravel()) ** 2))\n",
      "/Users/krish/opt/anaconda3/envs/p1/lib/python3.9/site-packages/sklearn/ensemble/_gb_losses.py:231: RuntimeWarning: overflow encountered in square\n",
      "  * np.sum(sample_weight * ((y - raw_predictions.ravel()) ** 2))\n",
      "/Users/krish/opt/anaconda3/envs/p1/lib/python3.9/site-packages/sklearn/ensemble/_gb_losses.py:231: RuntimeWarning: overflow encountered in square\n",
      "  * np.sum(sample_weight * ((y - raw_predictions.ravel()) ** 2))\n",
      "/Users/krish/opt/anaconda3/envs/p1/lib/python3.9/site-packages/sklearn/ensemble/_gb_losses.py:231: RuntimeWarning: overflow encountered in square\n",
      "  * np.sum(sample_weight * ((y - raw_predictions.ravel()) ** 2))\n",
      "/Users/krish/opt/anaconda3/envs/p1/lib/python3.9/site-packages/sklearn/ensemble/_gb_losses.py:231: RuntimeWarning: overflow encountered in square\n",
      "  * np.sum(sample_weight * ((y - raw_predictions.ravel()) ** 2))\n",
      "/Users/krish/opt/anaconda3/envs/p1/lib/python3.9/site-packages/sklearn/ensemble/_gb_losses.py:231: RuntimeWarning: overflow encountered in square\n",
      "  * np.sum(sample_weight * ((y - raw_predictions.ravel()) ** 2))\n",
      "/Users/krish/opt/anaconda3/envs/p1/lib/python3.9/site-packages/sklearn/ensemble/_gb_losses.py:231: RuntimeWarning: overflow encountered in square\n",
      "  * np.sum(sample_weight * ((y - raw_predictions.ravel()) ** 2))\n",
      "/Users/krish/opt/anaconda3/envs/p1/lib/python3.9/site-packages/sklearn/ensemble/_gb_losses.py:231: RuntimeWarning: overflow encountered in square\n",
      "  * np.sum(sample_weight * ((y - raw_predictions.ravel()) ** 2))\n",
      "/Users/krish/opt/anaconda3/envs/p1/lib/python3.9/site-packages/sklearn/ensemble/_gb_losses.py:231: RuntimeWarning: overflow encountered in square\n",
      "  * np.sum(sample_weight * ((y - raw_predictions.ravel()) ** 2))\n",
      "/Users/krish/opt/anaconda3/envs/p1/lib/python3.9/site-packages/sklearn/ensemble/_gb_losses.py:231: RuntimeWarning: overflow encountered in square\n",
      "  * np.sum(sample_weight * ((y - raw_predictions.ravel()) ** 2))\n",
      "/Users/krish/opt/anaconda3/envs/p1/lib/python3.9/site-packages/sklearn/ensemble/_gb_losses.py:231: RuntimeWarning: overflow encountered in square\n",
      "  * np.sum(sample_weight * ((y - raw_predictions.ravel()) ** 2))\n",
      "/Users/krish/opt/anaconda3/envs/p1/lib/python3.9/site-packages/sklearn/ensemble/_gb_losses.py:231: RuntimeWarning: overflow encountered in square\n",
      "  * np.sum(sample_weight * ((y - raw_predictions.ravel()) ** 2))\n",
      "/Users/krish/opt/anaconda3/envs/p1/lib/python3.9/site-packages/sklearn/ensemble/_gb_losses.py:231: RuntimeWarning: overflow encountered in square\n",
      "  * np.sum(sample_weight * ((y - raw_predictions.ravel()) ** 2))\n",
      "/Users/krish/opt/anaconda3/envs/p1/lib/python3.9/site-packages/sklearn/ensemble/_gb_losses.py:231: RuntimeWarning: overflow encountered in square\n",
      "  * np.sum(sample_weight * ((y - raw_predictions.ravel()) ** 2))\n",
      "/Users/krish/opt/anaconda3/envs/p1/lib/python3.9/site-packages/sklearn/ensemble/_gb_losses.py:231: RuntimeWarning: overflow encountered in square\n",
      "  * np.sum(sample_weight * ((y - raw_predictions.ravel()) ** 2))\n",
      "/Users/krish/opt/anaconda3/envs/p1/lib/python3.9/site-packages/sklearn/ensemble/_gb_losses.py:231: RuntimeWarning: overflow encountered in square\n",
      "  * np.sum(sample_weight * ((y - raw_predictions.ravel()) ** 2))\n",
      "/Users/krish/opt/anaconda3/envs/p1/lib/python3.9/site-packages/sklearn/ensemble/_gb_losses.py:231: RuntimeWarning: overflow encountered in square\n",
      "  * np.sum(sample_weight * ((y - raw_predictions.ravel()) ** 2))\n",
      "/Users/krish/opt/anaconda3/envs/p1/lib/python3.9/site-packages/sklearn/ensemble/_gb_losses.py:231: RuntimeWarning: overflow encountered in square\n",
      "  * np.sum(sample_weight * ((y - raw_predictions.ravel()) ** 2))\n",
      "/Users/krish/opt/anaconda3/envs/p1/lib/python3.9/site-packages/sklearn/ensemble/_gb_losses.py:231: RuntimeWarning: overflow encountered in square\n",
      "  * np.sum(sample_weight * ((y - raw_predictions.ravel()) ** 2))\n",
      "/Users/krish/opt/anaconda3/envs/p1/lib/python3.9/site-packages/sklearn/ensemble/_gb_losses.py:231: RuntimeWarning: overflow encountered in square\n",
      "  * np.sum(sample_weight * ((y - raw_predictions.ravel()) ** 2))\n",
      "/Users/krish/opt/anaconda3/envs/p1/lib/python3.9/site-packages/sklearn/ensemble/_gb_losses.py:231: RuntimeWarning: overflow encountered in square\n",
      "  * np.sum(sample_weight * ((y - raw_predictions.ravel()) ** 2))\n",
      "/Users/krish/opt/anaconda3/envs/p1/lib/python3.9/site-packages/sklearn/ensemble/_gb_losses.py:231: RuntimeWarning: overflow encountered in square\n",
      "  * np.sum(sample_weight * ((y - raw_predictions.ravel()) ** 2))\n",
      "/Users/krish/opt/anaconda3/envs/p1/lib/python3.9/site-packages/sklearn/ensemble/_gb_losses.py:231: RuntimeWarning: overflow encountered in square\n",
      "  * np.sum(sample_weight * ((y - raw_predictions.ravel()) ** 2))\n",
      "/Users/krish/opt/anaconda3/envs/p1/lib/python3.9/site-packages/sklearn/ensemble/_gb_losses.py:231: RuntimeWarning: overflow encountered in square\n",
      "  * np.sum(sample_weight * ((y - raw_predictions.ravel()) ** 2))\n",
      "/Users/krish/opt/anaconda3/envs/p1/lib/python3.9/site-packages/sklearn/metrics/_regression.py:927: RuntimeWarning: overflow encountered in square\n",
      "  numerator = (weight * (y_true - y_pred) ** 2).sum(axis=0, dtype=np.float64)\n",
      "/Users/krish/opt/anaconda3/envs/p1/lib/python3.9/site-packages/sklearn/ensemble/_gb_losses.py:231: RuntimeWarning: overflow encountered in square\n",
      "  * np.sum(sample_weight * ((y - raw_predictions.ravel()) ** 2))\n",
      "/Users/krish/opt/anaconda3/envs/p1/lib/python3.9/site-packages/sklearn/ensemble/_gb_losses.py:231: RuntimeWarning: overflow encountered in square\n",
      "  * np.sum(sample_weight * ((y - raw_predictions.ravel()) ** 2))\n",
      "/Users/krish/opt/anaconda3/envs/p1/lib/python3.9/site-packages/numpy/core/fromnumeric.py:86: RuntimeWarning: overflow encountered in reduce\n",
      "  return ufunc.reduce(obj, axis, dtype, out, **passkwargs)\n",
      "/Users/krish/opt/anaconda3/envs/p1/lib/python3.9/site-packages/sklearn/ensemble/_gb_losses.py:231: RuntimeWarning: overflow encountered in square\n",
      "  * np.sum(sample_weight * ((y - raw_predictions.ravel()) ** 2))\n",
      "/Users/krish/opt/anaconda3/envs/p1/lib/python3.9/site-packages/sklearn/ensemble/_gb_losses.py:231: RuntimeWarning: overflow encountered in square\n",
      "  * np.sum(sample_weight * ((y - raw_predictions.ravel()) ** 2))\n",
      "/Users/krish/opt/anaconda3/envs/p1/lib/python3.9/site-packages/sklearn/ensemble/_gb_losses.py:231: RuntimeWarning: overflow encountered in square\n",
      "  * np.sum(sample_weight * ((y - raw_predictions.ravel()) ** 2))\n",
      "/Users/krish/opt/anaconda3/envs/p1/lib/python3.9/site-packages/sklearn/ensemble/_gb_losses.py:231: RuntimeWarning: overflow encountered in square\n",
      "  * np.sum(sample_weight * ((y - raw_predictions.ravel()) ** 2))\n",
      "/Users/krish/opt/anaconda3/envs/p1/lib/python3.9/site-packages/sklearn/ensemble/_gb_losses.py:231: RuntimeWarning: overflow encountered in square\n",
      "  * np.sum(sample_weight * ((y - raw_predictions.ravel()) ** 2))\n",
      "/Users/krish/opt/anaconda3/envs/p1/lib/python3.9/site-packages/sklearn/ensemble/_gb_losses.py:231: RuntimeWarning: overflow encountered in square\n",
      "  * np.sum(sample_weight * ((y - raw_predictions.ravel()) ** 2))\n",
      "/Users/krish/opt/anaconda3/envs/p1/lib/python3.9/site-packages/sklearn/ensemble/_gb_losses.py:231: RuntimeWarning: overflow encountered in square\n",
      "  * np.sum(sample_weight * ((y - raw_predictions.ravel()) ** 2))\n",
      "/Users/krish/opt/anaconda3/envs/p1/lib/python3.9/site-packages/sklearn/ensemble/_gb_losses.py:231: RuntimeWarning: overflow encountered in square\n",
      "  * np.sum(sample_weight * ((y - raw_predictions.ravel()) ** 2))\n",
      "/Users/krish/opt/anaconda3/envs/p1/lib/python3.9/site-packages/sklearn/ensemble/_gb_losses.py:231: RuntimeWarning: overflow encountered in square\n",
      "  * np.sum(sample_weight * ((y - raw_predictions.ravel()) ** 2))\n",
      "/Users/krish/opt/anaconda3/envs/p1/lib/python3.9/site-packages/sklearn/ensemble/_gb_losses.py:231: RuntimeWarning: overflow encountered in square\n",
      "  * np.sum(sample_weight * ((y - raw_predictions.ravel()) ** 2))\n",
      "/Users/krish/opt/anaconda3/envs/p1/lib/python3.9/site-packages/sklearn/ensemble/_gb_losses.py:231: RuntimeWarning: overflow encountered in square\n",
      "  * np.sum(sample_weight * ((y - raw_predictions.ravel()) ** 2))\n",
      "/Users/krish/opt/anaconda3/envs/p1/lib/python3.9/site-packages/sklearn/ensemble/_gb_losses.py:231: RuntimeWarning: overflow encountered in square\n",
      "  * np.sum(sample_weight * ((y - raw_predictions.ravel()) ** 2))\n",
      "/Users/krish/opt/anaconda3/envs/p1/lib/python3.9/site-packages/sklearn/ensemble/_gb_losses.py:231: RuntimeWarning: overflow encountered in square\n",
      "  * np.sum(sample_weight * ((y - raw_predictions.ravel()) ** 2))\n",
      "/Users/krish/opt/anaconda3/envs/p1/lib/python3.9/site-packages/sklearn/ensemble/_gb_losses.py:231: RuntimeWarning: overflow encountered in square\n",
      "  * np.sum(sample_weight * ((y - raw_predictions.ravel()) ** 2))\n",
      "/Users/krish/opt/anaconda3/envs/p1/lib/python3.9/site-packages/sklearn/ensemble/_gb_losses.py:231: RuntimeWarning: overflow encountered in square\n",
      "  * np.sum(sample_weight * ((y - raw_predictions.ravel()) ** 2))\n",
      "/Users/krish/opt/anaconda3/envs/p1/lib/python3.9/site-packages/sklearn/ensemble/_gb_losses.py:231: RuntimeWarning: overflow encountered in square\n",
      "  * np.sum(sample_weight * ((y - raw_predictions.ravel()) ** 2))\n",
      "/Users/krish/opt/anaconda3/envs/p1/lib/python3.9/site-packages/sklearn/ensemble/_gb_losses.py:231: RuntimeWarning: overflow encountered in square\n",
      "  * np.sum(sample_weight * ((y - raw_predictions.ravel()) ** 2))\n",
      "/Users/krish/opt/anaconda3/envs/p1/lib/python3.9/site-packages/sklearn/ensemble/_gb_losses.py:231: RuntimeWarning: overflow encountered in square\n",
      "  * np.sum(sample_weight * ((y - raw_predictions.ravel()) ** 2))\n",
      "/Users/krish/opt/anaconda3/envs/p1/lib/python3.9/site-packages/sklearn/ensemble/_gb_losses.py:231: RuntimeWarning: overflow encountered in square\n",
      "  * np.sum(sample_weight * ((y - raw_predictions.ravel()) ** 2))\n",
      "/Users/krish/opt/anaconda3/envs/p1/lib/python3.9/site-packages/sklearn/ensemble/_gb_losses.py:231: RuntimeWarning: overflow encountered in square\n",
      "  * np.sum(sample_weight * ((y - raw_predictions.ravel()) ** 2))\n",
      "/Users/krish/opt/anaconda3/envs/p1/lib/python3.9/site-packages/sklearn/ensemble/_gb_losses.py:231: RuntimeWarning: overflow encountered in square\n",
      "  * np.sum(sample_weight * ((y - raw_predictions.ravel()) ** 2))\n",
      "/Users/krish/opt/anaconda3/envs/p1/lib/python3.9/site-packages/sklearn/ensemble/_gb_losses.py:231: RuntimeWarning: overflow encountered in square\n",
      "  * np.sum(sample_weight * ((y - raw_predictions.ravel()) ** 2))\n",
      "/Users/krish/opt/anaconda3/envs/p1/lib/python3.9/site-packages/sklearn/ensemble/_gb_losses.py:231: RuntimeWarning: overflow encountered in square\n",
      "  * np.sum(sample_weight * ((y - raw_predictions.ravel()) ** 2))\n",
      "/Users/krish/opt/anaconda3/envs/p1/lib/python3.9/site-packages/sklearn/ensemble/_gb_losses.py:231: RuntimeWarning: overflow encountered in square\n",
      "  * np.sum(sample_weight * ((y - raw_predictions.ravel()) ** 2))\n",
      "/Users/krish/opt/anaconda3/envs/p1/lib/python3.9/site-packages/sklearn/ensemble/_gb_losses.py:231: RuntimeWarning: overflow encountered in square\n",
      "  * np.sum(sample_weight * ((y - raw_predictions.ravel()) ** 2))\n",
      "/Users/krish/opt/anaconda3/envs/p1/lib/python3.9/site-packages/sklearn/ensemble/_gb_losses.py:231: RuntimeWarning: overflow encountered in square\n",
      "  * np.sum(sample_weight * ((y - raw_predictions.ravel()) ** 2))\n",
      "/Users/krish/opt/anaconda3/envs/p1/lib/python3.9/site-packages/sklearn/ensemble/_gb_losses.py:231: RuntimeWarning: overflow encountered in square\n",
      "  * np.sum(sample_weight * ((y - raw_predictions.ravel()) ** 2))\n",
      "/Users/krish/opt/anaconda3/envs/p1/lib/python3.9/site-packages/sklearn/ensemble/_gb_losses.py:231: RuntimeWarning: overflow encountered in square\n",
      "  * np.sum(sample_weight * ((y - raw_predictions.ravel()) ** 2))\n",
      "/Users/krish/opt/anaconda3/envs/p1/lib/python3.9/site-packages/sklearn/ensemble/_gb_losses.py:231: RuntimeWarning: overflow encountered in square\n",
      "  * np.sum(sample_weight * ((y - raw_predictions.ravel()) ** 2))\n",
      "/Users/krish/opt/anaconda3/envs/p1/lib/python3.9/site-packages/sklearn/ensemble/_gb_losses.py:231: RuntimeWarning: overflow encountered in square\n",
      "  * np.sum(sample_weight * ((y - raw_predictions.ravel()) ** 2))\n",
      "/Users/krish/opt/anaconda3/envs/p1/lib/python3.9/site-packages/sklearn/ensemble/_gb_losses.py:231: RuntimeWarning: overflow encountered in square\n",
      "  * np.sum(sample_weight * ((y - raw_predictions.ravel()) ** 2))\n",
      "/Users/krish/opt/anaconda3/envs/p1/lib/python3.9/site-packages/sklearn/ensemble/_gb_losses.py:231: RuntimeWarning: overflow encountered in square\n",
      "  * np.sum(sample_weight * ((y - raw_predictions.ravel()) ** 2))\n",
      "/Users/krish/opt/anaconda3/envs/p1/lib/python3.9/site-packages/sklearn/ensemble/_gb_losses.py:231: RuntimeWarning: overflow encountered in square\n",
      "  * np.sum(sample_weight * ((y - raw_predictions.ravel()) ** 2))\n",
      "/Users/krish/opt/anaconda3/envs/p1/lib/python3.9/site-packages/sklearn/ensemble/_gb_losses.py:231: RuntimeWarning: overflow encountered in square\n",
      "  * np.sum(sample_weight * ((y - raw_predictions.ravel()) ** 2))\n",
      "/Users/krish/opt/anaconda3/envs/p1/lib/python3.9/site-packages/sklearn/ensemble/_gb_losses.py:231: RuntimeWarning: overflow encountered in square\n",
      "  * np.sum(sample_weight * ((y - raw_predictions.ravel()) ** 2))\n",
      "/Users/krish/opt/anaconda3/envs/p1/lib/python3.9/site-packages/sklearn/metrics/_regression.py:927: RuntimeWarning: overflow encountered in square\n",
      "  numerator = (weight * (y_true - y_pred) ** 2).sum(axis=0, dtype=np.float64)\n",
      "/Users/krish/opt/anaconda3/envs/p1/lib/python3.9/site-packages/numpy/core/fromnumeric.py:86: RuntimeWarning: overflow encountered in reduce\n",
      "  return ufunc.reduce(obj, axis, dtype, out, **passkwargs)\n",
      "/Users/krish/opt/anaconda3/envs/p1/lib/python3.9/site-packages/sklearn/ensemble/_gb_losses.py:231: RuntimeWarning: overflow encountered in square\n",
      "  * np.sum(sample_weight * ((y - raw_predictions.ravel()) ** 2))\n",
      "/Users/krish/opt/anaconda3/envs/p1/lib/python3.9/site-packages/numpy/core/fromnumeric.py:86: RuntimeWarning: overflow encountered in reduce\n",
      "  return ufunc.reduce(obj, axis, dtype, out, **passkwargs)\n",
      "/Users/krish/opt/anaconda3/envs/p1/lib/python3.9/site-packages/sklearn/ensemble/_gb_losses.py:231: RuntimeWarning: overflow encountered in square\n",
      "  * np.sum(sample_weight * ((y - raw_predictions.ravel()) ** 2))\n",
      "/Users/krish/opt/anaconda3/envs/p1/lib/python3.9/site-packages/sklearn/ensemble/_gb_losses.py:231: RuntimeWarning: overflow encountered in square\n",
      "  * np.sum(sample_weight * ((y - raw_predictions.ravel()) ** 2))\n",
      "/Users/krish/opt/anaconda3/envs/p1/lib/python3.9/site-packages/numpy/core/fromnumeric.py:86: RuntimeWarning: overflow encountered in reduce\n",
      "  return ufunc.reduce(obj, axis, dtype, out, **passkwargs)\n",
      "/Users/krish/opt/anaconda3/envs/p1/lib/python3.9/site-packages/sklearn/ensemble/_gb_losses.py:231: RuntimeWarning: overflow encountered in square\n",
      "  * np.sum(sample_weight * ((y - raw_predictions.ravel()) ** 2))\n",
      "/Users/krish/opt/anaconda3/envs/p1/lib/python3.9/site-packages/sklearn/ensemble/_gb_losses.py:231: RuntimeWarning: overflow encountered in square\n",
      "  * np.sum(sample_weight * ((y - raw_predictions.ravel()) ** 2))\n",
      "/Users/krish/opt/anaconda3/envs/p1/lib/python3.9/site-packages/sklearn/ensemble/_gb_losses.py:231: RuntimeWarning: overflow encountered in square\n",
      "  * np.sum(sample_weight * ((y - raw_predictions.ravel()) ** 2))\n",
      "/Users/krish/opt/anaconda3/envs/p1/lib/python3.9/site-packages/sklearn/ensemble/_gb_losses.py:231: RuntimeWarning: overflow encountered in square\n",
      "  * np.sum(sample_weight * ((y - raw_predictions.ravel()) ** 2))\n",
      "/Users/krish/opt/anaconda3/envs/p1/lib/python3.9/site-packages/sklearn/ensemble/_gb_losses.py:231: RuntimeWarning: overflow encountered in square\n",
      "  * np.sum(sample_weight * ((y - raw_predictions.ravel()) ** 2))\n",
      "/Users/krish/opt/anaconda3/envs/p1/lib/python3.9/site-packages/sklearn/ensemble/_gb_losses.py:231: RuntimeWarning: overflow encountered in square\n",
      "  * np.sum(sample_weight * ((y - raw_predictions.ravel()) ** 2))\n",
      "/Users/krish/opt/anaconda3/envs/p1/lib/python3.9/site-packages/sklearn/ensemble/_gb_losses.py:231: RuntimeWarning: overflow encountered in square\n",
      "  * np.sum(sample_weight * ((y - raw_predictions.ravel()) ** 2))\n",
      "/Users/krish/opt/anaconda3/envs/p1/lib/python3.9/site-packages/sklearn/ensemble/_gb_losses.py:231: RuntimeWarning: overflow encountered in square\n",
      "  * np.sum(sample_weight * ((y - raw_predictions.ravel()) ** 2))\n",
      "/Users/krish/opt/anaconda3/envs/p1/lib/python3.9/site-packages/sklearn/ensemble/_gb_losses.py:231: RuntimeWarning: overflow encountered in square\n",
      "  * np.sum(sample_weight * ((y - raw_predictions.ravel()) ** 2))\n",
      "/Users/krish/opt/anaconda3/envs/p1/lib/python3.9/site-packages/sklearn/ensemble/_gb_losses.py:231: RuntimeWarning: overflow encountered in square\n",
      "  * np.sum(sample_weight * ((y - raw_predictions.ravel()) ** 2))\n",
      "/Users/krish/opt/anaconda3/envs/p1/lib/python3.9/site-packages/sklearn/ensemble/_gb_losses.py:231: RuntimeWarning: overflow encountered in square\n",
      "  * np.sum(sample_weight * ((y - raw_predictions.ravel()) ** 2))\n",
      "/Users/krish/opt/anaconda3/envs/p1/lib/python3.9/site-packages/sklearn/ensemble/_gb_losses.py:231: RuntimeWarning: overflow encountered in square\n",
      "  * np.sum(sample_weight * ((y - raw_predictions.ravel()) ** 2))\n",
      "/Users/krish/opt/anaconda3/envs/p1/lib/python3.9/site-packages/sklearn/ensemble/_gb_losses.py:231: RuntimeWarning: overflow encountered in square\n",
      "  * np.sum(sample_weight * ((y - raw_predictions.ravel()) ** 2))\n",
      "/Users/krish/opt/anaconda3/envs/p1/lib/python3.9/site-packages/sklearn/ensemble/_gb_losses.py:231: RuntimeWarning: overflow encountered in square\n",
      "  * np.sum(sample_weight * ((y - raw_predictions.ravel()) ** 2))\n",
      "/Users/krish/opt/anaconda3/envs/p1/lib/python3.9/site-packages/sklearn/ensemble/_gb_losses.py:231: RuntimeWarning: overflow encountered in square\n",
      "  * np.sum(sample_weight * ((y - raw_predictions.ravel()) ** 2))\n",
      "/Users/krish/opt/anaconda3/envs/p1/lib/python3.9/site-packages/sklearn/ensemble/_gb_losses.py:231: RuntimeWarning: overflow encountered in square\n",
      "  * np.sum(sample_weight * ((y - raw_predictions.ravel()) ** 2))\n",
      "/Users/krish/opt/anaconda3/envs/p1/lib/python3.9/site-packages/sklearn/ensemble/_gb_losses.py:231: RuntimeWarning: overflow encountered in square\n",
      "  * np.sum(sample_weight * ((y - raw_predictions.ravel()) ** 2))\n",
      "/Users/krish/opt/anaconda3/envs/p1/lib/python3.9/site-packages/sklearn/ensemble/_gb_losses.py:231: RuntimeWarning: overflow encountered in square\n",
      "  * np.sum(sample_weight * ((y - raw_predictions.ravel()) ** 2))\n",
      "/Users/krish/opt/anaconda3/envs/p1/lib/python3.9/site-packages/sklearn/ensemble/_gb_losses.py:231: RuntimeWarning: overflow encountered in square\n",
      "  * np.sum(sample_weight * ((y - raw_predictions.ravel()) ** 2))\n",
      "/Users/krish/opt/anaconda3/envs/p1/lib/python3.9/site-packages/sklearn/ensemble/_gb_losses.py:231: RuntimeWarning: overflow encountered in square\n",
      "  * np.sum(sample_weight * ((y - raw_predictions.ravel()) ** 2))\n",
      "/Users/krish/opt/anaconda3/envs/p1/lib/python3.9/site-packages/sklearn/ensemble/_gb_losses.py:231: RuntimeWarning: overflow encountered in square\n",
      "  * np.sum(sample_weight * ((y - raw_predictions.ravel()) ** 2))\n",
      "/Users/krish/opt/anaconda3/envs/p1/lib/python3.9/site-packages/sklearn/ensemble/_gb_losses.py:231: RuntimeWarning: overflow encountered in square\n",
      "  * np.sum(sample_weight * ((y - raw_predictions.ravel()) ** 2))\n",
      "/Users/krish/opt/anaconda3/envs/p1/lib/python3.9/site-packages/sklearn/ensemble/_gb_losses.py:231: RuntimeWarning: overflow encountered in square\n",
      "  * np.sum(sample_weight * ((y - raw_predictions.ravel()) ** 2))\n",
      "/Users/krish/opt/anaconda3/envs/p1/lib/python3.9/site-packages/sklearn/ensemble/_gb_losses.py:231: RuntimeWarning: overflow encountered in square\n",
      "  * np.sum(sample_weight * ((y - raw_predictions.ravel()) ** 2))\n",
      "/Users/krish/opt/anaconda3/envs/p1/lib/python3.9/site-packages/sklearn/ensemble/_gb_losses.py:231: RuntimeWarning: overflow encountered in square\n",
      "  * np.sum(sample_weight * ((y - raw_predictions.ravel()) ** 2))\n",
      "/Users/krish/opt/anaconda3/envs/p1/lib/python3.9/site-packages/sklearn/ensemble/_gb_losses.py:231: RuntimeWarning: overflow encountered in square\n",
      "  * np.sum(sample_weight * ((y - raw_predictions.ravel()) ** 2))\n",
      "/Users/krish/opt/anaconda3/envs/p1/lib/python3.9/site-packages/sklearn/ensemble/_gb_losses.py:231: RuntimeWarning: overflow encountered in square\n",
      "  * np.sum(sample_weight * ((y - raw_predictions.ravel()) ** 2))\n",
      "/Users/krish/opt/anaconda3/envs/p1/lib/python3.9/site-packages/sklearn/ensemble/_gb_losses.py:231: RuntimeWarning: overflow encountered in square\n",
      "  * np.sum(sample_weight * ((y - raw_predictions.ravel()) ** 2))\n",
      "/Users/krish/opt/anaconda3/envs/p1/lib/python3.9/site-packages/sklearn/ensemble/_gb_losses.py:231: RuntimeWarning: overflow encountered in square\n",
      "  * np.sum(sample_weight * ((y - raw_predictions.ravel()) ** 2))\n",
      "/Users/krish/opt/anaconda3/envs/p1/lib/python3.9/site-packages/sklearn/ensemble/_gb_losses.py:231: RuntimeWarning: overflow encountered in square\n",
      "  * np.sum(sample_weight * ((y - raw_predictions.ravel()) ** 2))\n",
      "/Users/krish/opt/anaconda3/envs/p1/lib/python3.9/site-packages/sklearn/ensemble/_gb_losses.py:231: RuntimeWarning: overflow encountered in square\n",
      "  * np.sum(sample_weight * ((y - raw_predictions.ravel()) ** 2))\n",
      "/Users/krish/opt/anaconda3/envs/p1/lib/python3.9/site-packages/sklearn/ensemble/_gb_losses.py:231: RuntimeWarning: overflow encountered in square\n",
      "  * np.sum(sample_weight * ((y - raw_predictions.ravel()) ** 2))\n",
      "/Users/krish/opt/anaconda3/envs/p1/lib/python3.9/site-packages/sklearn/ensemble/_gb_losses.py:231: RuntimeWarning: overflow encountered in square\n",
      "  * np.sum(sample_weight * ((y - raw_predictions.ravel()) ** 2))\n",
      "/Users/krish/opt/anaconda3/envs/p1/lib/python3.9/site-packages/sklearn/ensemble/_gb_losses.py:231: RuntimeWarning: overflow encountered in square\n",
      "  * np.sum(sample_weight * ((y - raw_predictions.ravel()) ** 2))\n",
      "/Users/krish/opt/anaconda3/envs/p1/lib/python3.9/site-packages/sklearn/metrics/_regression.py:927: RuntimeWarning: overflow encountered in square\n",
      "  numerator = (weight * (y_true - y_pred) ** 2).sum(axis=0, dtype=np.float64)\n",
      "/Users/krish/opt/anaconda3/envs/p1/lib/python3.9/site-packages/sklearn/model_selection/_search.py:953: UserWarning: One or more of the test scores are non-finite: [ 1.20261872e-001  4.62306949e-001  6.32635070e-001  7.18287151e-001\n",
      "  6.43734661e-001  7.00120359e-001  6.89709115e-001  6.84960650e-001\n",
      "  5.19353739e-001  5.05074427e-001  4.98647246e-001  4.97876127e-001\n",
      " -1.02209359e+019 -2.23301386e+095 -5.93119719e+190             -inf]\n",
      "  warnings.warn(\n",
      "/Users/krish/opt/anaconda3/envs/p1/lib/python3.9/site-packages/sklearn/model_selection/_search.py:962: RuntimeWarning: invalid value encountered in subtract\n",
      "  (array - array_means[:, np.newaxis]) ** 2, axis=1, weights=weights\n",
      "/Users/krish/opt/anaconda3/envs/p1/lib/python3.9/site-packages/sklearn/model_selection/_search.py:962: RuntimeWarning: overflow encountered in square\n",
      "  (array - array_means[:, np.newaxis]) ** 2, axis=1, weights=weights\n"
     ]
    }
   ],
   "metadata": {}
  },
  {
   "cell_type": "code",
   "execution_count": 52,
   "source": [
    "# print\n",
    "for name, metrics in results_cv.items():\n",
    "    print(f'Model: {name}')\n",
    "    for metric_name, metric_value in metrics.items():\n",
    "        if metric_name == 'Optimal Hyperparameters':\n",
    "            print(f'{metric_name}: {metric_value}')   # consider formatting decimal\n",
    "        else:\n",
    "            print(f'{metric_name}: {metric_value}')\n",
    "    print('---------------------')"
   ],
   "outputs": [
    {
     "output_type": "stream",
     "name": "stdout",
     "text": [
      "Model: Linear Regression\n",
      "R-squared: 0.6067931052687864\n",
      "Root Mean Square Error: 0.08761958803612005\n",
      "Optimal Hyperparameters: {}\n",
      "---------------------\n",
      "Model: Ridge\n",
      "R-squared: 0.6079759777978622\n",
      "Root Mean Square Error: 0.0874876970787954\n",
      "Optimal Hyperparameters: {'alpha': 1}\n",
      "---------------------\n",
      "Model: Lasso\n",
      "R-squared: 0.6082588464739689\n",
      "Root Mean Square Error: 0.08745612759138932\n",
      "Optimal Hyperparameters: {'alpha': 0.001}\n",
      "---------------------\n",
      "Model: Random Forest\n",
      "R-squared: 0.6998191997714469\n",
      "Root Mean Square Error: 0.07655650528999534\n",
      "Optimal Hyperparameters: {'max_depth': 10, 'n_estimators': 200}\n",
      "---------------------\n",
      "Model: Gradient Boosting\n",
      "R-squared: 0.6634604195626742\n",
      "Root Mean Square Error: 0.08106039565238014\n",
      "Optimal Hyperparameters: {'learning_rate': 0.01, 'n_estimators': 200}\n",
      "---------------------\n",
      "Model: Support Vector Regressor\n",
      "R-squared: 0.6029005611390943\n",
      "Root Mean Square Error: 0.08805221419681768\n",
      "Optimal Hyperparameters: {'C': 0.1, 'epsilon': 0.01}\n",
      "---------------------\n"
     ]
    }
   ],
   "metadata": {}
  },
  {
   "cell_type": "code",
   "execution_count": 53,
   "source": [
    "# for comparison, our results without GridSearchCV\n",
    "for name, metrics in results.items():\n",
    "    print(f'Model: {name}')\n",
    "    for metric_name, metric_value in metrics.items():\n",
    "        print(f'{metric_name}: {metric_value}')\n",
    "    print('---------------------')"
   ],
   "outputs": [
    {
     "output_type": "stream",
     "name": "stdout",
     "text": [
      "Model: Linear Regression\n",
      "R-squared: 0.6067931052687864\n",
      "Root Mean Square Error: 0.08761958803612005\n",
      "---------------------\n",
      "Model: Ridge\n",
      "R-squared: 0.6079759777978622\n",
      "Root Mean Square Error: 0.0874876970787954\n",
      "---------------------\n",
      "Model: Lasso\n",
      "R-squared: -0.019618050121264163\n",
      "Root Mean Square Error: 0.14109427823267676\n",
      "---------------------\n",
      "Model: Random Forest\n",
      "R-squared: 0.6964253224516731\n",
      "Root Mean Square Error: 0.07698806705425204\n",
      "---------------------\n",
      "Model: Gradient Boosting\n",
      "R-squared: 0.6149589745008635\n",
      "Root Mean Square Error: 0.08670500095960647\n",
      "---------------------\n",
      "Model: Support Vector Regressor\n",
      "R-squared: 0.6279057783492374\n",
      "Root Mean Square Error: 0.0852348316308298\n",
      "---------------------\n"
     ]
    }
   ],
   "metadata": {}
  },
  {
   "cell_type": "markdown",
   "source": [
    "# 5 Classification Models\n",
    "\n",
    "Now that we've seen how to apply model building methods to regression models, we can move onto the same process but for classification models. We will be using the alternative dataset we created earlier when we split the Y variable (HDI) into a factor. "
   ],
   "metadata": {}
  },
  {
   "cell_type": "markdown",
   "source": [
    "## 5.1 Prepare Train/Test Sets"
   ],
   "metadata": {}
  },
  {
   "cell_type": "code",
   "execution_count": 54,
   "source": [
    "# define the predictors and response variable\n",
    "X_cat = merge_cat[['Depression', 'Food', 'Democracy']]\n",
    "y_cat = merge_cat['HDI_fac']"
   ],
   "outputs": [],
   "metadata": {}
  },
  {
   "cell_type": "code",
   "execution_count": 55,
   "source": [
    "# split data into train/test\n",
    "X_train_cat, X_test_cat, y_train_cat, y_test_cat = train_test_split(X_cat, y_cat, test_size=0.2, random_state=805)"
   ],
   "outputs": [],
   "metadata": {}
  },
  {
   "cell_type": "markdown",
   "source": [
    "Just appending `cat_` to everything so we don't lose the variables we created earlier"
   ],
   "metadata": {}
  },
  {
   "cell_type": "markdown",
   "source": [
    "### 5.1.1 Data Scaling\n",
    "\n",
    "Same as before"
   ],
   "metadata": {}
  },
  {
   "cell_type": "code",
   "execution_count": 56,
   "source": [
    "scaler_cat = StandardScaler()\n",
    "\n",
    "X_train_scaled_cat = scaler_cat.fit_transform(X_train_cat)\n",
    "X_test_scaled_cat = scaler_cat.transform(X_test_cat) # transform() inherits the scaling from fit_transform()"
   ],
   "outputs": [],
   "metadata": {}
  },
  {
   "cell_type": "markdown",
   "source": [
    "## 5.2 Logistic Regression\n",
    "\n",
    "This step is slightly different, only because multi-linear regression doesn't work when the variable we are trying to predict is categorical. We will have to use logistic regression.\n",
    "\n",
    "Typically, if it has the word \"regression\" in it, it means the model is intended for use with numerical Y variable. The exception to this is the term \"logistic regression\", which I'm sure there's a good reason why the word regression is in there but it is for classification. "
   ],
   "metadata": {}
  },
  {
   "cell_type": "code",
   "execution_count": 58,
   "source": [
    "from sklearn.linear_model import LogisticRegression\n",
    "\n",
    "# create and fit the model\n",
    "log_reg = LogisticRegression()\n",
    "log_reg.fit(X_train_scaled_cat, y_train_cat) # you do not need to scale Y dataset"
   ],
   "outputs": [
    {
     "output_type": "execute_result",
     "data": {
      "text/plain": [
       "LogisticRegression()"
      ],
      "text/html": [
       "<style>#sk-container-id-2 {color: black;background-color: white;}#sk-container-id-2 pre{padding: 0;}#sk-container-id-2 div.sk-toggleable {background-color: white;}#sk-container-id-2 label.sk-toggleable__label {cursor: pointer;display: block;width: 100%;margin-bottom: 0;padding: 0.3em;box-sizing: border-box;text-align: center;}#sk-container-id-2 label.sk-toggleable__label-arrow:before {content: \"▸\";float: left;margin-right: 0.25em;color: #696969;}#sk-container-id-2 label.sk-toggleable__label-arrow:hover:before {color: black;}#sk-container-id-2 div.sk-estimator:hover label.sk-toggleable__label-arrow:before {color: black;}#sk-container-id-2 div.sk-toggleable__content {max-height: 0;max-width: 0;overflow: hidden;text-align: left;background-color: #f0f8ff;}#sk-container-id-2 div.sk-toggleable__content pre {margin: 0.2em;color: black;border-radius: 0.25em;background-color: #f0f8ff;}#sk-container-id-2 input.sk-toggleable__control:checked~div.sk-toggleable__content {max-height: 200px;max-width: 100%;overflow: auto;}#sk-container-id-2 input.sk-toggleable__control:checked~label.sk-toggleable__label-arrow:before {content: \"▾\";}#sk-container-id-2 div.sk-estimator input.sk-toggleable__control:checked~label.sk-toggleable__label {background-color: #d4ebff;}#sk-container-id-2 div.sk-label input.sk-toggleable__control:checked~label.sk-toggleable__label {background-color: #d4ebff;}#sk-container-id-2 input.sk-hidden--visually {border: 0;clip: rect(1px 1px 1px 1px);clip: rect(1px, 1px, 1px, 1px);height: 1px;margin: -1px;overflow: hidden;padding: 0;position: absolute;width: 1px;}#sk-container-id-2 div.sk-estimator {font-family: monospace;background-color: #f0f8ff;border: 1px dotted black;border-radius: 0.25em;box-sizing: border-box;margin-bottom: 0.5em;}#sk-container-id-2 div.sk-estimator:hover {background-color: #d4ebff;}#sk-container-id-2 div.sk-parallel-item::after {content: \"\";width: 100%;border-bottom: 1px solid gray;flex-grow: 1;}#sk-container-id-2 div.sk-label:hover label.sk-toggleable__label {background-color: #d4ebff;}#sk-container-id-2 div.sk-serial::before {content: \"\";position: absolute;border-left: 1px solid gray;box-sizing: border-box;top: 0;bottom: 0;left: 50%;z-index: 0;}#sk-container-id-2 div.sk-serial {display: flex;flex-direction: column;align-items: center;background-color: white;padding-right: 0.2em;padding-left: 0.2em;position: relative;}#sk-container-id-2 div.sk-item {position: relative;z-index: 1;}#sk-container-id-2 div.sk-parallel {display: flex;align-items: stretch;justify-content: center;background-color: white;position: relative;}#sk-container-id-2 div.sk-item::before, #sk-container-id-2 div.sk-parallel-item::before {content: \"\";position: absolute;border-left: 1px solid gray;box-sizing: border-box;top: 0;bottom: 0;left: 50%;z-index: -1;}#sk-container-id-2 div.sk-parallel-item {display: flex;flex-direction: column;z-index: 1;position: relative;background-color: white;}#sk-container-id-2 div.sk-parallel-item:first-child::after {align-self: flex-end;width: 50%;}#sk-container-id-2 div.sk-parallel-item:last-child::after {align-self: flex-start;width: 50%;}#sk-container-id-2 div.sk-parallel-item:only-child::after {width: 0;}#sk-container-id-2 div.sk-dashed-wrapped {border: 1px dashed gray;margin: 0 0.4em 0.5em 0.4em;box-sizing: border-box;padding-bottom: 0.4em;background-color: white;}#sk-container-id-2 div.sk-label label {font-family: monospace;font-weight: bold;display: inline-block;line-height: 1.2em;}#sk-container-id-2 div.sk-label-container {text-align: center;}#sk-container-id-2 div.sk-container {/* jupyter's `normalize.less` sets `[hidden] { display: none; }` but bootstrap.min.css set `[hidden] { display: none !important; }` so we also need the `!important` here to be able to override the default hidden behavior on the sphinx rendered scikit-learn.org. See: https://github.com/scikit-learn/scikit-learn/issues/21755 */display: inline-block !important;position: relative;}#sk-container-id-2 div.sk-text-repr-fallback {display: none;}</style><div id=\"sk-container-id-2\" class=\"sk-top-container\"><div class=\"sk-text-repr-fallback\"><pre>LogisticRegression()</pre><b>In a Jupyter environment, please rerun this cell to show the HTML representation or trust the notebook. <br />On GitHub, the HTML representation is unable to render, please try loading this page with nbviewer.org.</b></div><div class=\"sk-container\" hidden><div class=\"sk-item\"><div class=\"sk-estimator sk-toggleable\"><input class=\"sk-toggleable__control sk-hidden--visually\" id=\"sk-estimator-id-2\" type=\"checkbox\" checked><label for=\"sk-estimator-id-2\" class=\"sk-toggleable__label sk-toggleable__label-arrow\">LogisticRegression</label><div class=\"sk-toggleable__content\"><pre>LogisticRegression()</pre></div></div></div></div></div>"
      ]
     },
     "metadata": {},
     "execution_count": 58
    }
   ],
   "metadata": {}
  },
  {
   "cell_type": "code",
   "execution_count": 59,
   "source": [
    "# make predictions on the test set\n",
    "y_pred_cat = log_reg.predict(X_test_scaled_cat)"
   ],
   "outputs": [],
   "metadata": {}
  },
  {
   "cell_type": "code",
   "execution_count": 60,
   "source": [
    "from sklearn.metrics import accuracy_score, precision_score, recall_score, f1_score, classification_report\n",
    "\n",
    "# print classification metrics\n",
    "print(f'Accuracy: {accuracy_score(y_test_cat, y_pred_cat)}')\n",
    "print(f'Precision: {precision_score(y_test_cat, y_pred_cat, average=\"weighted\")}') # add average=\"weighted\" if classes are imbalanced\n",
    "print(f'Recall: {recall_score(y_test_cat, y_pred_cat, average=\"weighted\")}')       # our classes aren't imbalanced but we can add it anyways\n",
    "print(classification_report(y_test_cat, y_pred_cat))"
   ],
   "outputs": [
    {
     "output_type": "stream",
     "name": "stdout",
     "text": [
      "Accuracy: 0.6875\n",
      "Precision: 0.6932091346153846\n",
      "Recall: 0.6875\n",
      "              precision    recall  f1-score   support\n",
      "\n",
      "       1_low       0.69      0.75      0.72        12\n",
      "    2_medium       0.55      0.55      0.55        11\n",
      "      3_high       0.88      0.78      0.82         9\n",
      "\n",
      "    accuracy                           0.69        32\n",
      "   macro avg       0.70      0.69      0.70        32\n",
      "weighted avg       0.69      0.69      0.69        32\n",
      "\n"
     ]
    }
   ],
   "metadata": {}
  },
  {
   "cell_type": "markdown",
   "source": [
    "**Interpreting Metrics for Classification Models**\n",
    "\n",
    "- **Accuracy:** Simply the percentage of correct classifications\n",
    "- **Precision:** Measure of how accurate the model is when predicts a positive class for any given class. For example, when the model predicts \"Low HDI\", how many of those predictions are actually low HDI? This measure is calculated for all classes, weighted by class size, then averaged. $\\frac{\\text{TP}}{\\text{TP}+\\text{FP}}$\n",
    "- **Recall:** Measure of correctly labeled classes for a given class. For example, if there are 50 Low HDI rows in the test set, and the model predicts only 40 rows, then there are 10 rows that were a false negative. Recall for that class would be $\\frac{40}{(40+10)}$ or $\\frac{\\text{TP}}{\\text{TP}+\\text{FN}}$"
   ],
   "metadata": {}
  },
  {
   "cell_type": "code",
   "execution_count": 61,
   "source": [
    "# coefficients and intercept\n",
    "coeff_df = pd.DataFrame(log_reg.coef_[0], X_cat.columns, columns=['Coefficient']) # Assuming binary classification\n",
    "print(coeff_df)\n",
    "\n",
    "intercept = log_reg.intercept_[0] # For multi-class, log_reg.intercept_ will have multiple values\n",
    "print(f'Intercept: {intercept}')"
   ],
   "outputs": [
    {
     "output_type": "stream",
     "name": "stdout",
     "text": [
      "            Coefficient\n",
      "Depression     0.676378\n",
      "Food          -2.028178\n",
      "Democracy     -0.439062\n",
      "Intercept: -0.2711041560579597\n"
     ]
    }
   ],
   "metadata": {}
  },
  {
   "cell_type": "markdown",
   "source": [
    "### 5.2.1 Quick Explanation of Logistic Regression Coefficients\n",
    "\n",
    "This is not super important since you will probably never have to do logistic regression by hand, but I included it anyways."
   ],
   "metadata": {}
  },
  {
   "cell_type": "code",
   "execution_count": 63,
   "source": [
    "# log_reg.coef_ is a 2D numpy array with shape (n_classes, n_features)\n",
    "coefficients = pd.DataFrame(log_reg.coef_, columns=X_cat.columns, index=[f'HDI_{c}' for c in log_reg.classes_])\n",
    "\n",
    "\n",
    "intercepts = pd.Series(log_reg.intercept_, index=[f'HDI_{c}' for c in log_reg.classes_])\n",
    "\n",
    "# Printing coefficients and intercepts for each class\n",
    "print(coefficients)\n",
    "print(f'\\nIntercepts: \\n{intercepts}')"
   ],
   "outputs": [
    {
     "output_type": "stream",
     "name": "stdout",
     "text": [
      "              Depression      Food  Democracy\n",
      "HDI_1_low       0.676378 -2.028178  -0.439062\n",
      "HDI_2_medium   -0.325109 -0.124947  -0.225631\n",
      "HDI_3_high     -0.351269  2.153126   0.664693\n",
      "\n",
      "Intercepts: \n",
      "HDI_1_low      -0.271104\n",
      "HDI_2_medium    0.733423\n",
      "HDI_3_high     -0.462319\n",
      "dtype: float64\n"
     ]
    }
   ],
   "metadata": {}
  },
  {
   "cell_type": "markdown",
   "source": [
    "There are three sets of coefficients because the model breaks down the multi-class problem into multiple binary classification problems. For each class, the model creates one binary classifier that tries to distinguish that particular class from all the others. If you have three classes, you end up with three mini-models inside your overall model, each with its own set of coefficients for deciding if an observation belongs to its respective class or not."
   ],
   "metadata": {}
  },
  {
   "cell_type": "markdown",
   "source": [
    "An example of one of those mini-models:\n",
    "\n",
    "\n",
    "$\\log\\left(\\frac{P(\\text{HDI\\_low})}{P(\\text{Not HDI\\_low})}\\right) = 0.676378 \\times \\text{Depression} - 2.028178 \\times \\text{Food} - 0.439062 \\times \\text{Democracy} - 0.271104$\n"
   ],
   "metadata": {}
  },
  {
   "cell_type": "markdown",
   "source": [
    "## 5.3 Machine Learning Classification Pipelines"
   ],
   "metadata": {}
  },
  {
   "cell_type": "code",
   "execution_count": 64,
   "source": [
    "import pandas as pd\n",
    "from sklearn.model_selection import train_test_split\n",
    "from sklearn.linear_model import LogisticRegression, RidgeClassifier\n",
    "from sklearn.neighbors import KNeighborsClassifier\n",
    "from sklearn.tree import DecisionTreeClassifier # decided to remove this later, pointless when we have Random Forest\n",
    "from sklearn.ensemble import RandomForestClassifier, GradientBoostingClassifier\n",
    "from sklearn.svm import SVC\n",
    "from sklearn.metrics import accuracy_score, precision_score, recall_score, f1_score"
   ],
   "outputs": [],
   "metadata": {}
  },
  {
   "cell_type": "code",
   "execution_count": 65,
   "source": [
    "# define models as a dictionary \n",
    "models_cat = {\n",
    "    'Logistic Regression': LogisticRegression(),\n",
    "    'Ridge Classifier': RidgeClassifier(),\n",
    "    'K-Nearest Neighbors': KNeighborsClassifier(),\n",
    "    'Random Forest Classifier': RandomForestClassifier(),\n",
    "    'Gradient Boosting Classifier': GradientBoostingClassifier(),\n",
    "    'Support Vector Classifier': SVC()\n",
    "}\n",
    "\n",
    "# empty dictionary to store results\n",
    "results_cat = {}"
   ],
   "outputs": [],
   "metadata": {}
  },
  {
   "cell_type": "code",
   "execution_count": 66,
   "source": [
    "# use a loop to iterate over models\n",
    "for name, model in models_cat.items():\n",
    "\n",
    "    model.fit(X_train_scaled_cat, y_train_cat) # fit the model on SCALED training data\n",
    "\n",
    "    y_pred = model.predict(X_test_scaled_cat) # make predictions on SCALED test data\n",
    "    \n",
    "    # store results\n",
    "    results_cat[name] = {\n",
    "        'Accuracy': accuracy_score(y_test_cat, y_pred),\n",
    "        'Precision': precision_score(y_test_cat, y_pred, average='weighted'),\n",
    "        'Recall': recall_score(y_test_cat, y_pred, average='weighted'),\n",
    "        'F1 Score': f1_score(y_test_cat, y_pred, average='weighted')\n",
    "    }\n",
    "\n",
    "# print\n",
    "for name, metrics in results_cat.items():\n",
    "    print(f'Model: {name}')\n",
    "    for metric_name, metric_value in metrics.items():\n",
    "        print(f'{metric_name}: {metric_value:.4f}')\n",
    "    print('---------------------')"
   ],
   "outputs": [
    {
     "output_type": "stream",
     "name": "stderr",
     "text": [
      "/Users/krish/opt/anaconda3/envs/p1/lib/python3.9/site-packages/sklearn/neighbors/_classification.py:237: FutureWarning: Unlike other reduction functions (e.g. `skew`, `kurtosis`), the default behavior of `mode` typically preserves the axis it acts along. In SciPy 1.11.0, this behavior will change: the default value of `keepdims` will become False, the `axis` over which the statistic is taken will be eliminated, and the value None will no longer be accepted. Set `keepdims` to True or False to avoid this warning.\n",
      "  mode, _ = stats.mode(_y[neigh_ind, k], axis=1)\n"
     ]
    },
    {
     "output_type": "stream",
     "name": "stdout",
     "text": [
      "Model: Logistic Regression\n",
      "Accuracy: 0.6875\n",
      "Precision: 0.6932\n",
      "Recall: 0.6875\n",
      "F1 Score: 0.6891\n",
      "---------------------\n",
      "Model: Ridge Classifier\n",
      "Accuracy: 0.6875\n",
      "Precision: 0.6835\n",
      "Recall: 0.6875\n",
      "F1 Score: 0.6619\n",
      "---------------------\n",
      "Model: K-Nearest Neighbors\n",
      "Accuracy: 0.7188\n",
      "Precision: 0.7414\n",
      "Recall: 0.7188\n",
      "F1 Score: 0.7253\n",
      "---------------------\n",
      "Model: Random Forest Classifier\n",
      "Accuracy: 0.6250\n",
      "Precision: 0.6268\n",
      "Recall: 0.6250\n",
      "F1 Score: 0.6248\n",
      "---------------------\n",
      "Model: Gradient Boosting Classifier\n",
      "Accuracy: 0.6875\n",
      "Precision: 0.7512\n",
      "Recall: 0.6875\n",
      "F1 Score: 0.6944\n",
      "---------------------\n",
      "Model: Support Vector Classifier\n",
      "Accuracy: 0.7188\n",
      "Precision: 0.7159\n",
      "Recall: 0.7188\n",
      "F1 Score: 0.7164\n",
      "---------------------\n"
     ]
    }
   ],
   "metadata": {}
  },
  {
   "cell_type": "code",
   "execution_count": 67,
   "source": [
    "results_cat"
   ],
   "outputs": [
    {
     "output_type": "execute_result",
     "data": {
      "text/plain": [
       "{'Logistic Regression': {'Accuracy': 0.6875,\n",
       "  'Precision': 0.6932091346153846,\n",
       "  'Recall': 0.6875,\n",
       "  'F1 Score': 0.6891176470588235},\n",
       " 'Ridge Classifier': {'Accuracy': 0.6875,\n",
       "  'Precision': 0.6834935897435896,\n",
       "  'Recall': 0.6875,\n",
       "  'F1 Score': 0.6618783422459893},\n",
       " 'K-Nearest Neighbors': {'Accuracy': 0.71875,\n",
       "  'Precision': 0.741386217948718,\n",
       "  'Recall': 0.71875,\n",
       "  'F1 Score': 0.7253328804347826},\n",
       " 'Random Forest Classifier': {'Accuracy': 0.625,\n",
       "  'Precision': 0.6268028846153846,\n",
       "  'Recall': 0.625,\n",
       "  'F1 Score': 0.6247794117647059},\n",
       " 'Gradient Boosting Classifier': {'Accuracy': 0.6875,\n",
       "  'Precision': 0.7511817226890756,\n",
       "  'Recall': 0.6875,\n",
       "  'F1 Score': 0.6944196428571429},\n",
       " 'Support Vector Classifier': {'Accuracy': 0.71875,\n",
       "  'Precision': 0.7158653846153846,\n",
       "  'Recall': 0.71875,\n",
       "  'F1 Score': 0.7164285714285713}}"
      ]
     },
     "metadata": {},
     "execution_count": 67
    }
   ],
   "metadata": {}
  },
  {
   "cell_type": "markdown",
   "source": [
    "Looks like SVC and KNN are the top performers of this dataset. Random Forest is underperforming, which isn't very characteristic. This could be fixed with hyperparameter tuning."
   ],
   "metadata": {}
  },
  {
   "cell_type": "markdown",
   "source": [
    "## 5.4 Hyperparameter Tuning All Classification Models"
   ],
   "metadata": {}
  },
  {
   "cell_type": "code",
   "execution_count": 70,
   "source": [
    "# define hyperparameters for classification models\n",
    "hyperparameters_cat = {\n",
    "    'Ridge Classifier': {\n",
    "        'alpha': [0.001, 0.01, 0.1, 1, 10]\n",
    "    },\n",
    "    'K-Nearest Neighbors': {\n",
    "        'n_neighbors': [3, 5, 7, 9, 11]\n",
    "    },\n",
    "    'Random Forest Classifier': {\n",
    "        'n_estimators': [5, 10, 25, 50, 100],\n",
    "        'max_depth': [None, 5, 10, 20, 30, 40]\n",
    "    },\n",
    "    'Gradient Boosting Classifier': {\n",
    "        'n_estimators': [5, 10, 25, 50, 100],\n",
    "        'learning_rate': [0.001, 0.01, 0.1, 1, 10]\n",
    "    },\n",
    "    'Support Vector Classifier': {\n",
    "        'C': [0.01, 0.1, 1, 10],\n",
    "        'kernel': ['linear', 'rbf', 'poly']\n",
    "    }\n",
    "}\n",
    "\n",
    "# empty dictionary for storing models\n",
    "best_models_cat = {}\n",
    "\n",
    "# empty dictionary for storing results\n",
    "results_cv_cat = {}"
   ],
   "outputs": [],
   "metadata": {}
  },
  {
   "cell_type": "code",
   "execution_count": 71,
   "source": [
    "# display hyperparams of one model\n",
    "hyperparameters_cat['Random Forest Classifier']"
   ],
   "outputs": [
    {
     "output_type": "execute_result",
     "data": {
      "text/plain": [
       "{'n_estimators': [5, 10, 25, 50, 100], 'max_depth': [None, 5, 10, 20, 30, 40]}"
      ]
     },
     "metadata": {},
     "execution_count": 71
    }
   ],
   "metadata": {}
  },
  {
   "cell_type": "code",
   "execution_count": 72,
   "source": [
    "# iterate over models\n",
    "for name, model in models_cat.items():\n",
    "    # loop for if hyperparameters exist\n",
    "    if name in hyperparameters_cat:\n",
    "        \n",
    "        grid_search = GridSearchCV(model, hyperparameters_cat[name], cv=5)\n",
    "        grid_search.fit(X_train_scaled_cat, y_train_cat)\n",
    "        \n",
    "        # store the best model\n",
    "        best_models_cat[name] = grid_search.best_estimator_\n",
    "\n",
    "        # make predictions with the best model\n",
    "        y_pred = grid_search.best_estimator_.predict(X_test_scaled_cat)\n",
    "\n",
    "        # store the optimal hyperparameters\n",
    "        best_parameters = grid_search.best_params_\n",
    "\n",
    "    else:\n",
    "        # if no hyperparameters were defined, fit the model as is\n",
    "        model.fit(X_train_scaled_cat, y_train_cat)\n",
    "        best_models_cat[name] = model\n",
    "        y_pred = model.predict(X_test_scaled_cat)\n",
    "        best_parameters = {}\n",
    "\n",
    "    # store results with classification metrics\n",
    "    results_cv_cat[name] = {\n",
    "        'Accuracy': accuracy_score(y_test_cat, y_pred),\n",
    "        'Precision': precision_score(y_test_cat, y_pred, average='weighted'),\n",
    "        'Recall': recall_score(y_test_cat, y_pred, average='weighted'),\n",
    "        'F1 Score': f1_score(y_test_cat, y_pred, average='weighted'),\n",
    "        'Optimal Hyperparameters': best_parameters\n",
    "    }\n"
   ],
   "outputs": [
    {
     "output_type": "stream",
     "name": "stderr",
     "text": [
      "/Users/krish/opt/anaconda3/envs/p1/lib/python3.9/site-packages/sklearn/neighbors/_classification.py:237: FutureWarning: Unlike other reduction functions (e.g. `skew`, `kurtosis`), the default behavior of `mode` typically preserves the axis it acts along. In SciPy 1.11.0, this behavior will change: the default value of `keepdims` will become False, the `axis` over which the statistic is taken will be eliminated, and the value None will no longer be accepted. Set `keepdims` to True or False to avoid this warning.\n",
      "  mode, _ = stats.mode(_y[neigh_ind, k], axis=1)\n",
      "/Users/krish/opt/anaconda3/envs/p1/lib/python3.9/site-packages/sklearn/neighbors/_classification.py:237: FutureWarning: Unlike other reduction functions (e.g. `skew`, `kurtosis`), the default behavior of `mode` typically preserves the axis it acts along. In SciPy 1.11.0, this behavior will change: the default value of `keepdims` will become False, the `axis` over which the statistic is taken will be eliminated, and the value None will no longer be accepted. Set `keepdims` to True or False to avoid this warning.\n",
      "  mode, _ = stats.mode(_y[neigh_ind, k], axis=1)\n",
      "/Users/krish/opt/anaconda3/envs/p1/lib/python3.9/site-packages/sklearn/neighbors/_classification.py:237: FutureWarning: Unlike other reduction functions (e.g. `skew`, `kurtosis`), the default behavior of `mode` typically preserves the axis it acts along. In SciPy 1.11.0, this behavior will change: the default value of `keepdims` will become False, the `axis` over which the statistic is taken will be eliminated, and the value None will no longer be accepted. Set `keepdims` to True or False to avoid this warning.\n",
      "  mode, _ = stats.mode(_y[neigh_ind, k], axis=1)\n",
      "/Users/krish/opt/anaconda3/envs/p1/lib/python3.9/site-packages/sklearn/neighbors/_classification.py:237: FutureWarning: Unlike other reduction functions (e.g. `skew`, `kurtosis`), the default behavior of `mode` typically preserves the axis it acts along. In SciPy 1.11.0, this behavior will change: the default value of `keepdims` will become False, the `axis` over which the statistic is taken will be eliminated, and the value None will no longer be accepted. Set `keepdims` to True or False to avoid this warning.\n",
      "  mode, _ = stats.mode(_y[neigh_ind, k], axis=1)\n",
      "/Users/krish/opt/anaconda3/envs/p1/lib/python3.9/site-packages/sklearn/neighbors/_classification.py:237: FutureWarning: Unlike other reduction functions (e.g. `skew`, `kurtosis`), the default behavior of `mode` typically preserves the axis it acts along. In SciPy 1.11.0, this behavior will change: the default value of `keepdims` will become False, the `axis` over which the statistic is taken will be eliminated, and the value None will no longer be accepted. Set `keepdims` to True or False to avoid this warning.\n",
      "  mode, _ = stats.mode(_y[neigh_ind, k], axis=1)\n",
      "/Users/krish/opt/anaconda3/envs/p1/lib/python3.9/site-packages/sklearn/neighbors/_classification.py:237: FutureWarning: Unlike other reduction functions (e.g. `skew`, `kurtosis`), the default behavior of `mode` typically preserves the axis it acts along. In SciPy 1.11.0, this behavior will change: the default value of `keepdims` will become False, the `axis` over which the statistic is taken will be eliminated, and the value None will no longer be accepted. Set `keepdims` to True or False to avoid this warning.\n",
      "  mode, _ = stats.mode(_y[neigh_ind, k], axis=1)\n",
      "/Users/krish/opt/anaconda3/envs/p1/lib/python3.9/site-packages/sklearn/neighbors/_classification.py:237: FutureWarning: Unlike other reduction functions (e.g. `skew`, `kurtosis`), the default behavior of `mode` typically preserves the axis it acts along. In SciPy 1.11.0, this behavior will change: the default value of `keepdims` will become False, the `axis` over which the statistic is taken will be eliminated, and the value None will no longer be accepted. Set `keepdims` to True or False to avoid this warning.\n",
      "  mode, _ = stats.mode(_y[neigh_ind, k], axis=1)\n",
      "/Users/krish/opt/anaconda3/envs/p1/lib/python3.9/site-packages/sklearn/neighbors/_classification.py:237: FutureWarning: Unlike other reduction functions (e.g. `skew`, `kurtosis`), the default behavior of `mode` typically preserves the axis it acts along. In SciPy 1.11.0, this behavior will change: the default value of `keepdims` will become False, the `axis` over which the statistic is taken will be eliminated, and the value None will no longer be accepted. Set `keepdims` to True or False to avoid this warning.\n",
      "  mode, _ = stats.mode(_y[neigh_ind, k], axis=1)\n",
      "/Users/krish/opt/anaconda3/envs/p1/lib/python3.9/site-packages/sklearn/neighbors/_classification.py:237: FutureWarning: Unlike other reduction functions (e.g. `skew`, `kurtosis`), the default behavior of `mode` typically preserves the axis it acts along. In SciPy 1.11.0, this behavior will change: the default value of `keepdims` will become False, the `axis` over which the statistic is taken will be eliminated, and the value None will no longer be accepted. Set `keepdims` to True or False to avoid this warning.\n",
      "  mode, _ = stats.mode(_y[neigh_ind, k], axis=1)\n",
      "/Users/krish/opt/anaconda3/envs/p1/lib/python3.9/site-packages/sklearn/neighbors/_classification.py:237: FutureWarning: Unlike other reduction functions (e.g. `skew`, `kurtosis`), the default behavior of `mode` typically preserves the axis it acts along. In SciPy 1.11.0, this behavior will change: the default value of `keepdims` will become False, the `axis` over which the statistic is taken will be eliminated, and the value None will no longer be accepted. Set `keepdims` to True or False to avoid this warning.\n",
      "  mode, _ = stats.mode(_y[neigh_ind, k], axis=1)\n",
      "/Users/krish/opt/anaconda3/envs/p1/lib/python3.9/site-packages/sklearn/neighbors/_classification.py:237: FutureWarning: Unlike other reduction functions (e.g. `skew`, `kurtosis`), the default behavior of `mode` typically preserves the axis it acts along. In SciPy 1.11.0, this behavior will change: the default value of `keepdims` will become False, the `axis` over which the statistic is taken will be eliminated, and the value None will no longer be accepted. Set `keepdims` to True or False to avoid this warning.\n",
      "  mode, _ = stats.mode(_y[neigh_ind, k], axis=1)\n",
      "/Users/krish/opt/anaconda3/envs/p1/lib/python3.9/site-packages/sklearn/neighbors/_classification.py:237: FutureWarning: Unlike other reduction functions (e.g. `skew`, `kurtosis`), the default behavior of `mode` typically preserves the axis it acts along. In SciPy 1.11.0, this behavior will change: the default value of `keepdims` will become False, the `axis` over which the statistic is taken will be eliminated, and the value None will no longer be accepted. Set `keepdims` to True or False to avoid this warning.\n",
      "  mode, _ = stats.mode(_y[neigh_ind, k], axis=1)\n",
      "/Users/krish/opt/anaconda3/envs/p1/lib/python3.9/site-packages/sklearn/neighbors/_classification.py:237: FutureWarning: Unlike other reduction functions (e.g. `skew`, `kurtosis`), the default behavior of `mode` typically preserves the axis it acts along. In SciPy 1.11.0, this behavior will change: the default value of `keepdims` will become False, the `axis` over which the statistic is taken will be eliminated, and the value None will no longer be accepted. Set `keepdims` to True or False to avoid this warning.\n",
      "  mode, _ = stats.mode(_y[neigh_ind, k], axis=1)\n",
      "/Users/krish/opt/anaconda3/envs/p1/lib/python3.9/site-packages/sklearn/neighbors/_classification.py:237: FutureWarning: Unlike other reduction functions (e.g. `skew`, `kurtosis`), the default behavior of `mode` typically preserves the axis it acts along. In SciPy 1.11.0, this behavior will change: the default value of `keepdims` will become False, the `axis` over which the statistic is taken will be eliminated, and the value None will no longer be accepted. Set `keepdims` to True or False to avoid this warning.\n",
      "  mode, _ = stats.mode(_y[neigh_ind, k], axis=1)\n",
      "/Users/krish/opt/anaconda3/envs/p1/lib/python3.9/site-packages/sklearn/neighbors/_classification.py:237: FutureWarning: Unlike other reduction functions (e.g. `skew`, `kurtosis`), the default behavior of `mode` typically preserves the axis it acts along. In SciPy 1.11.0, this behavior will change: the default value of `keepdims` will become False, the `axis` over which the statistic is taken will be eliminated, and the value None will no longer be accepted. Set `keepdims` to True or False to avoid this warning.\n",
      "  mode, _ = stats.mode(_y[neigh_ind, k], axis=1)\n",
      "/Users/krish/opt/anaconda3/envs/p1/lib/python3.9/site-packages/sklearn/neighbors/_classification.py:237: FutureWarning: Unlike other reduction functions (e.g. `skew`, `kurtosis`), the default behavior of `mode` typically preserves the axis it acts along. In SciPy 1.11.0, this behavior will change: the default value of `keepdims` will become False, the `axis` over which the statistic is taken will be eliminated, and the value None will no longer be accepted. Set `keepdims` to True or False to avoid this warning.\n",
      "  mode, _ = stats.mode(_y[neigh_ind, k], axis=1)\n",
      "/Users/krish/opt/anaconda3/envs/p1/lib/python3.9/site-packages/sklearn/neighbors/_classification.py:237: FutureWarning: Unlike other reduction functions (e.g. `skew`, `kurtosis`), the default behavior of `mode` typically preserves the axis it acts along. In SciPy 1.11.0, this behavior will change: the default value of `keepdims` will become False, the `axis` over which the statistic is taken will be eliminated, and the value None will no longer be accepted. Set `keepdims` to True or False to avoid this warning.\n",
      "  mode, _ = stats.mode(_y[neigh_ind, k], axis=1)\n",
      "/Users/krish/opt/anaconda3/envs/p1/lib/python3.9/site-packages/sklearn/neighbors/_classification.py:237: FutureWarning: Unlike other reduction functions (e.g. `skew`, `kurtosis`), the default behavior of `mode` typically preserves the axis it acts along. In SciPy 1.11.0, this behavior will change: the default value of `keepdims` will become False, the `axis` over which the statistic is taken will be eliminated, and the value None will no longer be accepted. Set `keepdims` to True or False to avoid this warning.\n",
      "  mode, _ = stats.mode(_y[neigh_ind, k], axis=1)\n",
      "/Users/krish/opt/anaconda3/envs/p1/lib/python3.9/site-packages/sklearn/neighbors/_classification.py:237: FutureWarning: Unlike other reduction functions (e.g. `skew`, `kurtosis`), the default behavior of `mode` typically preserves the axis it acts along. In SciPy 1.11.0, this behavior will change: the default value of `keepdims` will become False, the `axis` over which the statistic is taken will be eliminated, and the value None will no longer be accepted. Set `keepdims` to True or False to avoid this warning.\n",
      "  mode, _ = stats.mode(_y[neigh_ind, k], axis=1)\n",
      "/Users/krish/opt/anaconda3/envs/p1/lib/python3.9/site-packages/sklearn/neighbors/_classification.py:237: FutureWarning: Unlike other reduction functions (e.g. `skew`, `kurtosis`), the default behavior of `mode` typically preserves the axis it acts along. In SciPy 1.11.0, this behavior will change: the default value of `keepdims` will become False, the `axis` over which the statistic is taken will be eliminated, and the value None will no longer be accepted. Set `keepdims` to True or False to avoid this warning.\n",
      "  mode, _ = stats.mode(_y[neigh_ind, k], axis=1)\n",
      "/Users/krish/opt/anaconda3/envs/p1/lib/python3.9/site-packages/sklearn/neighbors/_classification.py:237: FutureWarning: Unlike other reduction functions (e.g. `skew`, `kurtosis`), the default behavior of `mode` typically preserves the axis it acts along. In SciPy 1.11.0, this behavior will change: the default value of `keepdims` will become False, the `axis` over which the statistic is taken will be eliminated, and the value None will no longer be accepted. Set `keepdims` to True or False to avoid this warning.\n",
      "  mode, _ = stats.mode(_y[neigh_ind, k], axis=1)\n",
      "/Users/krish/opt/anaconda3/envs/p1/lib/python3.9/site-packages/sklearn/neighbors/_classification.py:237: FutureWarning: Unlike other reduction functions (e.g. `skew`, `kurtosis`), the default behavior of `mode` typically preserves the axis it acts along. In SciPy 1.11.0, this behavior will change: the default value of `keepdims` will become False, the `axis` over which the statistic is taken will be eliminated, and the value None will no longer be accepted. Set `keepdims` to True or False to avoid this warning.\n",
      "  mode, _ = stats.mode(_y[neigh_ind, k], axis=1)\n",
      "/Users/krish/opt/anaconda3/envs/p1/lib/python3.9/site-packages/sklearn/neighbors/_classification.py:237: FutureWarning: Unlike other reduction functions (e.g. `skew`, `kurtosis`), the default behavior of `mode` typically preserves the axis it acts along. In SciPy 1.11.0, this behavior will change: the default value of `keepdims` will become False, the `axis` over which the statistic is taken will be eliminated, and the value None will no longer be accepted. Set `keepdims` to True or False to avoid this warning.\n",
      "  mode, _ = stats.mode(_y[neigh_ind, k], axis=1)\n",
      "/Users/krish/opt/anaconda3/envs/p1/lib/python3.9/site-packages/sklearn/neighbors/_classification.py:237: FutureWarning: Unlike other reduction functions (e.g. `skew`, `kurtosis`), the default behavior of `mode` typically preserves the axis it acts along. In SciPy 1.11.0, this behavior will change: the default value of `keepdims` will become False, the `axis` over which the statistic is taken will be eliminated, and the value None will no longer be accepted. Set `keepdims` to True or False to avoid this warning.\n",
      "  mode, _ = stats.mode(_y[neigh_ind, k], axis=1)\n",
      "/Users/krish/opt/anaconda3/envs/p1/lib/python3.9/site-packages/sklearn/neighbors/_classification.py:237: FutureWarning: Unlike other reduction functions (e.g. `skew`, `kurtosis`), the default behavior of `mode` typically preserves the axis it acts along. In SciPy 1.11.0, this behavior will change: the default value of `keepdims` will become False, the `axis` over which the statistic is taken will be eliminated, and the value None will no longer be accepted. Set `keepdims` to True or False to avoid this warning.\n",
      "  mode, _ = stats.mode(_y[neigh_ind, k], axis=1)\n",
      "/Users/krish/opt/anaconda3/envs/p1/lib/python3.9/site-packages/sklearn/neighbors/_classification.py:237: FutureWarning: Unlike other reduction functions (e.g. `skew`, `kurtosis`), the default behavior of `mode` typically preserves the axis it acts along. In SciPy 1.11.0, this behavior will change: the default value of `keepdims` will become False, the `axis` over which the statistic is taken will be eliminated, and the value None will no longer be accepted. Set `keepdims` to True or False to avoid this warning.\n",
      "  mode, _ = stats.mode(_y[neigh_ind, k], axis=1)\n"
     ]
    }
   ],
   "metadata": {}
  },
  {
   "cell_type": "code",
   "execution_count": 73,
   "source": [
    "# print the results\n",
    "for name, metrics in results_cv_cat.items():\n",
    "    print(f'Model: {name}')\n",
    "    for metric_name, metric_value in metrics.items():\n",
    "        if metric_name == 'Optimal Hyperparameters':\n",
    "            print(f'{metric_name}: {metric_value}')\n",
    "        else:\n",
    "            print(f'{metric_name}: {metric_value:.4f}')  # Format to 4 decimal places\n",
    "    print('---------------------')"
   ],
   "outputs": [
    {
     "output_type": "stream",
     "name": "stdout",
     "text": [
      "Model: Logistic Regression\n",
      "Accuracy: 0.6875\n",
      "Precision: 0.6932\n",
      "Recall: 0.6875\n",
      "F1 Score: 0.6891\n",
      "Optimal Hyperparameters: {}\n",
      "---------------------\n",
      "Model: Ridge Classifier\n",
      "Accuracy: 0.6875\n",
      "Precision: 0.6835\n",
      "Recall: 0.6875\n",
      "F1 Score: 0.6619\n",
      "Optimal Hyperparameters: {'alpha': 0.001}\n",
      "---------------------\n",
      "Model: K-Nearest Neighbors\n",
      "Accuracy: 0.7188\n",
      "Precision: 0.7414\n",
      "Recall: 0.7188\n",
      "F1 Score: 0.7253\n",
      "Optimal Hyperparameters: {'n_neighbors': 5}\n",
      "---------------------\n",
      "Model: Random Forest Classifier\n",
      "Accuracy: 0.5625\n",
      "Precision: 0.5818\n",
      "Recall: 0.5625\n",
      "F1 Score: 0.5700\n",
      "Optimal Hyperparameters: {'max_depth': None, 'n_estimators': 25}\n",
      "---------------------\n",
      "Model: Gradient Boosting Classifier\n",
      "Accuracy: 0.7188\n",
      "Precision: 0.7381\n",
      "Recall: 0.7188\n",
      "F1 Score: 0.7200\n",
      "Optimal Hyperparameters: {'learning_rate': 0.01, 'n_estimators': 50}\n",
      "---------------------\n",
      "Model: Support Vector Classifier\n",
      "Accuracy: 0.7500\n",
      "Precision: 0.7645\n",
      "Recall: 0.7500\n",
      "F1 Score: 0.7543\n",
      "Optimal Hyperparameters: {'C': 10, 'kernel': 'linear'}\n",
      "---------------------\n"
     ]
    }
   ],
   "metadata": {}
  },
  {
   "cell_type": "markdown",
   "source": [
    "I'm noticing that performance actually got worse for some models. This may have to do with the overfitting problem we talked about. I think there are ways to improve on the cross-validation method used that I've seen before. I'm not entirely sure how to do it but we can look into it."
   ],
   "metadata": {}
  }
 ],
 "metadata": {
  "kernelspec": {
   "name": "python3",
   "display_name": "Python 3.9.16 64-bit ('p1': conda)"
  },
  "language_info": {
   "codemirror_mode": {
    "name": "ipython",
    "version": 3
   },
   "file_extension": ".py",
   "mimetype": "text/x-python",
   "name": "python",
   "nbconvert_exporter": "python",
   "pygments_lexer": "ipython3",
   "version": "3.9.16"
  },
  "interpreter": {
   "hash": "9891dd2d438be72de2270b786bac92a4daa09585b5be24b697ffe452771f3a37"
  }
 },
 "nbformat": 4,
 "nbformat_minor": 2
}